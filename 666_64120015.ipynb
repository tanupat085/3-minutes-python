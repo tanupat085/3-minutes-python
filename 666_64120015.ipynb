{
  "nbformat": 4,
  "nbformat_minor": 0,
  "metadata": {
    "colab": {
      "name": "666_64120015.ipynb",
      "provenance": []
    },
    "kernelspec": {
      "name": "python3",
      "display_name": "Python 3"
    },
    "language_info": {
      "name": "python"
    }
  },
  "cells": [
    {
      "cell_type": "code",
      "source": [
        "import math"
      ],
      "metadata": {
        "id": "fwMJzU16XNX9"
      },
      "execution_count": 22,
      "outputs": []
    },
    {
      "cell_type": "code",
      "source": [
        "from mpmath import *"
      ],
      "metadata": {
        "id": "DzduupleY86s"
      },
      "execution_count": 23,
      "outputs": []
    },
    {
      "cell_type": "code",
      "source": [
        "l = 10\n",
        "l2 = 5\n",
        "px = ( l * math.cos(60) ) + ( l2 * math.cos(70))\n",
        "py = ( l * math.sin(-60) ) + ( l2 * math.sin(-120))\n"
      ],
      "metadata": {
        "id": "Hhn9GfyyYP7l"
      },
      "execution_count": 30,
      "outputs": []
    },
    {
      "cell_type": "code",
      "source": [
        "print(px,py)"
      ],
      "metadata": {
        "colab": {
          "base_uri": "https://localhost:8080/"
        },
        "id": "9gBPIZKUaG3W",
        "outputId": "e8d3955c-7f36-457e-edfe-ffda35181025"
      },
      "execution_count": 31,
      "outputs": [
        {
          "output_type": "stream",
          "name": "stdout",
          "text": [
            "-6.357533788720064 0.14505028996059544\n"
          ]
        }
      ]
    }
  ]
}