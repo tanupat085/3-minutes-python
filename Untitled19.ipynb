{
  "nbformat": 4,
  "nbformat_minor": 0,
  "metadata": {
    "colab": {
      "name": "Untitled19.ipynb",
      "provenance": [],
      "authorship_tag": "ABX9TyMXilNoNQA4ZEKjYK9rvaiS",
      "include_colab_link": true
    },
    "kernelspec": {
      "name": "python3",
      "display_name": "Python 3"
    },
    "language_info": {
      "name": "python"
    }
  },
  "cells": [
    {
      "cell_type": "markdown",
      "metadata": {
        "id": "view-in-github",
        "colab_type": "text"
      },
      "source": [
        "<a href=\"https://colab.research.google.com/github/tanupat085/3-minutes-python/blob/master/Untitled19.ipynb\" target=\"_parent\"><img src=\"https://colab.research.google.com/assets/colab-badge.svg\" alt=\"Open In Colab\"/></a>"
      ]
    },
    {
      "cell_type": "code",
      "execution_count": 2,
      "metadata": {
        "colab": {
          "base_uri": "https://localhost:8080/"
        },
        "id": "b0HdJNpnupVu",
        "outputId": "c4ef4b76-eba6-4c16-e2a1-c9b040703539"
      },
      "outputs": [
        {
          "output_type": "stream",
          "name": "stdout",
          "text": [
            "2\n"
          ]
        }
      ],
      "source": [
        "print(1+1)"
      ]
    },
    {
      "cell_type": "code",
      "source": [
        "bs = 5\n",
        "for i in range(0,bs):\n",
        "  for c in range(i + 1):\n",
        "    print('*',end='')\n",
        "  print()"
      ],
      "metadata": {
        "colab": {
          "base_uri": "https://localhost:8080/"
        },
        "id": "ooUkhZwSvHmS",
        "outputId": "492177a4-f2f9-452e-cf92-f94aeeb18fb1"
      },
      "execution_count": 4,
      "outputs": [
        {
          "output_type": "stream",
          "name": "stdout",
          "text": [
            "*\n",
            "**\n",
            "***\n",
            "****\n",
            "*****\n"
          ]
        }
      ]
    },
    {
      "cell_type": "code",
      "source": [
        "BASE_SIZE = 10\n",
        "ds = BASE_SIZE -1\n",
        "zz = 1\n",
        "for i in range(0,BASE_SIZE):\n",
        "  for a in range(0,ds):\n",
        "    print(' ',end='')\n",
        "  for x in range(0,zz):\n",
        "    print('*' ,end='')\n",
        "  zz = zz + 1\n",
        "  ds = ds - 1\n",
        "  print()\n",
        "    \n",
        "  \n",
        "\n"
      ],
      "metadata": {
        "colab": {
          "base_uri": "https://localhost:8080/"
        },
        "id": "tPmhSkzKvhxj",
        "outputId": "28034d27-1f54-4a2d-91a9-c2eb62053434"
      },
      "execution_count": 72,
      "outputs": [
        {
          "output_type": "stream",
          "name": "stdout",
          "text": [
            "         *\n",
            "        **\n",
            "       ***\n",
            "      ****\n",
            "     *****\n",
            "    ******\n",
            "   *******\n",
            "  ********\n",
            " *********\n",
            "**********\n"
          ]
        }
      ]
    },
    {
      "cell_type": "code",
      "source": [
        "BASE_SIZE = 10\n",
        "rls = BASE_SIZE - 1\n",
        "x = 1\n",
        "for i in range(0,BASE_SIZE):\n",
        "    for i in range(0,rls):\n",
        "        print(' ',end='')\n",
        "    for i in range(0,x):\n",
        "        print('+',end='')\n",
        "    for i in range(0,rls):\n",
        "        print(' ',end='')\n",
        "    x=x+2\n",
        "    rls=rls-1\n",
        "    print()"
      ],
      "metadata": {
        "colab": {
          "base_uri": "https://localhost:8080/"
        },
        "id": "TTvmz68H0OD4",
        "outputId": "dfc26ef6-b6c9-482e-de4a-31e2f1f82c9e"
      },
      "execution_count": 69,
      "outputs": [
        {
          "output_type": "stream",
          "name": "stdout",
          "text": [
            "         +         \n",
            "        +++        \n",
            "       +++++       \n",
            "      +++++++      \n",
            "     +++++++++     \n",
            "    +++++++++++    \n",
            "   +++++++++++++   \n",
            "  +++++++++++++++  \n",
            " +++++++++++++++++ \n",
            "+++++++++++++++++++\n"
          ]
        }
      ]
    }
  ]
}