{
  "nbformat": 4,
  "nbformat_minor": 0,
  "metadata": {
    "colab": {
      "name": "Untitled21.ipynb",
      "provenance": [],
      "authorship_tag": "ABX9TyMYxtBPic7Q38JbHkLBbyMf",
      "include_colab_link": true
    },
    "kernelspec": {
      "name": "python3",
      "display_name": "Python 3"
    },
    "language_info": {
      "name": "python"
    }
  },
  "cells": [
    {
      "cell_type": "markdown",
      "metadata": {
        "id": "view-in-github",
        "colab_type": "text"
      },
      "source": [
        "<a href=\"https://colab.research.google.com/github/tanupat085/3-minutes-python/blob/master/Untitled21.ipynb\" target=\"_parent\"><img src=\"https://colab.research.google.com/assets/colab-badge.svg\" alt=\"Open In Colab\"/></a>"
      ]
    },
    {
      "cell_type": "code",
      "execution_count": 14,
      "metadata": {
        "colab": {
          "base_uri": "https://localhost:8080/"
        },
        "id": "wSFSTOnfPGDK",
        "outputId": "41f729f7-e7e3-4f2c-c877-eb0c3b1ea64e"
      },
      "outputs": [
        {
          "output_type": "stream",
          "name": "stdout",
          "text": [
            "Input a binary string: 1110\n",
            "output = 14\n"
          ]
        }
      ],
      "source": [
        "binary = input(\"Input a binary string: \")\n",
        "output = 0\n",
        "for d in binary:\n",
        "  if d in \"01\":\n",
        "    d = int(d)\n",
        "    output = output *2 +d\n",
        "print(\"output =\",output)"
      ]
    },
    {
      "cell_type": "code",
      "source": [
        "for i in range(100):\n",
        "  for j in range(100):\n",
        "    print(\"*\",end=\"\")\n",
        "    if j % 10 == 0 and j > 50:\n",
        "      print(\"*\")\n",
        "  print(\"#\")"
      ],
      "metadata": {
        "id": "F782BL3iQzId"
      },
      "execution_count": null,
      "outputs": []
    },
    {
      "cell_type": "code",
      "source": [
        "import random as r\n",
        "a = \"ABCDEFGHIJKLMNOPQRSTUVWXYZ\"\n",
        "p = r.choice(a) + r.choice(a).lower() + str(r.randint(1000,9999))\n",
        "print(\"password =\" , p)"
      ],
      "metadata": {
        "colab": {
          "base_uri": "https://localhost:8080/"
        },
        "id": "0tkDKUocRxpz",
        "outputId": "edce538e-a824-4ff4-d626-5157c79ddfe7"
      },
      "execution_count": 19,
      "outputs": [
        {
          "output_type": "stream",
          "name": "stdout",
          "text": [
            "password = Zu6208\n"
          ]
        }
      ]
    },
    {
      "cell_type": "code",
      "source": [
        "n = input(\"n=?\")\n",
        "numeric = True\n",
        "for c in n:\n",
        "  if not(c in \"0123456789\"):\n",
        "    numeric = False\n",
        "if numeric:\n",
        "  print(n, \" can be cinverted into an integer\")"
      ],
      "metadata": {
        "colab": {
          "base_uri": "https://localhost:8080/"
        },
        "id": "r1-yJSojSl53",
        "outputId": "6edb3ffe-6fcf-4d3c-91a5-57581c3dd1ae"
      },
      "execution_count": 25,
      "outputs": [
        {
          "name": "stdout",
          "output_type": "stream",
          "text": [
            "n=?8698423fa]\n"
          ]
        }
      ]
    },
    {
      "cell_type": "code",
      "source": [
        "a,b = input(\"a, b =\").split()\n",
        "a,b = bool(a),bool(b)\n",
        "if a and b:\n",
        "  print(\"1 1\")\n",
        "elif a or b:\n",
        "  print(\"1 0, 0 1\")\n",
        "else:\n",
        "  print(\"0 0 \")"
      ],
      "metadata": {
        "colab": {
          "base_uri": "https://localhost:8080/"
        },
        "id": "rBF50UoQTY6j",
        "outputId": "b28c0045-7f5a-4c0f-a33c-3b9c119a7b78"
      },
      "execution_count": 30,
      "outputs": [
        {
          "output_type": "stream",
          "name": "stdout",
          "text": [
            "a, b =1 0\n",
            "1 1\n"
          ]
        }
      ]
    },
    {
      "cell_type": "code",
      "source": [
        "import math\n",
        "n = input(\"n=?\");n = int(n)\n",
        "# m = math.ceil(math.sqrt(n))\n",
        "m = int(n**0.5)\n",
        "# m = math.fabs(math.sqrt(n))\n",
        "if n == m*(m+1):\n",
        "  print(n,\"=\",m,\"*\",m+1)\n"
      ],
      "metadata": {
        "colab": {
          "base_uri": "https://localhost:8080/"
        },
        "id": "qWaKoG7UUFQs",
        "outputId": "1ad2c7f3-1b89-495f-b72f-c4644f2f7a7a"
      },
      "execution_count": 35,
      "outputs": [
        {
          "output_type": "stream",
          "name": "stdout",
          "text": [
            "n=?20\n",
            "20 = 4 * 5\n"
          ]
        }
      ]
    },
    {
      "cell_type": "code",
      "source": [
        "n = input(\"\")\n",
        "if n.isnumeric():\n",
        "  n = int(n)\n",
        "  for i in range(n):\n",
        "    for j in range(i+1):\n",
        "      print(\"=\",end=\" \")\n",
        "    print()\n",
        "else:\n",
        "  print(\"invalid input\")"
      ],
      "metadata": {
        "colab": {
          "base_uri": "https://localhost:8080/"
        },
        "id": "diI-o_TPVZYc",
        "outputId": "39bccac2-8dbd-4c50-c9ed-10d4cc226b37"
      },
      "execution_count": 45,
      "outputs": [
        {
          "output_type": "stream",
          "name": "stdout",
          "text": [
            "12\n",
            "= \n",
            "= = \n",
            "= = = \n",
            "= = = = \n",
            "= = = = = \n",
            "= = = = = = \n",
            "= = = = = = = \n",
            "= = = = = = = = \n",
            "= = = = = = = = = \n",
            "= = = = = = = = = = \n",
            "= = = = = = = = = = = \n",
            "= = = = = = = = = = = = \n"
          ]
        }
      ]
    },
    {
      "cell_type": "code",
      "source": [
        "print()"
      ],
      "metadata": {
        "colab": {
          "base_uri": "https://localhost:8080/"
        },
        "id": "-_SCejhGWD_s",
        "outputId": "5770920c-fa3f-4354-ce0d-e8fa0d869023"
      },
      "execution_count": 44,
      "outputs": [
        {
          "output_type": "stream",
          "name": "stdout",
          "text": [
            "\n"
          ]
        }
      ]
    },
    {
      "cell_type": "code",
      "source": [
        "n = input(\"n=?\");n = int(n)\n",
        "s = 0\n",
        "for i in range(n):\n",
        "  for j in range(n,i):\n",
        "    s=s+i*j\n",
        "print(s)"
      ],
      "metadata": {
        "colab": {
          "base_uri": "https://localhost:8080/"
        },
        "id": "m8tm5IJBWLE5",
        "outputId": "6ea4c707-6415-4c7f-b808-8363bc566271"
      },
      "execution_count": 51,
      "outputs": [
        {
          "output_type": "stream",
          "name": "stdout",
          "text": [
            "n=?100\n",
            "0\n"
          ]
        }
      ]
    },
    {
      "cell_type": "code",
      "source": [
        "x = 1.25\n",
        "math.floor(x)"
      ],
      "metadata": {
        "colab": {
          "base_uri": "https://localhost:8080/"
        },
        "id": "c1oSGY-yW0Mk",
        "outputId": "3b284b49-1734-44b3-b661-3840807dd696"
      },
      "execution_count": 53,
      "outputs": [
        {
          "output_type": "execute_result",
          "data": {
            "text/plain": [
              "2"
            ]
          },
          "metadata": {},
          "execution_count": 53
        }
      ]
    },
    {
      "cell_type": "code",
      "source": [
        "math.ceil(x)"
      ],
      "metadata": {
        "colab": {
          "base_uri": "https://localhost:8080/"
        },
        "id": "4Jt_PDtcW6qt",
        "outputId": "357c8cb9-a886-42cc-dc92-d80c17c574e9"
      },
      "execution_count": 54,
      "outputs": [
        {
          "output_type": "execute_result",
          "data": {
            "text/plain": [
              "2"
            ]
          },
          "metadata": {},
          "execution_count": 54
        }
      ]
    },
    {
      "cell_type": "code",
      "source": [
        "float(x)"
      ],
      "metadata": {
        "colab": {
          "base_uri": "https://localhost:8080/"
        },
        "id": "Mx4Tp53_W8d7",
        "outputId": "e25d10f6-d82a-4a69-81dc-fd61457dee0f"
      },
      "execution_count": 55,
      "outputs": [
        {
          "output_type": "execute_result",
          "data": {
            "text/plain": [
              "1.25"
            ]
          },
          "metadata": {},
          "execution_count": 55
        }
      ]
    },
    {
      "cell_type": "code",
      "source": [
        "str(x)"
      ],
      "metadata": {
        "colab": {
          "base_uri": "https://localhost:8080/",
          "height": 36
        },
        "id": "YCvOjkrDW_7X",
        "outputId": "5d5d1e83-8f37-4eb1-d065-cc209fbe4d43"
      },
      "execution_count": 56,
      "outputs": [
        {
          "output_type": "execute_result",
          "data": {
            "application/vnd.google.colaboratory.intrinsic+json": {
              "type": "string"
            },
            "text/plain": [
              "'1.25'"
            ]
          },
          "metadata": {},
          "execution_count": 56
        }
      ]
    },
    {
      "cell_type": "code",
      "source": [
        "n,m = input(\"n, m=?\").split()\n",
        "n,m = int(n),int(m)\n",
        "s = 1\n",
        "for i in range(n,m):\n",
        "  for j in range(m,n):\n",
        "    s=s*m**n\n",
        "print(s)"
      ],
      "metadata": {
        "colab": {
          "base_uri": "https://localhost:8080/"
        },
        "id": "XVN856B5XCNC",
        "outputId": "39d6f5ac-0882-4ff3-a3f2-ea9b23a334fc"
      },
      "execution_count": 63,
      "outputs": [
        {
          "output_type": "stream",
          "name": "stdout",
          "text": [
            "n, m=?3 1\n",
            "1\n"
          ]
        }
      ]
    },
    {
      "cell_type": "code",
      "source": [
        "for i in[1,10,2]:\n",
        "  for j in range(i):\n",
        "    print(\"*\",end=\"\")\n",
        "  print()"
      ],
      "metadata": {
        "colab": {
          "base_uri": "https://localhost:8080/"
        },
        "id": "8n69KBh_YUMP",
        "outputId": "71d9e842-eb5d-4f88-ab37-df0534d5eaca"
      },
      "execution_count": 64,
      "outputs": [
        {
          "output_type": "stream",
          "name": "stdout",
          "text": [
            "*\n",
            "**********\n",
            "**\n"
          ]
        }
      ]
    },
    {
      "cell_type": "code",
      "source": [
        "n = input(\"n=?\");n = int(n)\n",
        "p=1\n",
        "for i in range(1,n+1):\n",
        "  p=p*i\n",
        "print(\"n!=\",p)"
      ],
      "metadata": {
        "colab": {
          "base_uri": "https://localhost:8080/"
        },
        "id": "BQRb1znZYi6N",
        "outputId": "4bee9652-2ed4-4921-fa5e-e8b0eb055f77"
      },
      "execution_count": 67,
      "outputs": [
        {
          "output_type": "stream",
          "name": "stdout",
          "text": [
            "n=?10\n",
            "n!= 3628800\n"
          ]
        }
      ]
    },
    {
      "cell_type": "code",
      "source": [
        "n=input(\"input:\")\n",
        "if n.isnumeric():\n",
        "  n=int(n)\n",
        "  for i in range(10):\n",
        "    d=n%10\n",
        "    if d> 5:\n",
        "      print(d,end=\"\")\n",
        "    n //=10\n",
        "  print()\n",
        "else:\n",
        "  print(\"invalid input\")"
      ],
      "metadata": {
        "colab": {
          "base_uri": "https://localhost:8080/"
        },
        "id": "NZH7rGPTZQIz",
        "outputId": "265058a2-97a8-4849-940d-349a5b108b55"
      },
      "execution_count": 70,
      "outputs": [
        {
          "output_type": "stream",
          "name": "stdout",
          "text": [
            "input:6422780385\n",
            "8876\n"
          ]
        }
      ]
    },
    {
      "cell_type": "code",
      "source": [
        "p = a = 0\n",
        "print(a)\n",
        "print(p)"
      ],
      "metadata": {
        "colab": {
          "base_uri": "https://localhost:8080/"
        },
        "id": "oEw72Yd-Z2nR",
        "outputId": "5e843e9d-1ba1-4112-a829-5866fed76f4e"
      },
      "execution_count": 71,
      "outputs": [
        {
          "output_type": "stream",
          "name": "stdout",
          "text": [
            "0\n",
            "0\n"
          ]
        }
      ]
    },
    {
      "cell_type": "code",
      "source": [
        "n = input(\"input:\")\n",
        "p=q=0\n",
        "for c in n:\n",
        "  if c.isalpha():\n",
        "    p+=1\n",
        "  elif c.isnumeric():\n",
        "    q+=1\n",
        "print(\"output =\",p==q)"
      ],
      "metadata": {
        "colab": {
          "base_uri": "https://localhost:8080/"
        },
        "id": "npyG8j9Tai6U",
        "outputId": "cd632fb4-9748-4b49-82d4-9df87a873c1b"
      },
      "execution_count": 75,
      "outputs": [
        {
          "output_type": "stream",
          "name": "stdout",
          "text": [
            "input:a4\n",
            "output = True\n"
          ]
        }
      ]
    },
    {
      "cell_type": "code",
      "source": [
        "x=\"test\"\n",
        "print(x-5)"
      ],
      "metadata": {
        "colab": {
          "base_uri": "https://localhost:8080/",
          "height": 189
        },
        "id": "EbbxPxmwfEfm",
        "outputId": "a4d93354-8151-454b-8226-773ff1ca2863"
      },
      "execution_count": 78,
      "outputs": [
        {
          "output_type": "error",
          "ename": "TypeError",
          "evalue": "ignored",
          "traceback": [
            "\u001b[0;31m---------------------------------------------------------------------------\u001b[0m",
            "\u001b[0;31mTypeError\u001b[0m                                 Traceback (most recent call last)",
            "\u001b[0;32m<ipython-input-78-1de6e3535fe2>\u001b[0m in \u001b[0;36m<module>\u001b[0;34m()\u001b[0m\n\u001b[1;32m      1\u001b[0m \u001b[0mx\u001b[0m\u001b[0;34m=\u001b[0m\u001b[0;34m\"test\"\u001b[0m\u001b[0;34m\u001b[0m\u001b[0;34m\u001b[0m\u001b[0m\n\u001b[0;32m----> 2\u001b[0;31m \u001b[0mprint\u001b[0m\u001b[0;34m(\u001b[0m\u001b[0mx\u001b[0m\u001b[0;34m-\u001b[0m\u001b[0;36m5\u001b[0m\u001b[0;34m)\u001b[0m\u001b[0;34m\u001b[0m\u001b[0;34m\u001b[0m\u001b[0m\n\u001b[0m",
            "\u001b[0;31mTypeError\u001b[0m: unsupported operand type(s) for -: 'str' and 'int'"
          ]
        }
      ]
    },
    {
      "cell_type": "code",
      "source": [
        "n = input(\"input:\")\n",
        "if n.isnumeric():\n",
        "  n = int(n)\n",
        "  x = ((-1)*n[-1])/( ((n[-1])**(1+1))*(b**(1-1)) )"
      ],
      "metadata": {
        "colab": {
          "base_uri": "https://localhost:8080/"
        },
        "id": "ufBnzJYvgc_x",
        "outputId": "0804fe85-1749-4a20-b08e-66c449196cb0"
      },
      "execution_count": 80,
      "outputs": [
        {
          "output_type": "stream",
          "name": "stdout",
          "text": [
            "input:2134\n",
            "3\n"
          ]
        }
      ]
    },
    {
      "cell_type": "code",
      "source": [
        "print(\"hello\" * 4)\n",
        "print((\"hello\" + \"world_\") * 4)"
      ],
      "metadata": {
        "colab": {
          "base_uri": "https://localhost:8080/"
        },
        "id": "TinXlhpDh3Bf",
        "outputId": "594e747e-0d16-498c-ba95-e8c7acb026b5"
      },
      "execution_count": 85,
      "outputs": [
        {
          "output_type": "stream",
          "name": "stdout",
          "text": [
            "hellohellohellohello\n",
            "helloworld_helloworld_helloworld_helloworld_\n"
          ]
        }
      ]
    },
    {
      "cell_type": "code",
      "source": [
        "n = int(input(\"input: \"))\n",
        "\n",
        "for i in range(n):\n",
        "  for j in range(n*2):\n",
        "    if (i == 0 or i == (n-1) or j == 0 or j == ((n*2)-1) ) :\n",
        "      print('*',end=' ')\n",
        "    else:\n",
        "      print(\"-\",end=\" \")\n",
        "  print()"
      ],
      "metadata": {
        "colab": {
          "base_uri": "https://localhost:8080/"
        },
        "id": "-QGTQV1VjqSX",
        "outputId": "241c2db7-e1c8-425a-f3dc-139694673081"
      },
      "execution_count": 114,
      "outputs": [
        {
          "output_type": "stream",
          "name": "stdout",
          "text": [
            "input: 7\n",
            "* * * * * * * * * * * * * * \n",
            "* - - - - - - - - - - - - * \n",
            "* - - - - - - - - - - - - * \n",
            "* - - - - - - - - - - - - * \n",
            "* - - - - - - - - - - - - * \n",
            "* - - - - - - - - - - - - * \n",
            "* * * * * * * * * * * * * * \n"
          ]
        }
      ]
    }
  ]
}