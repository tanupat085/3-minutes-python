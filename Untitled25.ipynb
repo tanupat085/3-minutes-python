{
  "nbformat": 4,
  "nbformat_minor": 0,
  "metadata": {
    "colab": {
      "name": "Untitled25.ipynb",
      "provenance": [],
      "authorship_tag": "ABX9TyM6+OfAK1yEbDtkbsYWxT6q",
      "include_colab_link": true
    },
    "kernelspec": {
      "name": "python3",
      "display_name": "Python 3"
    },
    "language_info": {
      "name": "python"
    }
  },
  "cells": [
    {
      "cell_type": "markdown",
      "metadata": {
        "id": "view-in-github",
        "colab_type": "text"
      },
      "source": [
        "<a href=\"https://colab.research.google.com/github/tanupat085/3-minutes-python/blob/master/Untitled25.ipynb\" target=\"_parent\"><img src=\"https://colab.research.google.com/assets/colab-badge.svg\" alt=\"Open In Colab\"/></a>"
      ]
    },
    {
      "cell_type": "code",
      "source": [
        "def funcc(a,b,c):\n",
        "  print(\" ตัวเลขที่นำเข้ามา : \" , a)\n",
        "  print(\" ตัวเลขคี่ : \", b)\n",
        "  print(\" ตัวเลขคู่ : \",c)\n",
        "x1 = []\n",
        "x2 = []\n",
        "x3 = []\n",
        "intx = []\n",
        "for i in range(0,10):\n",
        "  y = int(input(\"ใส่ตัวเลข : \"))\n",
        "  intx.append(y)\n",
        "x1 = intx\n",
        "for i in x1 :\n",
        "  if i % 2 != 0 :\n",
        "    x2.append(i)\n",
        "  else :\n",
        "    x3.append(i)\n",
        "x = (x1,x2,x3)\n",
        "funcc(*x)"
      ],
      "metadata": {
        "colab": {
          "base_uri": "https://localhost:8080/"
        },
        "id": "dcMZLuGMGHkM",
        "outputId": "fa654ec8-ac88-44a0-ecaf-0272588be342"
      },
      "execution_count": 54,
      "outputs": [
        {
          "output_type": "stream",
          "name": "stdout",
          "text": [
            "ใส่ตัวเลข : 32\n",
            "ใส่ตัวเลข : 12\n",
            "ใส่ตัวเลข : 45\n",
            "ใส่ตัวเลข : 65\n",
            "ใส่ตัวเลข : 23\n",
            "ใส่ตัวเลข : 87\n",
            "ใส่ตัวเลข : 89\n",
            "ใส่ตัวเลข : 45\n",
            "ใส่ตัวเลข : 2\n",
            "ใส่ตัวเลข : 12\n",
            " ตัวเลขที่นำเข้ามา :  [32, 12, 45, 65, 23, 87, 89, 45, 2, 12]\n",
            " ตัวเลขคี่ :  [45, 65, 23, 87, 89, 45]\n",
            " ตัวเลขคู่ :  [32, 12, 2, 12]\n"
          ]
        }
      ]
    }
  ]
}