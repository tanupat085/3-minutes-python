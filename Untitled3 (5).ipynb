{
  "nbformat": 4,
  "nbformat_minor": 0,
  "metadata": {
    "colab": {
      "name": "Untitled3.ipynb",
      "provenance": []
    },
    "kernelspec": {
      "name": "python3",
      "display_name": "Python 3"
    },
    "language_info": {
      "name": "python"
    }
  },
  "cells": [
    {
      "cell_type": "code",
      "execution_count": 2,
      "metadata": {
        "colab": {
          "base_uri": "https://localhost:8080/"
        },
        "id": "sHD2QiSzIf8J",
        "outputId": "8eb74ff5-a78f-483a-d493-9516bf0ae073"
      },
      "outputs": [
        {
          "output_type": "stream",
          "name": "stdout",
          "text": [
            "temp insert : 14\n",
            "temp : fine\n",
            "status :  GREEN LED\n"
          ]
        }
      ],
      "source": [
        "n = int(input('temp insert : '))   # รับค่ามาเป็น integer (จำนวนเต็ม)\n",
        "if n > 30 :         # หากค่ามากกว่า 30 เข้าเงื่อนไขแรก\n",
        "  print('temp : hot')\n",
        "  print('status :  RED LED')\n",
        "elif n > 20 and n <= 30 :  # หากค่ามากกว่า 20 และ น้อยกว่าเท่ากับ30  เข้าเงื่อนที่สอง\n",
        "  print('temp : warm')\n",
        "  print('status :   YELLOW LED')\n",
        "elif n > 10 and n <= 20 :  # หากค่ามากกว่า 10 และ น้อยกว่าเท่ากับ 20 เข้าเงื่อนที่สาม\n",
        "  print('temp : fine')\n",
        "  print('status :  GREEN LED')\n",
        "else :                # หากนอกจากเงื่อนไขด้านบนทั้งหมด จะเข้าเงื่อนไขนี้ (else)\n",
        "  print('temp : cold')\n",
        "  print('status :  WHITE LED')"
      ]
    }
  ]
}