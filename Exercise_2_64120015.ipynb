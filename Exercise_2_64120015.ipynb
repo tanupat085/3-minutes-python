{
  "cells": [
    {
      "cell_type": "markdown",
      "metadata": {
        "id": "view-in-github",
        "colab_type": "text"
      },
      "source": [
        "<a href=\"https://colab.research.google.com/github/tanupat085/3-minutes-python/blob/master/Exercise_2_64120015.ipynb\" target=\"_parent\"><img src=\"https://colab.research.google.com/assets/colab-badge.svg\" alt=\"Open In Colab\"/></a>"
      ]
    },
    {
      "cell_type": "markdown",
      "metadata": {
        "id": "C3lWoWKq3oGy"
      },
      "source": [
        "# 7 หาค่าเฉลี่ยจาก list นี้ n = [3,5,7,9,11,14]"
      ]
    },
    {
      "cell_type": "code",
      "execution_count": 2,
      "metadata": {
        "colab": {
          "base_uri": "https://localhost:8080/"
        },
        "id": "uAx2Bxvg3oG7",
        "outputId": "f75195a7-cfcb-4b5a-a20c-c79bc1adca0b"
      },
      "outputs": [
        {
          "output_type": "stream",
          "name": "stdout",
          "text": [
            "8.166666666666666\n"
          ]
        }
      ],
      "source": [
        "n = [3,5,7,9,11,14]\n",
        "sum = 0\n",
        "for i in n:\n",
        "  sum = sum + i\n",
        "\n",
        "avg = sum / len(n)\n",
        "\n",
        "print(avg)"
      ]
    },
    {
      "cell_type": "markdown",
      "metadata": {
        "id": "5lC25aSU3oG8"
      },
      "source": [
        "# 8 รับค่ามาค่าแรกคือจำนวนที่จะใส่ ต่อมา คือตัวเลขที่ใส่มา และให้เก็บมาอยู่ในตัวแปรแบบ list ต่อมาให้คำนวน ผลรวม และ ค่าเฉลี่ยของตัวเลขที่ใส่มาทั้งหมดจากตัวแปรใน list"
      ]
    },
    {
      "cell_type": "code",
      "execution_count": 7,
      "metadata": {
        "colab": {
          "base_uri": "https://localhost:8080/"
        },
        "id": "6gGuoHis3oG9",
        "outputId": "70b93c3d-1ff4-47b7-d5a6-355bb3af4be1"
      },
      "outputs": [
        {
          "output_type": "stream",
          "name": "stdout",
          "text": [
            " quantity :4\n",
            "number : 1\n",
            "number : 2\n",
            "number : 3\n",
            "number : 4\n",
            "[1, 2, 3, 4]\n",
            "sum :  10\n",
            "avg :  1.6666666666666667\n"
          ]
        }
      ],
      "source": [
        "a = int(input(\" quantity :\"))\n",
        "b = []\n",
        "for i in range(0,a):\n",
        "  bb = int(input(\"number : \"))\n",
        "  b.append(bb)\n",
        "print(b)\n",
        "sum = 0\n",
        "for i in b:\n",
        "  sum = sum + i\n",
        "\n",
        "avg = sum / len(n)\n",
        "print(\"sum : \" ,sum)\n",
        "print(\"avg : \" ,avg)"
      ]
    },
    {
      "cell_type": "markdown",
      "metadata": {
        "id": "FS7TlfSh3oG9"
      },
      "source": [
        "# 9 Arithmatic ให้รับค่าตัวเลขมาสองตัว แล้ว มาทำการ บวก ลบ คูณ หาร หารเอาเศษ และหารเอาส่วน"
      ]
    },
    {
      "cell_type": "code",
      "execution_count": 8,
      "metadata": {
        "colab": {
          "base_uri": "https://localhost:8080/"
        },
        "id": "cvuF62Z33oG-",
        "outputId": "66a2ab77-cd48-4464-91f4-5fcfdbef4c40"
      },
      "outputs": [
        {
          "output_type": "stream",
          "name": "stdout",
          "text": [
            "1st number :4\n",
            "2nd number :5\n",
            "9\n",
            "-1\n",
            "20\n",
            "0.8\n",
            "4\n"
          ]
        }
      ],
      "source": [
        "a = int(input(\"1st number :\"))\n",
        "b = int(input(\"2nd number :\"))\n",
        "print(a+b)\n",
        "print(a-b)\n",
        "print(a*b)\n",
        "print(a/b)\n",
        "print(a%b)"
      ]
    },
    {
      "cell_type": "markdown",
      "metadata": {
        "id": "z8vtXVAk3oG-"
      },
      "source": [
        "# 10 ให้รับค่าตัวเลขมา แล้วบอกว่าตัวเลขนั้นเป็น เลขคู่ หรือ เลขคี่"
      ]
    },
    {
      "cell_type": "code",
      "execution_count": 12,
      "metadata": {
        "colab": {
          "base_uri": "https://localhost:8080/"
        },
        "id": "2rtza_YL3oG_",
        "outputId": "559a4d93-e677-43dd-a76f-3fb28701c742"
      },
      "outputs": [
        {
          "output_type": "stream",
          "name": "stdout",
          "text": [
            "number :3\n",
            "a is odd number\n"
          ]
        }
      ],
      "source": [
        "a = int(input(\"number :\"))\n",
        "if a%2 == 0:\n",
        "  print(\"a is even number\")\n",
        "else:\n",
        "  print(\"a is odd number\")"
      ]
    },
    {
      "cell_type": "markdown",
      "metadata": {
        "id": "e2gyQiP83oG_"
      },
      "source": [
        "# 11. list แล้ว append  ค่าตั้งแต่ 0 ถึง 500  หลังจากนั้นให้ตรวจสอบว่า ถ้าค่าสมาชิกตัวใดมีค่าที่หารด้วย 3 หรือ 7 ลงตัว ให้เปลี่ยนค่านั้นเป็น 21"
      ]
    },
    {
      "cell_type": "code",
      "execution_count": 18,
      "metadata": {
        "colab": {
          "base_uri": "https://localhost:8080/"
        },
        "id": "lhR-Ecus3oHA",
        "outputId": "d2eb591a-32a0-4727-8e6e-507f77e5518a"
      },
      "outputs": [
        {
          "output_type": "stream",
          "name": "stdout",
          "text": [
            "[27, 1, 2, 27, 4, 5, 27, 27, 8, 27, 10, 11, 27, 13, 27, 27, 16, 17, 27, 19, 20, 27, 22, 23, 27, 25, 26, 27, 27, 29, 27, 31, 32, 27, 34, 27, 27, 37, 38, 27, 40, 41, 27, 43, 44, 27, 46, 47, 27, 27, 50, 27, 52, 53, 27, 55, 27, 27, 58, 59, 27, 61, 62, 27, 64, 65, 27, 67, 68, 27, 27, 71, 27, 73, 74, 27, 76, 27, 27, 79, 80, 27, 82, 83, 27, 85, 86, 27, 88, 89, 27, 27, 92, 27, 94, 95, 27, 97, 27, 27, 100, 101, 27, 103, 104, 27, 106, 107, 27, 109, 110, 27, 27, 113, 27, 115, 116, 27, 118, 27, 27, 121, 122, 27, 124, 125, 27, 127, 128, 27, 130, 131, 27, 27, 134, 27, 136, 137, 27, 139, 27, 27, 142, 143, 27, 145, 146, 27, 148, 149, 27, 151, 152, 27, 27, 155, 27, 157, 158, 27, 160, 27, 27, 163, 164, 27, 166, 167, 27, 169, 170, 27, 172, 173, 27, 27, 176, 27, 178, 179, 27, 181, 27, 27, 184, 185, 27, 187, 188, 27, 190, 191, 27, 193, 194, 27, 27, 197, 27, 199, 200, 27, 202, 27, 27, 205, 206, 27, 208, 209, 27, 211, 212, 27, 214, 215, 27, 27, 218, 27, 220, 221, 27, 223, 27, 27, 226, 227, 27, 229, 230, 27, 232, 233, 27, 235, 236, 27, 27, 239, 27, 241, 242, 27, 244, 27, 27, 247, 248, 27, 250, 251, 27, 253, 254, 27, 256, 257, 27, 27, 260, 27, 262, 263, 27, 265, 27, 27, 268, 269, 27, 271, 272, 27, 274, 275, 27, 277, 278, 27, 27, 281, 27, 283, 284, 27, 286, 27, 27, 289, 290, 27, 292, 293, 27, 295, 296, 27, 298, 299, 27, 27, 302, 27, 304, 305, 27, 307, 27, 27, 310, 311, 27, 313, 314, 27, 316, 317, 27, 319, 320, 27, 27, 323, 27, 325, 326, 27, 328, 27, 27, 331, 332, 27, 334, 335, 27, 337, 338, 27, 340, 341, 27, 27, 344, 27, 346, 347, 27, 349, 27, 27, 352, 353, 27, 355, 356, 27, 358, 359, 27, 361, 362, 27, 27, 365, 27, 367, 368, 27, 370, 27, 27, 373, 374, 27, 376, 377, 27, 379, 380, 27, 382, 383, 27, 27, 386, 27, 388, 389, 27, 391, 27, 27, 394, 395, 27, 397, 398, 27, 400, 401, 27, 403, 404, 27, 27, 407, 27, 409, 410, 27, 412, 27, 27, 415, 416, 27, 418, 419, 27, 421, 422, 27, 424, 425, 27, 27, 428, 27, 430, 431, 27, 433, 27, 27, 436, 437, 27, 439, 440, 27, 442, 443, 27, 445, 446, 27, 27, 449, 27, 451, 452, 27, 454, 27, 27, 457, 458, 27, 460, 461, 27, 463, 464, 27, 466, 467, 27, 27, 470, 27, 472, 473, 27, 475, 27, 27, 478, 479, 27, 481, 482, 27, 484, 485, 27, 487, 488, 27, 27, 491, 27, 493, 494, 27, 496, 27, 27, 499, 500]\n"
          ]
        }
      ],
      "source": [
        "a= []\n",
        "b= []\n",
        "for i in range(0,501):\n",
        "  a.append(i)\n",
        "for x in a:\n",
        "  if x % 3 == 0 or x % 7 == 0 :\n",
        "    x = 21\n",
        "  b.append(x)\n",
        "print(b)"
      ]
    },
    {
      "cell_type": "markdown",
      "metadata": {
        "id": "_fwZ5idC3oHB"
      },
      "source": [
        "# 12 สร้าง empty list แล้ว append  ค่าตั้งแต่ 0 ถึง 500  หลังจากนั้นให้ตรวจสอบว่า ถ้าค่าสมาชิกตัวใดมีค่าที่หารด้วย 3 หรือ 7 ลงตัว ให้เปลี่ยนค่านั้นเป็น 21"
      ]
    },
    {
      "cell_type": "code",
      "execution_count": 19,
      "metadata": {
        "colab": {
          "base_uri": "https://localhost:8080/"
        },
        "id": "xFufTLCL3oHB",
        "outputId": "d5b70698-4569-4d0e-8339-0b7b3f769aa2"
      },
      "outputs": [
        {
          "output_type": "stream",
          "name": "stdout",
          "text": [
            "[21, 1, 2, 21, 4, 5, 21, 21, 8, 21, 10, 11, 21, 13, 21, 21, 16, 17, 21, 19, 20, 21, 22, 23, 21, 25, 26, 21, 21, 29, 21, 31, 32, 21, 34, 21, 21, 37, 38, 21, 40, 41, 21, 43, 44, 21, 46, 47, 21, 21, 50, 21, 52, 53, 21, 55, 21, 21, 58, 59, 21, 61, 62, 21, 64, 65, 21, 67, 68, 21, 21, 71, 21, 73, 74, 21, 76, 21, 21, 79, 80, 21, 82, 83, 21, 85, 86, 21, 88, 89, 21, 21, 92, 21, 94, 95, 21, 97, 21, 21, 100, 101, 21, 103, 104, 21, 106, 107, 21, 109, 110, 21, 21, 113, 21, 115, 116, 21, 118, 21, 21, 121, 122, 21, 124, 125, 21, 127, 128, 21, 130, 131, 21, 21, 134, 21, 136, 137, 21, 139, 21, 21, 142, 143, 21, 145, 146, 21, 148, 149, 21, 151, 152, 21, 21, 155, 21, 157, 158, 21, 160, 21, 21, 163, 164, 21, 166, 167, 21, 169, 170, 21, 172, 173, 21, 21, 176, 21, 178, 179, 21, 181, 21, 21, 184, 185, 21, 187, 188, 21, 190, 191, 21, 193, 194, 21, 21, 197, 21, 199, 200, 21, 202, 21, 21, 205, 206, 21, 208, 209, 21, 211, 212, 21, 214, 215, 21, 21, 218, 21, 220, 221, 21, 223, 21, 21, 226, 227, 21, 229, 230, 21, 232, 233, 21, 235, 236, 21, 21, 239, 21, 241, 242, 21, 244, 21, 21, 247, 248, 21, 250, 251, 21, 253, 254, 21, 256, 257, 21, 21, 260, 21, 262, 263, 21, 265, 21, 21, 268, 269, 21, 271, 272, 21, 274, 275, 21, 277, 278, 21, 21, 281, 21, 283, 284, 21, 286, 21, 21, 289, 290, 21, 292, 293, 21, 295, 296, 21, 298, 299, 21, 21, 302, 21, 304, 305, 21, 307, 21, 21, 310, 311, 21, 313, 314, 21, 316, 317, 21, 319, 320, 21, 21, 323, 21, 325, 326, 21, 328, 21, 21, 331, 332, 21, 334, 335, 21, 337, 338, 21, 340, 341, 21, 21, 344, 21, 346, 347, 21, 349, 21, 21, 352, 353, 21, 355, 356, 21, 358, 359, 21, 361, 362, 21, 21, 365, 21, 367, 368, 21, 370, 21, 21, 373, 374, 21, 376, 377, 21, 379, 380, 21, 382, 383, 21, 21, 386, 21, 388, 389, 21, 391, 21, 21, 394, 395, 21, 397, 398, 21, 400, 401, 21, 403, 404, 21, 21, 407, 21, 409, 410, 21, 412, 21, 21, 415, 416, 21, 418, 419, 21, 421, 422, 21, 424, 425, 21, 21, 428, 21, 430, 431, 21, 433, 21, 21, 436, 437, 21, 439, 440, 21, 442, 443, 21, 445, 446, 21, 21, 449, 21, 451, 452, 21, 454, 21, 21, 457, 458, 21, 460, 461, 21, 463, 464, 21, 466, 467, 21, 21, 470, 21, 472, 473, 21, 475, 21, 21, 478, 479, 21, 481, 482, 21, 484, 485, 21, 487, 488, 21, 21, 491, 21, 493, 494, 21, 496, 21, 21, 499, 500]\n"
          ]
        }
      ],
      "source": [
        "a= []\n",
        "b= []\n",
        "for i in range(0,501):\n",
        "  a.append(i)\n",
        "for x in a:\n",
        "  if x % 3 == 0 or x % 7 == 0 :\n",
        "    x = 21\n",
        "  b.append(x)\n",
        "print(b)"
      ]
    },
    {
      "cell_type": "markdown",
      "metadata": {
        "id": "t_gtAfiA3oHB"
      },
      "source": [
        "# 13 ให้รับค่าน้ำหนัก และส่วนสูง แล้ว คำนวนค่า BMI จากสูตร BMI = น้ำหนักตัว(กก) หารด้วย ส่วนสูง(เมตร) ยกกำลังสอง\n",
        "           \n",
        "           สำหรับค่านี้กำหนดโดยองค์การอนามัยโลก (WHO)\n",
        " \n",
        "           ค่าที่ได้น้อยกว่า 18.5 >>>> คุณผอมเกินไป\n",
        "\n",
        "           ค่าที่ได้อยู่ระหว่าง 18.5-24.9 >>> คุณอยู่เกณฑ์เหมาะสม น้ำหนักตัวปกติ\n",
        "\n",
        "           ค่าที่ได้อยู่ระหว่าง 25-29.9 >>> คุณน้ำหนักเกิน แต่ยังไม่เรียกว่าอ้วน\n",
        "\n",
        "           ค่าที่ได้อยู่ระหว่าง 30-39.9 >>> คุณอ้วนแล้ว !\n",
        "\n",
        "           ค่าที่ได้มากกว่าหรือเท่ากับ 40 >>> คุณอ้วนเกินไป อันตรายมาก !!!"
      ]
    },
    {
      "cell_type": "code",
      "execution_count": 26,
      "metadata": {
        "colab": {
          "base_uri": "https://localhost:8080/"
        },
        "id": "bRLlOmwC3oHC",
        "outputId": "ab37a07c-6606-49b6-d149-084fc885c009"
      },
      "outputs": [
        {
          "output_type": "stream",
          "name": "stdout",
          "text": [
            "น้ำหนัก :70\n",
            "ส่วนสูง cm :170\n",
            "24.221453287197235\n"
          ]
        }
      ],
      "source": [
        "a = int(input(\"น้ำหนัก :\"))\n",
        "b = int(input(\"ส่วนสูง cm :\"))\n",
        "bmi = a/((b/100)**2)\n",
        "print(bmi)\n"
      ]
    },
    {
      "cell_type": "markdown",
      "metadata": {
        "id": "-Cmtb1RB3oHC"
      },
      "source": [
        "# 14 รับค่าเวลาเป็นวินาที แล้วมาคำนวน เป็น วัน ชั่วโมง นาที และ วินาที"
      ]
    },
    {
      "cell_type": "code",
      "execution_count": 41,
      "metadata": {
        "colab": {
          "base_uri": "https://localhost:8080/"
        },
        "id": "BRclS-Ca3oHD",
        "outputId": "b2e6283a-3181-45e3-fbfa-f6da93ea90f7"
      },
      "outputs": [
        {
          "output_type": "stream",
          "name": "stdout",
          "text": [
            "sec12000000\n",
            "วัน  138.88888888888889\n",
            "ชั่วโมง  21.333333333333332\n",
            "นาที   20.0\n",
            "วินาที  0\n"
          ]
        }
      ],
      "source": [
        "a = int(input(\"sec\"))\n",
        "\n",
        "\n",
        "print(\"วัน \",a/86400)\n",
        "print(\"ชั่วโมง \",(a%86400)/ 3600)\n",
        "secc = ( a % 86400 ) % 3600\n",
        "seccc = secc / 60\n",
        "print(\"นาที  \",seccc)\n",
        "print(\"วินาที \", secc % 60)"
      ]
    },
    {
      "cell_type": "markdown",
      "metadata": {
        "id": "6YxowtsP3oHD"
      },
      "source": [
        "# 15 Sort ค่า 3 ค่า ตามตัวเลขจำนวนเต็มที่รับมา จาก น้อยไปหามาก"
      ]
    },
    {
      "cell_type": "code",
      "execution_count": 45,
      "metadata": {
        "colab": {
          "base_uri": "https://localhost:8080/"
        },
        "id": "pMteTg1L3oHD",
        "outputId": "3e9911b2-4c2c-4e00-f161-7902bd4926ff"
      },
      "outputs": [
        {
          "name": "stdout",
          "output_type": "stream",
          "text": [
            "num6\n",
            "num2\n",
            "num8\n"
          ]
        },
        {
          "output_type": "execute_result",
          "data": {
            "text/plain": [
              "[2, 6, 8]"
            ]
          },
          "metadata": {},
          "execution_count": 45
        }
      ],
      "source": [
        "a = 3\n",
        "b = []\n",
        "for i in range(0,a):\n",
        "  bb = int(input(\"num\"))\n",
        "  b.append(bb)\n",
        "b.sort()\n",
        "b"
      ]
    },
    {
      "cell_type": "markdown",
      "metadata": {
        "id": "yAmcWoej3oHE"
      },
      "source": [
        "  # 16 input number by use while loop ( if input = 9999 it will quit ) and then calculate sum and average of numbers"
      ]
    },
    {
      "cell_type": "code",
      "execution_count": 57,
      "metadata": {
        "colab": {
          "base_uri": "https://localhost:8080/"
        },
        "id": "PsOf9cyJ3oHE",
        "outputId": "f0f7fac4-748b-4d5a-b06b-b2c5967981cd"
      },
      "outputs": [
        {
          "output_type": "stream",
          "name": "stdout",
          "text": [
            "4\n",
            "3\n",
            "5\n",
            "9999\n",
            "sum 10011\n",
            "avg 0.4166666666666667\n"
          ]
        }
      ],
      "source": [
        "b= []\n",
        "while True :\n",
        "  a = int(input())\n",
        "  b.append(a)\n",
        "  if a == 9999 :\n",
        "    break\n",
        "sum = 0\n",
        "for i in b :\n",
        "  sum = sum + i\n",
        "print(\"sum\",sum)\n",
        "print(\"avg\",avg/len(b))"
      ]
    },
    {
      "cell_type": "markdown",
      "metadata": {
        "id": "-HNGUEGi3oHE"
      },
      "source": [
        "# 17 Admission Price : Enter Age of visitors in group ( if age =9999 will quit ) and calculate total admission fee for all visitors in group\n",
        "<br>store admission price<br>\n",
        "BABY_PRICE = 0.00<br>\n",
        "CHILD_PRICE = 50.00<br>\n",
        "ADULT_PRICE = 90.00<br>\n",
        "SENIOR_PRICE = 20.00<br><br>\n",
        "store the age limits <br>\n",
        "BABY_LIMIT = 3<br>\n",
        "CHILD_LIMIT = 12<br>\n",
        "ADULT_LIMIT = 60<br>"
      ]
    },
    {
      "cell_type": "code",
      "execution_count": 56,
      "metadata": {
        "colab": {
          "base_uri": "https://localhost:8080/"
        },
        "id": "JsJs_zTu3oHF",
        "outputId": "6cb6c2ee-deb9-45b2-afd8-4b5aace16fd7"
      },
      "outputs": [
        {
          "output_type": "stream",
          "name": "stdout",
          "text": [
            "67\n",
            "43\n",
            "23\n",
            "21\n",
            "11\n",
            "9999\n",
            "total :  360\n"
          ]
        }
      ],
      "source": [
        "b=[]\n",
        "while True :\n",
        "  a = int(input())\n",
        "  b.append(a)\n",
        "  if a == 9999 :\n",
        "    break\n",
        "s = 0\n",
        "c = 0\n",
        "for i in b :\n",
        "  if i <= 3:\n",
        "    s = s + 0\n",
        "  elif i >3 and i <=12 :\n",
        "    s = s + 50\n",
        "  elif i >12 and i <=60 :\n",
        "    s = s + 90\n",
        "  else:\n",
        "    s = s + 20\n",
        "print(\"total : \" ,s)"
      ]
    },
    {
      "cell_type": "markdown",
      "metadata": {
        "id": "R5AkLhh-3oHF"
      },
      "source": [
        "# 18 build function that find with max for between 2 values by print in function"
      ]
    },
    {
      "cell_type": "code",
      "execution_count": 58,
      "metadata": {
        "colab": {
          "base_uri": "https://localhost:8080/"
        },
        "id": "XjWGxIIH3oHF",
        "outputId": "9cd00c98-d30c-410d-a4e4-c19c1b4d8c71"
      },
      "outputs": [
        {
          "output_type": "stream",
          "name": "stdout",
          "text": [
            "3\n"
          ]
        }
      ],
      "source": [
        "def main(a,b):\n",
        "  if a>b:\n",
        "    print(a)\n",
        "  else:\n",
        "    print(b)\n",
        "main(2,3)"
      ]
    },
    {
      "cell_type": "markdown",
      "metadata": {
        "id": "ABZC0CZZ3oHF"
      },
      "source": [
        "# 19 build function that find with max for between 2 values by return value "
      ]
    },
    {
      "cell_type": "code",
      "execution_count": 60,
      "metadata": {
        "colab": {
          "base_uri": "https://localhost:8080/"
        },
        "id": "739oAKab3oHG",
        "outputId": "fe0aff3b-6031-4ecb-9972-1f99c51d870e"
      },
      "outputs": [
        {
          "output_type": "execute_result",
          "data": {
            "text/plain": [
              "6"
            ]
          },
          "metadata": {},
          "execution_count": 60
        }
      ],
      "source": [
        "def main(a,b):\n",
        "  if a>b:\n",
        "    return a\n",
        "  else:\n",
        "    return b\n",
        "\n",
        "main(6,3)"
      ]
    },
    {
      "cell_type": "markdown",
      "metadata": {
        "id": "U_EoNInd3oHG"
      },
      "source": [
        "# 20 ให้รับค่าจำนวนเต็มจาก input มาสิบค่า แล้วให้พิมพ์ ค่าตัวไหนน้อยที่สุด และค่าตัวไหนมากที่สุด"
      ]
    },
    {
      "cell_type": "code",
      "execution_count": 62,
      "metadata": {
        "colab": {
          "base_uri": "https://localhost:8080/"
        },
        "id": "eJK_J3Bp3oHG",
        "outputId": "82781918-cede-4f5b-83f3-185c84abe092"
      },
      "outputs": [
        {
          "output_type": "stream",
          "name": "stdout",
          "text": [
            "number 4\n",
            "number 7\n",
            "number 8\n",
            "number 1\n",
            "number 2\n",
            "number 4\n",
            "number 5\n",
            "number 6\n",
            "number 8\n",
            "number 9\n",
            "min  1\n",
            "max  9\n"
          ]
        }
      ],
      "source": [
        "a = []\n",
        "for i in range(0,10):\n",
        "  b = int(input(\"number \"))\n",
        "  a.append(b)\n",
        "a.sort()\n",
        "print(\"min \",a[0])\n",
        "print(\"max \",a[-1])"
      ]
    },
    {
      "cell_type": "markdown",
      "metadata": {
        "id": "X6pkAQ4d3oHG"
      },
      "source": [
        "# 21 Build factorial function (n! = n(n-1)(n-2)...1  for example 3! = 3 x 2 x 1 = 6)"
      ]
    },
    {
      "cell_type": "code",
      "execution_count": 66,
      "metadata": {
        "colab": {
          "base_uri": "https://localhost:8080/"
        },
        "id": "tScC2UV23oHG",
        "outputId": "92486740-f412-4a26-a28f-6b853590ab2a"
      },
      "outputs": [
        {
          "output_type": "execute_result",
          "data": {
            "text/plain": [
              "24"
            ]
          },
          "metadata": {},
          "execution_count": 66
        }
      ],
      "source": [
        "def fac(n):\n",
        "   if n == 1:\n",
        "       return n\n",
        "   else:\n",
        "       return n*fac(n-1)\n",
        "fac(4)"
      ]
    },
    {
      "cell_type": "markdown",
      "metadata": {
        "id": "Yp_l1JpX3oHG"
      },
      "source": [
        "# 22 Build Triangle area function ( formula : trianglearea = (1/2)\\*base\\*hight )"
      ]
    },
    {
      "cell_type": "code",
      "execution_count": 67,
      "metadata": {
        "colab": {
          "base_uri": "https://localhost:8080/"
        },
        "id": "VYXUqhWN3oHH",
        "outputId": "604af9fd-b41b-4168-af39-bab0582485cd"
      },
      "outputs": [
        {
          "output_type": "execute_result",
          "data": {
            "text/plain": [
              "10.0"
            ]
          },
          "metadata": {},
          "execution_count": 67
        }
      ],
      "source": [
        "def tri(base,hight):\n",
        "  area = (1/2) * base * hight\n",
        "  return area\n",
        "tri(4,5)"
      ]
    },
    {
      "cell_type": "code",
      "execution_count": null,
      "metadata": {
        "id": "9-f9bLaK3oHH"
      },
      "outputs": [],
      "source": [
        ""
      ]
    },
    {
      "cell_type": "markdown",
      "metadata": {
        "id": "BKOkNcw13oHH"
      },
      "source": [
        "# 23 Build Circle area and Circle circumference by input r from input \n",
        "formular<br>\n",
        "circle area = Pi\\*r\\*\\*2<br>  \n",
        "circle circumference = 2\\*Pi\\*r<br>"
      ]
    },
    {
      "cell_type": "code",
      "execution_count": 69,
      "metadata": {
        "colab": {
          "base_uri": "https://localhost:8080/"
        },
        "id": "tP_rtn7M3oHH",
        "outputId": "4398ad6d-d61e-4289-bb7f-eb4c67593679"
      },
      "outputs": [
        {
          "output_type": "stream",
          "name": "stdout",
          "text": [
            "r :10\n",
            "area  314.2857142857143\n",
            "cir_fer  62.857142857142854\n"
          ]
        }
      ],
      "source": [
        "a = int(input(\"r :\"))\n",
        "def cir(r):\n",
        "  cir_area = (22/7) * (r**2)\n",
        "  cir_fer = 2 * (22/7) * r\n",
        "  print(\"area \",cir_area)\n",
        "  print(\"cir_fer \",cir_fer)\n",
        "cir(a)"
      ]
    },
    {
      "cell_type": "markdown",
      "metadata": {
        "id": "_y1tOSQu3oHH"
      },
      "source": [
        "# 24 Print odd number from 1 to 100"
      ]
    },
    {
      "cell_type": "code",
      "execution_count": 73,
      "metadata": {
        "colab": {
          "base_uri": "https://localhost:8080/"
        },
        "id": "6EI535ny3oHH",
        "outputId": "e91a6245-8c74-449f-c26d-fb7e1d2dc101"
      },
      "outputs": [
        {
          "output_type": "stream",
          "name": "stdout",
          "text": [
            "1\n",
            "3\n",
            "5\n",
            "7\n",
            "9\n",
            "11\n",
            "13\n",
            "15\n",
            "17\n",
            "19\n",
            "21\n",
            "23\n",
            "25\n",
            "27\n",
            "29\n",
            "31\n",
            "33\n",
            "35\n",
            "37\n",
            "39\n",
            "41\n",
            "43\n",
            "45\n",
            "47\n",
            "49\n",
            "51\n",
            "53\n",
            "55\n",
            "57\n",
            "59\n",
            "61\n",
            "63\n",
            "65\n",
            "67\n",
            "69\n",
            "71\n",
            "73\n",
            "75\n",
            "77\n",
            "79\n",
            "81\n",
            "83\n",
            "85\n",
            "87\n",
            "89\n",
            "91\n",
            "93\n",
            "95\n",
            "97\n",
            "99\n"
          ]
        }
      ],
      "source": [
        "a=[i for i in range(1,101)]\n",
        "for i in a:\n",
        "  if i % 2 != 0:\n",
        "    print(i)"
      ]
    },
    {
      "cell_type": "markdown",
      "metadata": {
        "id": "g3Jvs8Ly3oHI"
      },
      "source": [
        "# 25 Print even numbers from 1 to 100 in list format"
      ]
    },
    {
      "cell_type": "code",
      "execution_count": 76,
      "metadata": {
        "colab": {
          "base_uri": "https://localhost:8080/"
        },
        "id": "Gc6H1E2n3oHI",
        "outputId": "17df72bc-c537-4204-e37d-d4b2b4d66ee8"
      },
      "outputs": [
        {
          "output_type": "stream",
          "name": "stdout",
          "text": [
            "[2, 4, 6, 8, 10, 12, 14, 16, 18, 20, 22, 24, 26, 28, 30, 32, 34, 36, 38, 40, 42, 44, 46, 48, 50, 52, 54, 56, 58, 60, 62, 64, 66, 68, 70, 72, 74, 76, 78, 80, 82, 84, 86, 88, 90, 92, 94, 96, 98, 100]\n"
          ]
        }
      ],
      "source": [
        "a=[i for i in range(1,101)]\n",
        "b=[]\n",
        "for i in a:\n",
        "  if i % 2 == 0:\n",
        "    b.append(i)\n",
        "    \n",
        "print(b)"
      ]
    },
    {
      "cell_type": "code",
      "execution_count": null,
      "metadata": {
        "id": "PJv2TJ0d3oHI"
      },
      "outputs": [],
      "source": [
        ""
      ]
    }
  ],
  "metadata": {
    "kernelspec": {
      "display_name": "Python 3",
      "language": "python",
      "name": "python3"
    },
    "language_info": {
      "codemirror_mode": {
        "name": "ipython",
        "version": 3
      },
      "file_extension": ".py",
      "mimetype": "text/x-python",
      "name": "python",
      "nbconvert_exporter": "python",
      "pygments_lexer": "ipython3",
      "version": "3.7.1"
    },
    "colab": {
      "name": "Exercise 2-64120015.ipynb",
      "provenance": [],
      "include_colab_link": true
    }
  },
  "nbformat": 4,
  "nbformat_minor": 0
}