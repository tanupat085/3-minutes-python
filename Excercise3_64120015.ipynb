{
  "cells": [
    {
      "cell_type": "markdown",
      "metadata": {
        "id": "view-in-github",
        "colab_type": "text"
      },
      "source": [
        "<a href=\"https://colab.research.google.com/github/tanupat085/3-minutes-python/blob/master/Excercise3_64120015.ipynb\" target=\"_parent\"><img src=\"https://colab.research.google.com/assets/colab-badge.svg\" alt=\"Open In Colab\"/></a>"
      ]
    },
    {
      "cell_type": "markdown",
      "metadata": {
        "id": "tV0lZ8Z9qSB1"
      },
      "source": [
        "# 8 Build Circle area and Circle circumference by input r from input \n",
        "formular<br>\n",
        "circle area = Pi\\*r\\*\\*2<br>  \n",
        "circle circumference = 2\\*Pi\\*r<br>"
      ]
    },
    {
      "cell_type": "code",
      "source": [
        "import math"
      ],
      "metadata": {
        "id": "oob8jKPSq5wK"
      },
      "execution_count": 1,
      "outputs": []
    },
    {
      "cell_type": "code",
      "execution_count": 4,
      "metadata": {
        "colab": {
          "base_uri": "https://localhost:8080/"
        },
        "id": "LXWn5m90qSB8",
        "outputId": "82a7639f-2ad3-4ace-9b51-7de035dd42d3"
      },
      "outputs": [
        {
          "output_type": "stream",
          "name": "stdout",
          "text": [
            "r = 12\n",
            "circle area =  452.3893421169302\n",
            "circle circumference =  75.39822368615503\n"
          ]
        }
      ],
      "source": [
        "r = int(input(\"r = \"))\n",
        "print(\"circle area = \" , (math.pi)*(r**2) )\n",
        "print(\"circle circumference = \", 2 * (math.pi) * r)"
      ]
    },
    {
      "cell_type": "markdown",
      "metadata": {
        "id": "exep5EqoqSB9"
      },
      "source": [
        "# 9 Print odd number from 1 to 100"
      ]
    },
    {
      "cell_type": "code",
      "execution_count": 7,
      "metadata": {
        "colab": {
          "base_uri": "https://localhost:8080/"
        },
        "id": "sT1hMx5sqSB-",
        "outputId": "55fdf873-341a-4d6d-d5b9-ec700f4c871e"
      },
      "outputs": [
        {
          "output_type": "stream",
          "name": "stdout",
          "text": [
            "1\n",
            "3\n",
            "5\n",
            "7\n",
            "9\n",
            "11\n",
            "13\n",
            "15\n",
            "17\n",
            "19\n",
            "21\n",
            "23\n",
            "25\n",
            "27\n",
            "29\n",
            "31\n",
            "33\n",
            "35\n",
            "37\n",
            "39\n",
            "41\n",
            "43\n",
            "45\n",
            "47\n",
            "49\n",
            "51\n",
            "53\n",
            "55\n",
            "57\n",
            "59\n",
            "61\n",
            "63\n",
            "65\n",
            "67\n",
            "69\n",
            "71\n",
            "73\n",
            "75\n",
            "77\n",
            "79\n",
            "81\n",
            "83\n",
            "85\n",
            "87\n",
            "89\n",
            "91\n",
            "93\n",
            "95\n",
            "97\n",
            "99\n"
          ]
        }
      ],
      "source": [
        "for i in range(0,101):\n",
        "  if (i%2) != 0:\n",
        "    print(i)"
      ]
    },
    {
      "cell_type": "markdown",
      "metadata": {
        "id": "RbrIjauMqSB_"
      },
      "source": [
        "# 10 Print even numbers from 1 to 100 in list format"
      ]
    },
    {
      "cell_type": "code",
      "execution_count": 8,
      "metadata": {
        "colab": {
          "base_uri": "https://localhost:8080/"
        },
        "id": "reNWOR5AqSB_",
        "outputId": "e02e5b4a-b237-43af-c352-5104973ab2df"
      },
      "outputs": [
        {
          "output_type": "stream",
          "name": "stdout",
          "text": [
            "[0, 2, 4, 6, 8, 10, 12, 14, 16, 18, 20, 22, 24, 26, 28, 30, 32, 34, 36, 38, 40, 42, 44, 46, 48, 50, 52, 54, 56, 58, 60, 62, 64, 66, 68, 70, 72, 74, 76, 78, 80, 82, 84, 86, 88, 90, 92, 94, 96, 98, 100]\n"
          ]
        }
      ],
      "source": [
        "a=[]\n",
        "for i in range(0,101):\n",
        "  if (i%2) == 0:\n",
        "    a.append(i)\n",
        "print(a)"
      ]
    },
    {
      "cell_type": "markdown",
      "metadata": {
        "id": "djgPBzRSqSCA"
      },
      "source": [
        "# 11 Please calculate sse from formula From listY = [1.9,4.2,6.5,7.4,11]\n",
        "![r_squared_6.png](attachment:r_squared_6.png)"
      ]
    },
    {
      "cell_type": "code",
      "source": [
        "y = [1.9,4.2,6.5,7.4,11]\n",
        "mean = sum(y) / len(y)\n",
        "for i in y:\n",
        "  x = i - mean\n",
        "  x = x**2\n",
        "  a = a + x\n",
        "print(\"SSE : \", a )"
      ],
      "metadata": {
        "colab": {
          "base_uri": "https://localhost:8080/"
        },
        "id": "hMqQ07ENs0FI",
        "outputId": "a24d7c74-8791-43c8-c6ce-31aa0b1f1304"
      },
      "execution_count": 54,
      "outputs": [
        {
          "output_type": "stream",
          "name": "stdout",
          "text": [
            "SSE :  57.06000000000001\n"
          ]
        }
      ]
    },
    {
      "cell_type": "markdown",
      "source": [
        ""
      ],
      "metadata": {
        "id": "q28lc1Yzsg4n"
      }
    },
    {
      "cell_type": "markdown",
      "metadata": {
        "id": "Kr3V3MeDqSCA"
      },
      "source": [
        "# 12 list1 = [1,1,2,2,3,3,4,4,5,5,6,6] ให้สร้าง list ใหม่ให้ค่าสมาชิกต้องไม่ซ้ำกัน"
      ]
    },
    {
      "cell_type": "code",
      "execution_count": 16,
      "metadata": {
        "colab": {
          "base_uri": "https://localhost:8080/"
        },
        "id": "vfIZYJKSqSCB",
        "outputId": "9da7dd08-6b31-433f-a82b-baa0b006a9ab"
      },
      "outputs": [
        {
          "output_type": "stream",
          "name": "stdout",
          "text": [
            "[1, 2, 3, 4, 5, 6]\n"
          ]
        }
      ],
      "source": [
        "list1 = [1,1,2,2,3,3,4,4,5,5,6,6]\n",
        "res = []\n",
        "for i in list1:\n",
        "    if i not in res:\n",
        "        res.append(i)\n",
        "print(res)"
      ]
    },
    {
      "cell_type": "markdown",
      "metadata": {
        "id": "xOz5qS-2qSCC"
      },
      "source": [
        "# 13 Build Dictionary with key is charactor and value is number and print some value in key "
      ]
    },
    {
      "cell_type": "code",
      "execution_count": 19,
      "metadata": {
        "colab": {
          "base_uri": "https://localhost:8080/"
        },
        "id": "swnxCIrqqSCC",
        "outputId": "33bc8a30-7797-4ddb-cf22-cf6e7824670f"
      },
      "outputs": [
        {
          "output_type": "stream",
          "name": "stdout",
          "text": [
            "a  :  1\n",
            "b  :  2\n",
            "c  :  3\n"
          ]
        }
      ],
      "source": [
        "dic = {\n",
        "    \"a\":1,\n",
        "    \"b\":2,\n",
        "    \"c\":3\n",
        "}\n",
        "for i in dic:\n",
        "  print(i,\" : \",dic[i])"
      ]
    },
    {
      "cell_type": "markdown",
      "metadata": {
        "id": "Hx9ulreyqSCD"
      },
      "source": [
        "# 14 Build Dictionary with key is english word and value is thai word and print out"
      ]
    },
    {
      "cell_type": "code",
      "execution_count": 20,
      "metadata": {
        "colab": {
          "base_uri": "https://localhost:8080/"
        },
        "id": "3KwLuMvYqSCD",
        "outputId": "bf06da74-d1be-4d94-9c23-d5c164dfbd4e"
      },
      "outputs": [
        {
          "output_type": "stream",
          "name": "stdout",
          "text": [
            "cat  :  นก\n",
            "dog  :  หมา\n",
            "bird  :  นก\n"
          ]
        }
      ],
      "source": [
        "dic = {\n",
        "    \"cat\":\"นก\",\n",
        "    \"dog\":\"หมา\",\n",
        "    \"bird\":\"นก\"\n",
        "}\n",
        "for i in dic:\n",
        "  print(i,\" : \",dic[i])"
      ]
    },
    {
      "cell_type": "markdown",
      "metadata": {
        "id": "7NbhkNCtqSCE"
      },
      "source": [
        "# 15 Build Contract Name and Number to Dictionary and have add delete lookup quit "
      ]
    },
    {
      "cell_type": "code",
      "source": [
        "dic = {\n",
        "    \"name\":\"tanupat satitvattana\",\n",
        "    \"id\":\"64120015\",\n",
        "    \"test\":\"1234\"\n",
        "}\n",
        "\n",
        "dic[\"name\"] = \"tanupat aod\"\n",
        "del dic[\"test\"]\n",
        "\n",
        "for i in dic:\n",
        "  print(i,\" : \",dic[i])"
      ],
      "metadata": {
        "colab": {
          "base_uri": "https://localhost:8080/"
        },
        "id": "uKheDLQEv29L",
        "outputId": "a0d7dd15-8914-46b9-9bf6-d6181c5c68e9"
      },
      "execution_count": 22,
      "outputs": [
        {
          "output_type": "stream",
          "name": "stdout",
          "text": [
            "name  :  tanupat aod\n",
            "id  :  64120015\n"
          ]
        }
      ]
    },
    {
      "cell_type": "markdown",
      "metadata": {
        "id": "aZ9I4yKAqSCE"
      },
      "source": [
        "# 16 Read  positive negative zero integers from input and quit by 9999 then print positive number negetive number and zero number "
      ]
    },
    {
      "cell_type": "code",
      "execution_count": 29,
      "metadata": {
        "colab": {
          "base_uri": "https://localhost:8080/"
        },
        "id": "5FrVsX5iqSCE",
        "outputId": "eac0b00e-0571-4a4f-dc11-51b5b1a88924"
      },
      "outputs": [
        {
          "output_type": "stream",
          "name": "stdout",
          "text": [
            "insert number :-1\n",
            "insert number :0\n",
            "insert number :5\n",
            "insert number :9999\n",
            "[-1, 0, 5]\n",
            "-1 is negative number\n",
            "0 is zero number\n",
            "5 is positive number\n"
          ]
        }
      ],
      "source": [
        "b=[]\n",
        "while True :\n",
        "  a = int(input(\"insert number :\"))\n",
        "  if a == 9999 :\n",
        "    break\n",
        "  else:\n",
        "    b.append(a)\n",
        "  \n",
        "print(b)\n",
        "for i in b:\n",
        "  if i < 0:\n",
        "    print(i , \"is negative number\")\n",
        "  elif i == 0:\n",
        "    print(i , \"is zero number\")\n",
        "  else :\n",
        "    print(i , \"is positive number\")"
      ]
    },
    {
      "cell_type": "code",
      "execution_count": null,
      "metadata": {
        "id": "sDcUGf0tqSCF"
      },
      "outputs": [],
      "source": [
        ""
      ]
    },
    {
      "cell_type": "markdown",
      "metadata": {
        "id": "2ncN7rYOqSCF"
      },
      "source": [
        "# 17 Build Random Number from 00 to 99 by random ( 24 times ) to list with no repeat value in list"
      ]
    },
    {
      "cell_type": "code",
      "execution_count": 32,
      "metadata": {
        "id": "wUwKbRVaqSCF"
      },
      "outputs": [],
      "source": [
        "from random import random , randint"
      ]
    },
    {
      "cell_type": "code",
      "source": [
        "a=[]\n",
        "res = []\n",
        "while True:\n",
        "  value = randint(0, 99)\n",
        "  if value in a:\n",
        "    value = randint(0, 99)\n",
        "  else:\n",
        "    a.append(int(value))\n",
        "  for x in a:\n",
        "      if x not in res:\n",
        "          res.append(x)\n",
        "  if len(a) >= 24:\n",
        "    break\n",
        "print(a)"
      ],
      "metadata": {
        "colab": {
          "base_uri": "https://localhost:8080/"
        },
        "id": "2EO-wx1BzFWq",
        "outputId": "cc5fd6b4-ae30-4ac5-d637-0741bfbbde11"
      },
      "execution_count": 45,
      "outputs": [
        {
          "output_type": "stream",
          "name": "stdout",
          "text": [
            "[11, 70, 26, 39, 46, 55, 12, 86, 7, 17, 41, 5, 22, 44, 30, 18, 34, 96, 45, 97, 59, 98, 65, 19]\n"
          ]
        }
      ]
    },
    {
      "cell_type": "markdown",
      "metadata": {
        "id": "lPsWXbs6qSCF"
      },
      "source": [
        "# 18 โปรแกรมคำนวนที่จอดรถ โดยให้รับค่า input 10 ครั้ง โดยค่าแรกเป็น ชั่วโมง ค่าที่สองเป็นนาที เสร็จแล้วให้คำนวนว่า จอดรถ 1 ชม.แรกฟรี ชั่วโมงที่สอง เสีย 30 บาท ชั่วโมงที่สาม 50 บาท สี่ชั่วโมงขึ้นไป 100 บาท โดยเศษของชั่วโมงให้ปัดขึ้นเป็น ชั่วโมง"
      ]
    },
    {
      "cell_type": "code",
      "execution_count": 47,
      "metadata": {
        "colab": {
          "base_uri": "https://localhost:8080/"
        },
        "id": "6weNyz6kqSCG",
        "outputId": "5630c855-69e2-4eb8-b03f-b6c6f82598e7"
      },
      "outputs": [
        {
          "output_type": "stream",
          "name": "stdout",
          "text": [
            "ชั่วโมง :2\n",
            "นาที :40\n",
            "จ่าย 50 บาท\n"
          ]
        }
      ],
      "source": [
        "a = int(input(\"ชั่วโมง :\"))\n",
        "b = int(input(\"นาที :\"))\n",
        "b = b/60\n",
        "a = a+b \n",
        "a1 = math.floor(a)\n",
        "if a1 <= 1:\n",
        "  print(\"จอดฟรี\")\n",
        "elif a1 >=2 and a1 < 3:\n",
        "  print(\"จ่าย 50 บาท\")\n",
        "else:\n",
        "  print(\"จ่าย 100 บาท\")"
      ]
    },
    {
      "cell_type": "markdown",
      "metadata": {
        "id": "9vNH0YKPqSCH"
      },
      "source": [
        "# 19 เล่น ทอยลูกเต๋า 3 ลูก ให้พิมพ์ค่าลูกเต๋าแต่ละลูก และบอกด้วยว่า Hi หรือ Low"
      ]
    },
    {
      "cell_type": "code",
      "execution_count": 52,
      "metadata": {
        "colab": {
          "base_uri": "https://localhost:8080/"
        },
        "id": "4ThFdo9YqSCH",
        "outputId": "f1a05a67-d61e-4f74-839f-e2d52dc4c908"
      },
      "outputs": [
        {
          "output_type": "stream",
          "name": "stdout",
          "text": [
            "ลูกที่  1 ออก  4\n",
            "ลุกที่ 1 สูง\n",
            "ลูกที่  2 ออก  1\n",
            "ลุกที่ 2 ต่ำ\n",
            "ลูกที่  3 ออก  5\n",
            "ลุกที่ 3 สูง\n",
            "ผลรวม HIGH\n"
          ]
        }
      ],
      "source": [
        "a = 0\n",
        "for i in range(1,4):\n",
        "  value = randint(1,6)\n",
        "  print(\"ลูกที่ \" , i , \"ออก \" , value)\n",
        "  if value <= 3:\n",
        "    print(\"ลุกที่\" ,i,\"ต่ำ\")\n",
        "  else:\n",
        "    print(\"ลุกที่\" ,i,\"สูง\")\n",
        "  a = a + value\n",
        "if a <=9:\n",
        "  print(\"ผลรวม LOW\")\n",
        "else:\n",
        "  print(\"ผลรวม HIGH\")"
      ]
    },
    {
      "cell_type": "markdown",
      "metadata": {
        "id": "lac25DU0qSCH"
      },
      "source": [
        "# 20 Power diagnostic"
      ]
    },
    {
      "cell_type": "markdown",
      "metadata": {
        "id": "rIxIy4bAqSCH"
      },
      "source": [
        "![powerplug.jpg](attachment:powerplug.jpg)"
      ]
    },
    {
      "cell_type": "code",
      "execution_count": null,
      "metadata": {
        "id": "NrVmoeZzqSCJ"
      },
      "outputs": [],
      "source": [
        "print(\"0 is True , 1 is False\")\n",
        "has_power = int(input(\"has_power: 0 or 1\"))\n",
        "is_plugged_in = int(input(\"is_plugged_in: 0 or 1\"))\n",
        "is_switch_on = int(input(\"is_switch_on: 0 or 1\"))\n",
        "is_fuse_ok = int(input(\"is_fuse_ok: 0 or 1\"))\n",
        "\n",
        "if has_power == 0 :\n",
        "  print(\"seek other help\")\n",
        "else:\n",
        "  if is_plugged_in != 0:\n",
        "    print(\"plug it in\")\n",
        "  else:\n",
        "    if is_switch_on != 0 :\n",
        "      print(\"turn switch on\")\n",
        "    else:\n",
        "      if is_fuse_ok != 0:\n",
        "        print(\"check fuse\")\n",
        "      else:\n",
        "        print(\"seek other help\")"
      ]
    },
    {
      "cell_type": "markdown",
      "metadata": {
        "id": "lRCqZ_EpqSCJ"
      },
      "source": [
        "# 21 จงเขียนโปรแกรมแบบ OOP โดยมีการกำหนดคลาส (class) 2 คลาส คือสุนัข กับแมว  จากนั้นทำการสร้างออปเจ็กต์มาอย่างละ 1 ตัว โดยไม่ต้องกำหนดค่าใดๆ  ในแต่ละคลาส มีรูปแบบดังนี้\t\t\n",
        "Properties (ต้องกำหนดประเภทของตัวแปรให้เหมาะสม)\n",
        "\t\t– สายพันธ์ \n",
        "\t\t– อายุ\n",
        " \t\t– น้ำหนัก \n",
        "\t\t– เพศ\n",
        "Method (ทำการประกาศ โดยไม่ต้องกำหนดการทำงาน)\n",
        "\t\t– เดินไปข้างหน้า \n",
        "\t\t– เดินไปข้างหลัง \n",
        "\t\t– กินอาหาร\n",
        " "
      ]
    },
    {
      "cell_type": "code",
      "source": [
        "class dog:\n",
        "  def __init__(self,species,age,weight,sex) :\n",
        "    self.species = species\n",
        "    self.age = age\n",
        "    self.weight = weight\n",
        "    self.sex = sex\n",
        "  def walk_front(self) :\n",
        "    print(\"หมาตัวนี้ได้เดินไปข้างหน้า\")\n",
        "  def walk_back(self):\n",
        "    print(\"หมาตัวนี้ได้ถอยหลัง\")\n",
        "  def eat(self):\n",
        "    print(\"หมาตัวนี้ได้กินอาหาร\")\n",
        "\n",
        "\n",
        "\n",
        "class cat:\n",
        "  def __init__(self,species,age,weight,sex) :\n",
        "    self.species = species\n",
        "    self.age = age\n",
        "    self.weight = weight\n",
        "    self.sex = sex\n",
        "  def walk_front(self) :\n",
        "    print(\"แมวตัวนี้ได้เดินไปข้างหน้า\")\n",
        "  def walk_back(self):\n",
        "    print(\"แมวตัวนี้ได้ถอยหลัง\")\n",
        "  def eat(self):\n",
        "    print(\"แมวตัวนี้ได้กินอาหาร\")\n",
        "\n",
        "dog1 = dog(\"ชิสุ\",3,21,\"male\")\n",
        "cat1 = cat(\"แมวส้ม\",2,12,\"female\")\n",
        "print(dog1.species)\n",
        "print(cat1.species)\n",
        "dog1.eat()\n",
        "cat1.walk_back()\n",
        "\n",
        "  # def front\n",
        "\n",
        "  # def back\n",
        "\n",
        "  # def eat"
      ],
      "metadata": {
        "colab": {
          "base_uri": "https://localhost:8080/"
        },
        "id": "kORlpPR97Ho0",
        "outputId": "b4bdfd24-c620-48d6-d07e-4ce5a6c0b688"
      },
      "execution_count": 63,
      "outputs": [
        {
          "output_type": "stream",
          "name": "stdout",
          "text": [
            "ชิสุ\n",
            "แมวส้ม\n",
            "หมาตัวนี้ได้กินอาหาร\n",
            "แมวตัวนี้ได้ถอยหลัง\n"
          ]
        }
      ]
    }
  ],
  "metadata": {
    "kernelspec": {
      "display_name": "Python 3",
      "language": "python",
      "name": "python3"
    },
    "language_info": {
      "codemirror_mode": {
        "name": "ipython",
        "version": 3
      },
      "file_extension": ".py",
      "mimetype": "text/x-python",
      "name": "python",
      "nbconvert_exporter": "python",
      "pygments_lexer": "ipython3",
      "version": "3.7.1"
    },
    "colab": {
      "name": "Excercise3_64120015.ipynb",
      "provenance": [],
      "include_colab_link": true
    }
  },
  "nbformat": 4,
  "nbformat_minor": 0
}