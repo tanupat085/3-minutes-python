{
  "nbformat": 4,
  "nbformat_minor": 0,
  "metadata": {
    "colab": {
      "name": "Untitled22.ipynb",
      "provenance": [],
      "authorship_tag": "ABX9TyMJj8J5yqncHXsj3s81iFgX",
      "include_colab_link": true
    },
    "kernelspec": {
      "name": "python3",
      "display_name": "Python 3"
    },
    "language_info": {
      "name": "python"
    }
  },
  "cells": [
    {
      "cell_type": "markdown",
      "metadata": {
        "id": "view-in-github",
        "colab_type": "text"
      },
      "source": [
        "<a href=\"https://colab.research.google.com/github/tanupat085/3-minutes-python/blob/master/tuhomework.ipynb\" target=\"_parent\"><img src=\"https://colab.research.google.com/assets/colab-badge.svg\" alt=\"Open In Colab\"/></a>"
      ]
    },
    {
      "cell_type": "code",
      "source": [
        "import math"
      ],
      "metadata": {
        "id": "c7Rb6JuLMshR"
      },
      "execution_count": 1,
      "outputs": []
    },
    {
      "cell_type": "code",
      "execution_count": 54,
      "metadata": {
        "colab": {
          "base_uri": "https://localhost:8080/"
        },
        "id": "MN2jpNQhLzvO",
        "outputId": "2d93236a-ed5c-4055-ef8a-49e9ed0b320c"
      },
      "outputs": [
        {
          "output_type": "stream",
          "name": "stdout",
          "text": [
            "Input u: 10\n",
            "Output : n = 4 , s = 10.142135623730951 \n"
          ]
        }
      ],
      "source": [
        "try:\n",
        "  count = 0\n",
        "  u = int(input(\"Input u: \"))\n",
        "  # for i in range(1,u+1):\n",
        "  #   s = (i*math.sqrt(2))-1\n",
        "  #   if s > u:\n",
        "  #     break\n",
        "  s = 0\n",
        "  i = 1\n",
        "  while count <= u :\n",
        "    s = (i*math.sqrt(2))-1\n",
        "    count = count +s\n",
        "    i = i + 1\n",
        "    # if s > u:\n",
        "    #   break\n",
        "  print(\"Output : n = {} , s = {} \" .format(i-1,count))\n",
        "\n",
        "\n",
        "except:\n",
        "  print(\"Invalid Input\")"
      ]
    },
    {
      "cell_type": "code",
      "source": [
        "first = ['a','e','i','l','n','o','r','s','t','u']\n",
        "second = ['d','g']\n",
        "third = ['b','c','m','p']\n",
        "fourth = ['f','h','v','w','y']\n",
        "fifth = ['k']\n",
        "eight = ['j','x']\n",
        "ten = ['q','z']\n",
        "\n",
        "count = 0\n",
        "text = input(\"input :\")\n",
        "text = text.lower()\n",
        "for i in text:\n",
        "  if i in first :\n",
        "    count = count + 1\n",
        "  elif i in second :\n",
        "    count = count + 2\n",
        "  elif i in third :\n",
        "    count = count + 3\n",
        "  elif i in fourth :\n",
        "    count = count + 4\n",
        "  elif i in fifth :\n",
        "    count = count + 5\n",
        "  elif i in eight :\n",
        "    count = count + 8\n",
        "  elif i in ten :\n",
        "    count = count + 10\n",
        "print(count)"
      ],
      "metadata": {
        "colab": {
          "base_uri": "https://localhost:8080/"
        },
        "id": "-kqJdQG5OTVs",
        "outputId": "585d3603-b5bd-4f04-f53f-c24119d61df6"
      },
      "execution_count": 12,
      "outputs": [
        {
          "output_type": "stream",
          "name": "stdout",
          "text": [
            "input :zebra\n",
            "16\n"
          ]
        }
      ]
    },
    {
      "cell_type": "code",
      "source": [
        "num = input(\"Input 12-digit string : \")\n",
        "x = 1\n",
        "sum = 0\n",
        "if len(num) == 12:\n",
        "  for i in num:\n",
        "    i = int(i)\n",
        "    if x == 1:\n",
        "      sum = sum + (i*1)\n",
        "      # print(sum)\n",
        "      x = 0\n",
        "    else:\n",
        "      sum = sum +(i*3)\n",
        "      #print(sum)\n",
        "      x = 1\n",
        "  t = sum%10\n",
        "  if t != 0 :\n",
        "    print(\"Output: check digit = \",10-t)\n",
        "  else:\n",
        "    print('Output: check digit = 0')\n",
        "else:\n",
        "  print(\"invalid input\")"
      ],
      "metadata": {
        "colab": {
          "base_uri": "https://localhost:8080/"
        },
        "id": "710oNVZEQiCz",
        "outputId": "31bcd08d-c995-4070-aed0-4726e31e08cc"
      },
      "execution_count": 43,
      "outputs": [
        {
          "output_type": "stream",
          "name": "stdout",
          "text": [
            "Input 12-digit string : 978030640615\n",
            "Output: check digit =  7\n"
          ]
        }
      ]
    }
  ]
}