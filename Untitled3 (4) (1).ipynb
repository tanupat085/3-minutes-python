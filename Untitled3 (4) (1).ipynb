{
  "nbformat": 4,
  "nbformat_minor": 0,
  "metadata": {
    "colab": {
      "name": "Untitled3.ipynb",
      "provenance": []
    },
    "kernelspec": {
      "name": "python3",
      "display_name": "Python 3"
    },
    "language_info": {
      "name": "python"
    }
  },
  "cells": [
    {
      "cell_type": "code",
      "source": [
        "import math"
      ],
      "metadata": {
        "id": "DS4ydDuiQ0Dp"
      },
      "execution_count": 19,
      "outputs": []
    },
    {
      "cell_type": "code",
      "source": [
        "n = int(input(\"your money :\"))\n",
        "if n >= 1000 :\n",
        "  a = n/1000\n",
        "  aa = math.floor(a)\n",
        "  print('1000 = ', aa)\n",
        "  b = n%1000\n",
        "\n",
        "  bb = b/500\n",
        "  bbb = math.floor(bb)\n",
        "  print('500 = ',bbb)\n",
        "  c = b % 500\n",
        "\n",
        "  cc = c / 100\n",
        "  ccc= math.floor(cc)\n",
        "  print('100 = ',ccc)\n",
        "  d = c % 100\n",
        " \n",
        "  dd = d / 50\n",
        "  ddd= math.floor(dd)\n",
        "  print('50 = ',ddd)\n",
        "  e= d % 50\n",
        "\n",
        "  ee = e / 20\n",
        "  eee= math.floor(ee)\n",
        "  print('20 = ',eee)\n",
        "  g= e % 20\n",
        "\n",
        "  gg = g / 10\n",
        "  ggg= math.floor(gg)\n",
        "  print('10 = ',ggg)\n",
        "  h= g % 10\n",
        "\n",
        "  hh = h / 5\n",
        "  hhh= math.floor(hh)\n",
        "  print('5 = ',hhh)\n",
        "  i = h % 5\n",
        "\n",
        "  ii = i / 1\n",
        "  iii= math.floor(ii)\n",
        "  print('10 = ',iii)\n",
        " \n",
        " "
      ],
      "metadata": {
        "colab": {
          "base_uri": "https://localhost:8080/"
        },
        "id": "BTDJx_HaPzxn",
        "outputId": "b1689f00-b0dd-4f26-c552-5243a272ccf1"
      },
      "execution_count": 21,
      "outputs": [
        {
          "output_type": "stream",
          "name": "stdout",
          "text": [
            "your money :1230\n",
            "1000 =  1\n",
            "500 =  0\n",
            "100 =  2\n",
            "50 =  0\n",
            "20 =  1\n",
            "10 =  1\n",
            "5 =  0\n",
            "10 =  0\n"
          ]
        }
      ]
    }
  ]
}