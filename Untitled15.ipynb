{
  "nbformat": 4,
  "nbformat_minor": 0,
  "metadata": {
    "colab": {
      "name": "Untitled15.ipynb",
      "provenance": [],
      "authorship_tag": "ABX9TyOwzMYhZ8OYaQFR318C82+J",
      "include_colab_link": true
    },
    "kernelspec": {
      "name": "python3",
      "display_name": "Python 3"
    },
    "language_info": {
      "name": "python"
    }
  },
  "cells": [
    {
      "cell_type": "markdown",
      "metadata": {
        "id": "view-in-github",
        "colab_type": "text"
      },
      "source": [
        "<a href=\"https://colab.research.google.com/github/tanupat085/3-minutes-python/blob/master/Untitled15.ipynb\" target=\"_parent\"><img src=\"https://colab.research.google.com/assets/colab-badge.svg\" alt=\"Open In Colab\"/></a>"
      ]
    },
    {
      "cell_type": "code",
      "metadata": {
        "colab": {
          "base_uri": "https://localhost:8080/"
        },
        "id": "Fmj8wAnKQ23S",
        "outputId": "365f02d9-7688-48b1-e83b-ab1bda053e71"
      },
      "source": [
        "i1 = input()\n",
        "i2 = input()"
      ],
      "execution_count": 121,
      "outputs": [
        {
          "output_type": "stream",
          "text": [
            "7\n",
            "8\n"
          ],
          "name": "stdout"
        }
      ]
    },
    {
      "cell_type": "code",
      "metadata": {
        "colab": {
          "base_uri": "https://localhost:8080/"
        },
        "id": "RlRnghGCQ6sG",
        "outputId": "cb59193a-7cfb-4609-b014-4bb53e603dd3"
      },
      "source": [
        "# xx = int(i2)\n",
        "# a = []\n",
        "# z = False\n",
        "# for i in range(0,int(i1)):\n",
        "#   if z == True:\n",
        "#     for i in range(xx + 1 ,xx + xx + 1):\n",
        "#       print(i , end = \" \")\n",
        "#       a.append(i)\n",
        "#     len(a)\n",
        "#     print(\"\") \n",
        "\n",
        "#     xx = a[-1]\n",
        "#     a = []\n",
        "#   else :\n",
        "#     for x in range(0,xx):\n",
        "#       print(x +1,\"\", end=\"\")\n",
        "#     print(\"\")\n",
        "#   z = True\n"
      ],
      "execution_count": 87,
      "outputs": [
        {
          "output_type": "stream",
          "text": [
            "1 2 3 4 5 \n",
            "6 7 8 9 10 \n",
            "11 12 13 14 15 16 17 18 19 20 \n",
            "21 22 23 24 25 26 27 28 29 30 31 32 33 34 35 36 37 38 39 40 \n"
          ],
          "name": "stdout"
        }
      ]
    },
    {
      "cell_type": "code",
      "metadata": {
        "colab": {
          "base_uri": "https://localhost:8080/"
        },
        "id": "eltuU0odQ733",
        "outputId": "d328de00-05e4-43dc-ab02-50d572f70fd8"
      },
      "source": [
        "i1 = input()\n",
        "i2 = input()\n",
        "t = int(i2)\n",
        "a = 1\n",
        "for i in range(1,int(i1)+1):\n",
        "  for i in range(a,t+1):\n",
        "    print(i ,\"\", end=\"\")\n",
        "    a = i + 1\n",
        "  t = t + int(i2)\n",
        "  print(\"\")"
      ],
      "execution_count": 122,
      "outputs": [
        {
          "output_type": "stream",
          "text": [
            "1 2 3 4 5 6 7 8 \n",
            "9 10 11 12 13 14 15 16 \n",
            "17 18 19 20 21 22 23 24 \n",
            "25 26 27 28 29 30 31 32 \n",
            "33 34 35 36 37 38 39 40 \n",
            "41 42 43 44 45 46 47 48 \n",
            "49 50 51 52 53 54 55 56 \n"
          ],
          "name": "stdout"
        }
      ]
    },
    {
      "cell_type": "code",
      "metadata": {
        "id": "hJLu2tfoRADt"
      },
      "source": [
        ""
      ],
      "execution_count": null,
      "outputs": []
    }
  ]
}