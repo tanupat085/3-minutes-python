{
  "nbformat": 4,
  "nbformat_minor": 0,
  "metadata": {
    "colab": {
      "name": "Untitled3.ipynb",
      "provenance": []
    },
    "kernelspec": {
      "name": "python3",
      "display_name": "Python 3"
    },
    "language_info": {
      "name": "python"
    }
  },
  "cells": [
    {
      "cell_type": "code",
      "source": [
        "disks = []                  #ประกาศ disk\n",
        "for i in range(0,10):          #loop เก็บ disk\n",
        "  x = int(input('disks'))\n",
        "  disks.append(x)\n",
        "\n",
        "disks.sort()            #เรียงค่าใน disk\n",
        "\n",
        "traya=[]       #สร้าง tray a b c\n",
        "trayb=[]\n",
        "trayc=[]\n",
        " \n",
        "traya=disks\n",
        "print('traya' , traya)\n",
        "if len(traya) > 1:      #ถ้าtray a เต็ม ไป tray b\n",
        "  tryab = traya\n",
        "  traya = []\n",
        "  print('trayb',trayb)\n",
        "if len(trayb) > 1:       #ถ้าtray b เต็ม ไป tray c\n",
        "  trayc = trayb\n",
        "  trayb = []\n",
        "  print('trayc',trayc)"
      ],
      "metadata": {
        "id": "BTDJx_HaPzxn"
      },
      "execution_count": null,
      "outputs": []
    }
  ]
}