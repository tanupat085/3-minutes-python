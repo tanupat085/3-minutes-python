{
  "nbformat": 4,
  "nbformat_minor": 0,
  "metadata": {
    "colab": {
      "name": "Untitled0.ipynb",
      "provenance": [],
      "collapsed_sections": [],
      "authorship_tag": "ABX9TyNORpNgH6BlQVTEzrPc/kNq",
      "include_colab_link": true
    },
    "kernelspec": {
      "name": "python3",
      "display_name": "Python 3"
    },
    "language_info": {
      "name": "python"
    },
    "accelerator": "GPU"
  },
  "cells": [
    {
      "cell_type": "markdown",
      "metadata": {
        "id": "view-in-github",
        "colab_type": "text"
      },
      "source": [
        "<a href=\"https://colab.research.google.com/github/tanupat085/3-minutes-python/blob/master/tmlcc0.ipynb\" target=\"_parent\"><img src=\"https://colab.research.google.com/assets/colab-badge.svg\" alt=\"Open In Colab\"/></a>"
      ]
    },
    {
      "cell_type": "code",
      "metadata": {
        "colab": {
          "base_uri": "https://localhost:8080/"
        },
        "id": "21LBRzhB_DHn",
        "outputId": "e5e1d8b4-79fa-4710-eb90-0e506549f2a8"
      },
      "source": [
        "import numpy as np\n",
        "val = [20.1,20.8,21.9,22.5,22.7,\n",
        "       22.3,21.8,21.2,20.9,20.1]\n",
        "print(\"val:\",val)\n",
        "\n",
        "#numpy\n",
        "c = np.array(val)\n",
        "print(\"c:\",c)"
      ],
      "execution_count": 2,
      "outputs": [
        {
          "output_type": "stream",
          "name": "stdout",
          "text": [
            "val: [20.1, 20.8, 21.9, 22.5, 22.7, 22.3, 21.8, 21.2, 20.9, 20.1]\n",
            "c: [20.1 20.8 21.9 22.5 22.7 22.3 21.8 21.2 20.9 20.1]\n"
          ]
        }
      ]
    },
    {
      "cell_type": "code",
      "metadata": {
        "colab": {
          "base_uri": "https://localhost:8080/",
          "height": 168
        },
        "id": "wjNciKDFARrn",
        "outputId": "2c3ccf43-4c44-415d-a107-2e955286b944"
      },
      "source": [
        "print(val * 9 / 5 +32)"
      ],
      "execution_count": 13,
      "outputs": [
        {
          "output_type": "error",
          "ename": "TypeError",
          "evalue": "ignored",
          "traceback": [
            "\u001b[0;31m---------------------------------------------------------------------------\u001b[0m",
            "\u001b[0;31mTypeError\u001b[0m                                 Traceback (most recent call last)",
            "\u001b[0;32m<ipython-input-13-50478b5ad7c0>\u001b[0m in \u001b[0;36m<module>\u001b[0;34m()\u001b[0m\n\u001b[0;32m----> 1\u001b[0;31m \u001b[0mprint\u001b[0m\u001b[0;34m(\u001b[0m\u001b[0mval\u001b[0m \u001b[0;34m*\u001b[0m \u001b[0;36m9\u001b[0m \u001b[0;34m/\u001b[0m \u001b[0;36m5\u001b[0m \u001b[0;34m+\u001b[0m\u001b[0;36m32\u001b[0m\u001b[0;34m)\u001b[0m\u001b[0;34m\u001b[0m\u001b[0;34m\u001b[0m\u001b[0m\n\u001b[0m",
            "\u001b[0;31mTypeError\u001b[0m: unsupported operand type(s) for /: 'list' and 'int'"
          ]
        }
      ]
    },
    {
      "cell_type": "code",
      "metadata": {
        "colab": {
          "base_uri": "https://localhost:8080/"
        },
        "id": "LePAQMIXAd4x",
        "outputId": "50b168a6-486a-41a1-c566-9c27f3312583"
      },
      "source": [
        "fval = [ x*9/5+32 for x in val]\n",
        "print(fval)"
      ],
      "execution_count": 14,
      "outputs": [
        {
          "output_type": "stream",
          "name": "stdout",
          "text": [
            "[68.18, 69.44, 71.42, 72.5, 72.86, 72.14, 71.24000000000001, 70.16, 69.62, 68.18]\n"
          ]
        }
      ]
    },
    {
      "cell_type": "code",
      "metadata": {
        "colab": {
          "base_uri": "https://localhost:8080/"
        },
        "id": "8PORleqP_eM4",
        "outputId": "a9a3df1e-e8f2-4e9d-9a8d-e90fc770d4f2"
      },
      "source": [
        "#numpy\n",
        "print(c * 9 / 5 + 32)"
      ],
      "execution_count": 15,
      "outputs": [
        {
          "output_type": "stream",
          "name": "stdout",
          "text": [
            "[68.18 69.44 71.42 72.5  72.86 72.14 71.24 70.16 69.62 68.18]\n"
          ]
        }
      ]
    },
    {
      "cell_type": "code",
      "metadata": {
        "colab": {
          "base_uri": "https://localhost:8080/"
        },
        "id": "y8fkRiVrAVf8",
        "outputId": "615208b8-f64b-4181-93ac-adbe94bc80be"
      },
      "source": [
        "type(val)"
      ],
      "execution_count": 17,
      "outputs": [
        {
          "output_type": "execute_result",
          "data": {
            "text/plain": [
              "list"
            ]
          },
          "metadata": {},
          "execution_count": 17
        }
      ]
    },
    {
      "cell_type": "code",
      "metadata": {
        "colab": {
          "base_uri": "https://localhost:8080/"
        },
        "id": "uBlbuiQNA_mC",
        "outputId": "e57774c3-4bcb-4fb4-b2ab-b6d55a75ec04"
      },
      "source": [
        "  type(c)"
      ],
      "execution_count": 18,
      "outputs": [
        {
          "output_type": "execute_result",
          "data": {
            "text/plain": [
              "numpy.ndarray"
            ]
          },
          "metadata": {},
          "execution_count": 18
        }
      ]
    },
    {
      "cell_type": "code",
      "metadata": {
        "colab": {
          "base_uri": "https://localhost:8080/",
          "height": 265
        },
        "id": "lyo_ocilBAkE",
        "outputId": "80c575b9-3997-4bee-f1f4-aef276ff82d4"
      },
      "source": [
        "import matplotlib.pyplot as plt \n",
        "plt.plot(c)\n",
        "plt.show()"
      ],
      "execution_count": 22,
      "outputs": [
        {
          "output_type": "display_data",
          "data": {
            "image/png": "[encoded data removed]",
            "text/plain": [
              "<Figure size 432x288 with 1 Axes>"
            ]
          },
          "metadata": {
            "needs_background": "light"
          }
        }
      ]
    },
    {
      "cell_type": "code",
      "metadata": {
        "colab": {
          "base_uri": "https://localhost:8080/"
        },
        "id": "FzvBNXpmBMz4",
        "outputId": "cda638a4-2811-47b6-9663-f703bd0599b4"
      },
      "source": [
        "#np.arange(เริ่ม , จบ , step)\n",
        "x = np.arange( 0.5 , 10.4 , 0.8 )\n",
        "x"
      ],
      "execution_count": 28,
      "outputs": [
        {
          "output_type": "execute_result",
          "data": {
            "text/plain": [
              "array([ 0.5,  1.3,  2.1,  2.9,  3.7,  4.5,  5.3,  6.1,  6.9,  7.7,  8.5,\n",
              "        9.3, 10.1])"
            ]
          },
          "metadata": {},
          "execution_count": 28
        }
      ]
    },
    {
      "cell_type": "code",
      "metadata": {
        "colab": {
          "base_uri": "https://localhost:8080/"
        },
        "id": "WwcrvXpNBulC",
        "outputId": "7d464b11-830f-4cbf-fe72-8e7ecad505b5"
      },
      "source": [
        "a = np.array([1,1,1,1,1,1,1,1,1])\n",
        "a"
      ],
      "execution_count": 3,
      "outputs": [
        {
          "output_type": "execute_result",
          "data": {
            "text/plain": [
              "array([1, 1, 1, 1, 1, 1, 1, 1, 1])"
            ]
          },
          "metadata": {},
          "execution_count": 3
        }
      ]
    },
    {
      "cell_type": "code",
      "metadata": {
        "colab": {
          "base_uri": "https://localhost:8080/"
        },
        "id": "ZQzytSvncrsj",
        "outputId": "caf33296-e42b-4b62-b90d-795e29cb0aa0"
      },
      "source": [
        "b = np.array([[1,1,11,1],\n",
        "             [1,1,1,1],\n",
        "             [1,1,1,1]])\n",
        "print(b)\n",
        "d = np.array([[[111,222],[111,222]],\n",
        "              [[333,444],[333,444]],\n",
        "              [[444,555],[555,666]] ])\n",
        "print(d)"
      ],
      "execution_count": 11,
      "outputs": [
        {
          "output_type": "stream",
          "name": "stdout",
          "text": [
            "[[ 1  1 11  1]\n",
            " [ 1  1  1  1]\n",
            " [ 1  1  1  1]]\n",
            "[[[111 222]\n",
            "  [111 222]]\n",
            "\n",
            " [[333 444]\n",
            "  [333 444]]\n",
            "\n",
            " [[444 555]\n",
            "  [555 666]]]\n"
          ]
        }
      ]
    },
    {
      "cell_type": "code",
      "metadata": {
        "colab": {
          "base_uri": "https://localhost:8080/"
        },
        "id": "QibsCIfTdlNl",
        "outputId": "518b04e4-9189-4f06-f589-deeeba497da2"
      },
      "source": [
        "dd = np.array([\n",
        "               [1,1,8,1,1],\n",
        "               [2,2,8,2,2],\n",
        "               [3,3,8,3,3],\n",
        "               [4,4,8,4,4],\n",
        "               [5,5,8,5,5]\n",
        "])\n",
        "print(dd[:3,2:])"
      ],
      "execution_count": 12,
      "outputs": [
        {
          "output_type": "stream",
          "name": "stdout",
          "text": [
            "[[8 1 1]\n",
            " [8 2 2]\n",
            " [8 3 3]]\n"
          ]
        }
      ]
    },
    {
      "cell_type": "code",
      "metadata": {
        "colab": {
          "base_uri": "https://localhost:8080/"
        },
        "id": "YBd8XVYye8Gh",
        "outputId": "db387bc6-7c06-4c2c-9819-334b7d044c3a"
      },
      "source": [
        "#broadcasting\n",
        "aaa = np.array([[1,1,1],[2,2,2],[3,3,3]])\n",
        "bbb = np.array([[1,2,3]])\n",
        "print(aaa*bbb)"
      ],
      "execution_count": 13,
      "outputs": [
        {
          "output_type": "stream",
          "name": "stdout",
          "text": [
            "[[1 2 3]\n",
            " [2 4 6]\n",
            " [3 6 9]]\n"
          ]
        }
      ]
    },
    {
      "cell_type": "code",
      "metadata": {
        "colab": {
          "base_uri": "https://localhost:8080/"
        },
        "id": "6_gQKjx4fNTR",
        "outputId": "2cad7836-700a-4dd0-a9c4-12766d60a9fa"
      },
      "source": [
        "te = np.array([11,22])\n",
        "ye = np.array([33,44])\n",
        "ve = np.array([55,66])\n",
        "cc = np.concatenate((te,ye,ve))\n",
        "print(cc)"
      ],
      "execution_count": 14,
      "outputs": [
        {
          "output_type": "stream",
          "name": "stdout",
          "text": [
            "[11 22 33 44 55 66]\n"
          ]
        }
      ]
    },
    {
      "cell_type": "code",
      "metadata": {
        "colab": {
          "base_uri": "https://localhost:8080/"
        },
        "id": "Ktl9bBj5fd-a",
        "outputId": "6ce56a4e-1258-4d4d-dac2-cbdfc0bd2d2b"
      },
      "source": [
        "ge = np.array([3,4,5])\n",
        "ts = np.array([1,9,0])\n",
        "print(np.row_stack((ge,ts)))\n",
        "print(np.column_stack((ge,ts)))\n",
        "np.shape(ge)"
      ],
      "execution_count": 16,
      "outputs": [
        {
          "output_type": "stream",
          "name": "stdout",
          "text": [
            "[[3 4 5]\n",
            " [1 9 0]]\n",
            "[[3 1]\n",
            " [4 9]\n",
            " [5 0]]\n"
          ]
        },
        {
          "output_type": "execute_result",
          "data": {
            "text/plain": [
              "(3,)"
            ]
          },
          "metadata": {},
          "execution_count": 16
        }
      ]
    },
    {
      "cell_type": "code",
      "metadata": {
        "id": "DlBccJhaf8pR"
      },
      "source": [
        ""
      ],
      "execution_count": null,
      "outputs": []
    }
  ]
}