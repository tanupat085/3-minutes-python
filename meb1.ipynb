{
  "nbformat": 4,
  "nbformat_minor": 0,
  "metadata": {
    "colab": {
      "name": "meb1.ipynb",
      "provenance": [],
      "collapsed_sections": [],
      "authorship_tag": "ABX9TyMyW+RJUdzIAzKDP4I99am0",
      "include_colab_link": true
    },
    "kernelspec": {
      "name": "python3",
      "display_name": "Python 3"
    },
    "language_info": {
      "name": "python"
    },
    "accelerator": "GPU"
  },
  "cells": [
    {
      "cell_type": "markdown",
      "metadata": {
        "id": "view-in-github",
        "colab_type": "text"
      },
      "source": [
        "<a href=\"https://colab.research.google.com/github/tanupat085/3-minutes-python/blob/master/meb1.ipynb\" target=\"_parent\"><img src=\"https://colab.research.google.com/assets/colab-badge.svg\" alt=\"Open In Colab\"/></a>"
      ]
    },
    {
      "cell_type": "code",
      "metadata": {
        "id": "0CuIQAtuORk_"
      },
      "source": [
        "from sklearn import datasets\n",
        "import matplotlib.pyplot as plt\n",
        "\n",
        "iris_dataset = datasets.load_iris()\n",
        "mnist_dataset = datasets.load_digits()"
      ],
      "execution_count": null,
      "outputs": []
    },
    {
      "cell_type": "code",
      "metadata": {
        "colab": {
          "base_uri": "https://localhost:8080/"
        },
        "id": "ZUIm1FC0PBAy",
        "outputId": "4419c48b-918d-4dac-8274-77eb67116b82"
      },
      "source": [
        "  print(iris_dataset.keys())"
      ],
      "execution_count": null,
      "outputs": [
        {
          "output_type": "stream",
          "name": "stdout",
          "text": [
            "dict_keys(['data', 'target', 'target_names', 'DESCR', 'feature_names', 'filename'])\n"
          ]
        }
      ]
    },
    {
      "cell_type": "code",
      "metadata": {
        "id": "uCCaM8y4ShXy"
      },
      "source": [
        "# print(iris_dataset['target'])\n",
        "# print(iris_dataset['target_names'])\n",
        "print(iris_dataset['data'])\n",
        "# print(iris_dataset['DESCR'])"
      ],
      "execution_count": null,
      "outputs": []
    },
    {
      "cell_type": "code",
      "metadata": {
        "colab": {
          "base_uri": "https://localhost:8080/",
          "height": 401
        },
        "id": "5JodmV6Aeige",
        "outputId": "401a3dce-7df5-4d52-cafa-cf19023a019b"
      },
      "source": [
        "print(mnist_datset.images[0])\n",
        "# plt.imshow(mnist_dataset.images[0])\n",
        "plt.imshow(mnist_dataset.images[0],cmap=plt.get_cmap('gray'))\n",
        "plt.show()"
      ],
      "execution_count": null,
      "outputs": [
        {
          "output_type": "stream",
          "name": "stdout",
          "text": [
            "[[ 0.  0.  5. 13.  9.  1.  0.  0.]\n",
            " [ 0.  0. 13. 15. 10. 15.  5.  0.]\n",
            " [ 0.  3. 15.  2.  0. 11.  8.  0.]\n",
            " [ 0.  4. 12.  0.  0.  8.  8.  0.]\n",
            " [ 0.  5.  8.  0.  0.  9.  8.  0.]\n",
            " [ 0.  4. 11.  0.  1. 12.  7.  0.]\n",
            " [ 0.  2. 14.  5. 10. 12.  0.  0.]\n",
            " [ 0.  0.  6. 13. 10.  0.  0.  0.]]\n"
          ]
        },
        {
          "output_type": "display_data",
          "data": {
            "image/png": "[encoded data removed]",
            "text/plain": [
              "<Figure size 432x288 with 1 Axes>"
            ]
          },
          "metadata": {
            "needs_background": "light"
          }
        }
      ]
    },
    {
      "cell_type": "code",
      "metadata": {
        "id": "pJ-wNuNRiZco",
        "colab": {
          "base_uri": "https://localhost:8080/"
        },
        "outputId": "25456ee3-b447-4290-fe28-308b028c561a"
      },
      "source": [
        "#การแบ่งข้อมูล\n",
        "from sklearn.model_selection import train_test_split\n",
        "x_train , x_test , y_train , y_test = train_test_split(iris_dataset[\"data\"] , iris_dataset[\"target\"] ,test_size = 0.2,random_state = 0)\n",
        "# iris_dataset[\"data\"] = x\n",
        "# iris_dataset[\"target\"] = y\n",
        "print(x_train.shape)"
      ],
      "execution_count": null,
      "outputs": [
        {
          "output_type": "stream",
          "name": "stdout",
          "text": [
            "(120, 4)\n"
          ]
        }
      ]
    },
    {
      "cell_type": "code",
      "metadata": {
        "colab": {
          "base_uri": "https://localhost:8080/",
          "height": 264
        },
        "id": "4Ixt6y7uwhyU",
        "outputId": "c9ca1016-db5c-4f81-8a0e-e61fb7decc58"
      },
      "source": [
        "import numpy as np\n",
        "import matplotlib.pyplot as plt\n",
        "from sklearn.linear_model import LinearRegression\n",
        "rng = np.random\n",
        "\n",
        "#จำลองdata\n",
        "x=rng.random(50)*10\n",
        "y=2*x+rng.random(50)\n",
        "\n",
        "y_new = y.reshape(-1,1)\n",
        "x_new = x.reshape(-1,1)\n",
        "\n",
        "#linear regression model\n",
        "model = LinearRegression()\n",
        "\n",
        "\n",
        "# train\n",
        "model.fit(x_new,y_new)\n",
        "\n",
        "# print(model.score(x_new , y))\n",
        "# # r-squared = model.score\n",
        "# print(model.coef_)\n",
        "# # coefficient\n",
        "\n",
        "\n",
        "#test\n",
        "xfit = np.linspace(-1,11)\n",
        "\n",
        "xfit_new = xfit.reshape(-1,1)\n",
        "yfit = model.predict(xfit_new)\n",
        "plt.scatter(x,y)\n",
        "plt.plot(xfit,yfit)\n",
        "plt.show()"
      ],
      "execution_count": null,
      "outputs": [
        {
          "output_type": "display_data",
          "data": {
            "image/png": "[encoded data removed]",
            "text/plain": [
              "<Figure size 432x288 with 1 Axes>"
            ]
          },
          "metadata": {
            "needs_background": "light"
          }
        }
      ]
    },
    {
      "cell_type": "code",
      "metadata": {
        "colab": {
          "base_uri": "https://localhost:8080/",
          "height": 264
        },
        "id": "puBxMemCyIpH",
        "outputId": "de5c13f0-ef19-45c4-feea-6f4239c444f4"
      },
      "source": [
        "import numpy as np\n",
        "import matplotlib.pyplot as plt\n",
        "from sklearn.linear_model import LinearRegression\n",
        "rng = np.random\n",
        "\n",
        "#จำลองdata\n",
        "x=rng.random(50)*10\n",
        "y=2*x+rng.random(50)\n",
        "y_new = y.reshape(-1,1)\n",
        "x_new = x.reshape(-1,1)\n",
        "\n",
        "#linear regression model\n",
        "model = LinearRegression()\n",
        "# print(y)\n",
        "# print(y_new)\n",
        "\n",
        "# train\n",
        "model.fit(x_new,y_new)\n",
        "\n",
        "# print(model.score(x_new , y))\n",
        "# # # r-squared = model.score\n",
        "#  print(model.coef_)\n",
        "# # # coefficient\n",
        "\n",
        "\n",
        "# # #test\n",
        "xfit = np.linspace(-1,11)\n",
        "\n",
        "xfit_new = xfit.reshape(-1,1)\n",
        "yfit = model.predict(xfit_new)\n",
        "plt.scatter(x,y)\n",
        "plt.plot(xfit,yfit)\n",
        "plt.show()"
      ],
      "execution_count": null,
      "outputs": [
        {
          "output_type": "display_data",
          "data": {
            "image/png": "[encoded data removed]",
            "text/plain": [
              "<Figure size 432x288 with 1 Axes>"
            ]
          },
          "metadata": {
            "needs_background": "light"
          }
        }
      ]
    },
    {
      "cell_type": "code",
      "metadata": {
        "colab": {
          "base_uri": "https://localhost:8080/"
        },
        "id": "xIYJfkx9tMnq",
        "outputId": "3e04b17d-8771-4c61-9d6f-99fa58a524bf"
      },
      "source": [
        "#ทำนายอุณหภูมิ\n",
        "import pandas as pd\n",
        "import numpy as np\n",
        "import matplotlib.pyplot as plt\n",
        "from sklearn.model_selection import train_test_split\n",
        "from sklearn.linear_model import LinearRegression\n",
        "dataset = pd.read_csv(\"https://raw.githubusercontent.com/kongruksiamza/MachineLearning/master/Linear%20Regression/Weather.csv\")"
      ],
      "execution_count": null,
      "outputs": [
        {
          "output_type": "stream",
          "name": "stderr",
          "text": [
            "/usr/local/lib/python3.7/dist-packages/IPython/core/interactiveshell.py:2718: DtypeWarning: Columns (7,8,18,25) have mixed types.Specify dtype option on import or set low_memory=False.\n",
            "  interactivity=interactivity, compiler=compiler, result=result)\n"
          ]
        }
      ]
    },
    {
      "cell_type": "code",
      "metadata": {
        "colab": {
          "base_uri": "https://localhost:8080/",
          "height": 312
        },
        "id": "IjP_QKdruB_g",
        "outputId": "adaf5592-43c1-49b8-8a31-e473cadc191f"
      },
      "source": [
        "dataset.plot(x='MinTemp',y='MaxTemp' ,style='o')\n",
        "plt.title('min & max temp')\n",
        "plt.xlabel('mintemp') # แสดงข้อความ\n",
        "plt.ylabel('maxtemp')"
      ],
      "execution_count": null,
      "outputs": [
        {
          "output_type": "execute_result",
          "data": {
            "text/plain": [
              "Text(0, 0.5, 'maxtemp')"
            ]
          },
          "metadata": {},
          "execution_count": 9
        },
        {
          "output_type": "display_data",
          "data": {
            "image/png": "[encoded data removed]",
            "text/plain": [
              "<Figure size 432x288 with 1 Axes>"
            ]
          },
          "metadata": {
            "needs_background": "light"
          }
        }
      ]
    },
    {
      "cell_type": "code",
      "metadata": {
        "colab": {
          "base_uri": "https://localhost:8080/",
          "height": 317
        },
        "id": "XuEo_Qqzy1ZD",
        "outputId": "56ffac09-e4de-451e-fc89-ba4f1fcc86ff"
      },
      "source": [
        "dataset.describe()"
      ],
      "execution_count": null,
      "outputs": [
        {
          "output_type": "execute_result",
          "data": {
            "text/html": [
              "<div>\n",
              "<style scoped>\n",
              "    .dataframe tbody tr th:only-of-type {\n",
              "        vertical-align: middle;\n",
              "    }\n",
              "\n",
              "    .dataframe tbody tr th {\n",
              "        vertical-align: top;\n",
              "    }\n",
              "\n",
              "    .dataframe thead th {\n",
              "        text-align: right;\n",
              "    }\n",
              "</style>\n",
              "<table border=\"1\" class=\"dataframe\">\n",
              "  <thead>\n",
              "    <tr style=\"text-align: right;\">\n",
              "      <th></th>\n",
              "      <th>STA</th>\n",
              "      <th>WindGustSpd</th>\n",
              "      <th>MaxTemp</th>\n",
              "      <th>MinTemp</th>\n",
              "      <th>MeanTemp</th>\n",
              "      <th>YR</th>\n",
              "      <th>MO</th>\n",
              "      <th>DA</th>\n",
              "      <th>DR</th>\n",
              "      <th>SPD</th>\n",
              "      <th>MAX</th>\n",
              "      <th>MIN</th>\n",
              "      <th>MEA</th>\n",
              "      <th>SND</th>\n",
              "      <th>FT</th>\n",
              "      <th>FB</th>\n",
              "      <th>FTI</th>\n",
              "      <th>ITH</th>\n",
              "      <th>PGT</th>\n",
              "      <th>SD3</th>\n",
              "      <th>RHX</th>\n",
              "      <th>RHN</th>\n",
              "      <th>RVG</th>\n",
              "      <th>WTE</th>\n",
              "    </tr>\n",
              "  </thead>\n",
              "  <tbody>\n",
              "    <tr>\n",
              "      <th>count</th>\n",
              "      <td>119040.000000</td>\n",
              "      <td>532.000000</td>\n",
              "      <td>119040.000000</td>\n",
              "      <td>119040.000000</td>\n",
              "      <td>119040.000000</td>\n",
              "      <td>119040.000000</td>\n",
              "      <td>119040.000000</td>\n",
              "      <td>119040.000000</td>\n",
              "      <td>533.000000</td>\n",
              "      <td>532.000000</td>\n",
              "      <td>118566.000000</td>\n",
              "      <td>118572.000000</td>\n",
              "      <td>118542.000000</td>\n",
              "      <td>5563.0</td>\n",
              "      <td>0.0</td>\n",
              "      <td>0.0</td>\n",
              "      <td>0.0</td>\n",
              "      <td>0.0</td>\n",
              "      <td>525.000000</td>\n",
              "      <td>0.0</td>\n",
              "      <td>0.0</td>\n",
              "      <td>0.0</td>\n",
              "      <td>0.0</td>\n",
              "      <td>0.0</td>\n",
              "    </tr>\n",
              "    <tr>\n",
              "      <th>mean</th>\n",
              "      <td>29659.435795</td>\n",
              "      <td>37.774534</td>\n",
              "      <td>27.045111</td>\n",
              "      <td>17.789511</td>\n",
              "      <td>22.411631</td>\n",
              "      <td>43.805284</td>\n",
              "      <td>6.726016</td>\n",
              "      <td>15.797530</td>\n",
              "      <td>26.998124</td>\n",
              "      <td>20.396617</td>\n",
              "      <td>81.003745</td>\n",
              "      <td>64.273808</td>\n",
              "      <td>72.644843</td>\n",
              "      <td>0.0</td>\n",
              "      <td>NaN</td>\n",
              "      <td>NaN</td>\n",
              "      <td>NaN</td>\n",
              "      <td>NaN</td>\n",
              "      <td>12.085333</td>\n",
              "      <td>NaN</td>\n",
              "      <td>NaN</td>\n",
              "      <td>NaN</td>\n",
              "      <td>NaN</td>\n",
              "      <td>NaN</td>\n",
              "    </tr>\n",
              "    <tr>\n",
              "      <th>std</th>\n",
              "      <td>20953.209402</td>\n",
              "      <td>10.297808</td>\n",
              "      <td>8.717817</td>\n",
              "      <td>8.334572</td>\n",
              "      <td>8.297982</td>\n",
              "      <td>1.136718</td>\n",
              "      <td>3.425561</td>\n",
              "      <td>8.794541</td>\n",
              "      <td>15.221732</td>\n",
              "      <td>5.560371</td>\n",
              "      <td>14.869361</td>\n",
              "      <td>14.481498</td>\n",
              "      <td>14.211082</td>\n",
              "      <td>0.0</td>\n",
              "      <td>NaN</td>\n",
              "      <td>NaN</td>\n",
              "      <td>NaN</td>\n",
              "      <td>NaN</td>\n",
              "      <td>5.731328</td>\n",
              "      <td>NaN</td>\n",
              "      <td>NaN</td>\n",
              "      <td>NaN</td>\n",
              "      <td>NaN</td>\n",
              "      <td>NaN</td>\n",
              "    </tr>\n",
              "    <tr>\n",
              "      <th>min</th>\n",
              "      <td>10001.000000</td>\n",
              "      <td>18.520000</td>\n",
              "      <td>-33.333333</td>\n",
              "      <td>-38.333333</td>\n",
              "      <td>-35.555556</td>\n",
              "      <td>40.000000</td>\n",
              "      <td>1.000000</td>\n",
              "      <td>1.000000</td>\n",
              "      <td>2.000000</td>\n",
              "      <td>10.000000</td>\n",
              "      <td>-28.000000</td>\n",
              "      <td>-37.000000</td>\n",
              "      <td>-32.000000</td>\n",
              "      <td>0.0</td>\n",
              "      <td>NaN</td>\n",
              "      <td>NaN</td>\n",
              "      <td>NaN</td>\n",
              "      <td>NaN</td>\n",
              "      <td>0.000000</td>\n",
              "      <td>NaN</td>\n",
              "      <td>NaN</td>\n",
              "      <td>NaN</td>\n",
              "      <td>NaN</td>\n",
              "      <td>NaN</td>\n",
              "    </tr>\n",
              "    <tr>\n",
              "      <th>25%</th>\n",
              "      <td>11801.000000</td>\n",
              "      <td>29.632000</td>\n",
              "      <td>25.555556</td>\n",
              "      <td>15.000000</td>\n",
              "      <td>20.555556</td>\n",
              "      <td>43.000000</td>\n",
              "      <td>4.000000</td>\n",
              "      <td>8.000000</td>\n",
              "      <td>11.000000</td>\n",
              "      <td>16.000000</td>\n",
              "      <td>78.000000</td>\n",
              "      <td>59.000000</td>\n",
              "      <td>69.000000</td>\n",
              "      <td>0.0</td>\n",
              "      <td>NaN</td>\n",
              "      <td>NaN</td>\n",
              "      <td>NaN</td>\n",
              "      <td>NaN</td>\n",
              "      <td>8.500000</td>\n",
              "      <td>NaN</td>\n",
              "      <td>NaN</td>\n",
              "      <td>NaN</td>\n",
              "      <td>NaN</td>\n",
              "      <td>NaN</td>\n",
              "    </tr>\n",
              "    <tr>\n",
              "      <th>50%</th>\n",
              "      <td>22508.000000</td>\n",
              "      <td>37.040000</td>\n",
              "      <td>29.444444</td>\n",
              "      <td>21.111111</td>\n",
              "      <td>25.555556</td>\n",
              "      <td>44.000000</td>\n",
              "      <td>7.000000</td>\n",
              "      <td>16.000000</td>\n",
              "      <td>32.000000</td>\n",
              "      <td>20.000000</td>\n",
              "      <td>85.000000</td>\n",
              "      <td>70.000000</td>\n",
              "      <td>78.000000</td>\n",
              "      <td>0.0</td>\n",
              "      <td>NaN</td>\n",
              "      <td>NaN</td>\n",
              "      <td>NaN</td>\n",
              "      <td>NaN</td>\n",
              "      <td>11.600000</td>\n",
              "      <td>NaN</td>\n",
              "      <td>NaN</td>\n",
              "      <td>NaN</td>\n",
              "      <td>NaN</td>\n",
              "      <td>NaN</td>\n",
              "    </tr>\n",
              "    <tr>\n",
              "      <th>75%</th>\n",
              "      <td>33501.000000</td>\n",
              "      <td>43.059000</td>\n",
              "      <td>31.666667</td>\n",
              "      <td>23.333333</td>\n",
              "      <td>27.222222</td>\n",
              "      <td>45.000000</td>\n",
              "      <td>10.000000</td>\n",
              "      <td>23.000000</td>\n",
              "      <td>34.000000</td>\n",
              "      <td>23.250000</td>\n",
              "      <td>89.000000</td>\n",
              "      <td>74.000000</td>\n",
              "      <td>81.000000</td>\n",
              "      <td>0.0</td>\n",
              "      <td>NaN</td>\n",
              "      <td>NaN</td>\n",
              "      <td>NaN</td>\n",
              "      <td>NaN</td>\n",
              "      <td>15.000000</td>\n",
              "      <td>NaN</td>\n",
              "      <td>NaN</td>\n",
              "      <td>NaN</td>\n",
              "      <td>NaN</td>\n",
              "      <td>NaN</td>\n",
              "    </tr>\n",
              "    <tr>\n",
              "      <th>max</th>\n",
              "      <td>82506.000000</td>\n",
              "      <td>75.932000</td>\n",
              "      <td>50.000000</td>\n",
              "      <td>34.444444</td>\n",
              "      <td>40.000000</td>\n",
              "      <td>45.000000</td>\n",
              "      <td>12.000000</td>\n",
              "      <td>31.000000</td>\n",
              "      <td>78.000000</td>\n",
              "      <td>41.000000</td>\n",
              "      <td>122.000000</td>\n",
              "      <td>94.000000</td>\n",
              "      <td>104.000000</td>\n",
              "      <td>0.0</td>\n",
              "      <td>NaN</td>\n",
              "      <td>NaN</td>\n",
              "      <td>NaN</td>\n",
              "      <td>NaN</td>\n",
              "      <td>23.900000</td>\n",
              "      <td>NaN</td>\n",
              "      <td>NaN</td>\n",
              "      <td>NaN</td>\n",
              "      <td>NaN</td>\n",
              "      <td>NaN</td>\n",
              "    </tr>\n",
              "  </tbody>\n",
              "</table>\n",
              "</div>"
            ],
            "text/plain": [
              "                 STA  WindGustSpd        MaxTemp  ...  RHN  RVG  WTE\n",
              "count  119040.000000   532.000000  119040.000000  ...  0.0  0.0  0.0\n",
              "mean    29659.435795    37.774534      27.045111  ...  NaN  NaN  NaN\n",
              "std     20953.209402    10.297808       8.717817  ...  NaN  NaN  NaN\n",
              "min     10001.000000    18.520000     -33.333333  ...  NaN  NaN  NaN\n",
              "25%     11801.000000    29.632000      25.555556  ...  NaN  NaN  NaN\n",
              "50%     22508.000000    37.040000      29.444444  ...  NaN  NaN  NaN\n",
              "75%     33501.000000    43.059000      31.666667  ...  NaN  NaN  NaN\n",
              "max     82506.000000    75.932000      50.000000  ...  NaN  NaN  NaN\n",
              "\n",
              "[8 rows x 24 columns]"
            ]
          },
          "metadata": {},
          "execution_count": 11
        }
      ]
    },
    {
      "cell_type": "code",
      "metadata": {
        "colab": {
          "base_uri": "https://localhost:8080/",
          "height": 264
        },
        "id": "QYT-V9MittTk",
        "outputId": "f8657213-1dd9-4057-8a9a-0ac4ec94f70d"
      },
      "source": [
        "#train_test_split\n",
        "x = dataset['MinTemp'].values.reshape(-1,1)\n",
        "y = dataset['MaxTemp'].values.reshape(-1,1)\n",
        "\n",
        "x_train,x_test,y_train,y_test = train_test_split(x,y,test_size=0.2,random_state=0)\n",
        "\n",
        "model = LinearRegression()\n",
        "model.fit(x_train,y_train)\n",
        "\n",
        "y_pred=model.predict(x_test)\n",
        "\n",
        "plt.scatter(x_test,y_test)\n",
        "plt.plot(x_test,y_pred,color='red',linewidth=2)\n",
        "plt.show()"
      ],
      "execution_count": null,
      "outputs": [
        {
          "output_type": "display_data",
          "data": {
            "image/png": "[encoded data removed]",
            "text/plain": [
              "<Figure size 432x288 with 1 Axes>"
            ]
          },
          "metadata": {
            "needs_background": "light"
          }
        }
      ]
    },
    {
      "cell_type": "code",
      "metadata": {
        "colab": {
          "base_uri": "https://localhost:8080/"
        },
        "id": "zOL8eeDr2vOA",
        "outputId": "6ef455e1-e808-46d0-d7ee-0b960d3bff5e"
      },
      "source": [
        "##error\n",
        "df = pd.DataFrame({'Actually' : y_test.flatten() , 'Predicted' : y_pred.flatten()})\n",
        "\n",
        "print(df.head())"
      ],
      "execution_count": null,
      "outputs": [
        {
          "output_type": "stream",
          "name": "stdout",
          "text": [
            "    Actually  Predicted\n",
            "0  28.888889  33.670351\n",
            "1  31.111111  30.091251\n",
            "2  27.222222  26.512151\n",
            "3  28.888889  31.113851\n",
            "4  23.333333  15.774852\n"
          ]
        }
      ]
    },
    {
      "cell_type": "code",
      "metadata": {
        "colab": {
          "base_uri": "https://localhost:8080/",
          "height": 594
        },
        "id": "AwiDKEaY4Duf",
        "outputId": "0e264f33-7dd4-4fe6-dbf1-ccf8b9c5e09c"
      },
      "source": [
        "df1 = df.head(20)\n",
        "df1.plot(kind=\"bar\" , figsize = (16,10))\n",
        "plt.show()"
      ],
      "execution_count": null,
      "outputs": [
        {
          "output_type": "display_data",
          "data": {
            "image/png": "[encoded data removed]",
            "text/plain": [
              "<Figure size 1152x720 with 1 Axes>"
            ]
          },
          "metadata": {
            "needs_background": "light"
          }
        }
      ]
    },
    {
      "cell_type": "code",
      "metadata": {
        "colab": {
          "base_uri": "https://localhost:8080/"
        },
        "id": "q1pR61Bv48Aw",
        "outputId": "37dac74c-73dd-4ed4-9190-3bad6979be62"
      },
      "source": [
        "##การวัดค่า acc\n",
        "from sklearn import metrics\n",
        "print(\"mae\" , metrics.mean_absolute_error(y_test,y_pred))\n",
        "print(\"mse\" , metrics.mean_squared_error(y_test,y_pred))\n",
        "print(\"RMSE\" , np.sqrt( metrics.mean_squared_error(y_test,y_pred)))\n",
        "print(\"score\" , metrics.r2_score(y_test,y_pred))"
      ],
      "execution_count": null,
      "outputs": [
        {
          "output_type": "stream",
          "name": "stdout",
          "text": [
            "mae 3.19932917837853\n",
            "mse 17.631568097568447\n",
            "RMSE 4.198996082109204\n",
            "score 0.7670218843587764\n"
          ]
        }
      ]
    },
    {
      "cell_type": "code",
      "metadata": {
        "id": "19OY-l6rlHrv"
      },
      "source": [
        "### Decision Tree\n",
        "import pandas as pd\n",
        "from sklearn.datasets import load_iris\n",
        "iris = load_iris()"
      ],
      "execution_count": null,
      "outputs": []
    },
    {
      "cell_type": "code",
      "metadata": {
        "colab": {
          "base_uri": "https://localhost:8080/"
        },
        "id": "mLvBebBOlj41",
        "outputId": "f78ce786-2592-4e4f-e189-cec053cb4cd5"
      },
      "source": [
        "iris.keys()"
      ],
      "execution_count": null,
      "outputs": [
        {
          "output_type": "execute_result",
          "data": {
            "text/plain": [
              "dict_keys(['data', 'target', 'target_names', 'DESCR', 'feature_names', 'filename'])"
            ]
          },
          "metadata": {},
          "execution_count": 24
        }
      ]
    },
    {
      "cell_type": "code",
      "metadata": {
        "id": "RIFHGek6lTu9"
      },
      "source": [
        "df = pd.DataFrame(columns=iris.feature_names , data = iris.data)\n",
        "df['target'] = iris.target\n",
        "names = iris.target_names\n",
        "df['target name'] = np.where(df['target'] == 0 , names[0],\n",
        "                    np.where(df['target'] == 1 , names[1],\n",
        "                    np.where(df['target'] == 2 , names[2],np.NAN)))"
      ],
      "execution_count": null,
      "outputs": []
    },
    {
      "cell_type": "code",
      "metadata": {
        "colab": {
          "base_uri": "https://localhost:8080/",
          "height": 204
        },
        "id": "QTEYI5Q0midh",
        "outputId": "bbbe86fc-f878-40cc-a35c-539787fc1643"
      },
      "source": [
        "df.head()"
      ],
      "execution_count": null,
      "outputs": [
        {
          "output_type": "execute_result",
          "data": {
            "text/html": [
              "<div>\n",
              "<style scoped>\n",
              "    .dataframe tbody tr th:only-of-type {\n",
              "        vertical-align: middle;\n",
              "    }\n",
              "\n",
              "    .dataframe tbody tr th {\n",
              "        vertical-align: top;\n",
              "    }\n",
              "\n",
              "    .dataframe thead th {\n",
              "        text-align: right;\n",
              "    }\n",
              "</style>\n",
              "<table border=\"1\" class=\"dataframe\">\n",
              "  <thead>\n",
              "    <tr style=\"text-align: right;\">\n",
              "      <th></th>\n",
              "      <th>sepal length (cm)</th>\n",
              "      <th>sepal width (cm)</th>\n",
              "      <th>petal length (cm)</th>\n",
              "      <th>petal width (cm)</th>\n",
              "      <th>target</th>\n",
              "      <th>target name</th>\n",
              "    </tr>\n",
              "  </thead>\n",
              "  <tbody>\n",
              "    <tr>\n",
              "      <th>0</th>\n",
              "      <td>5.1</td>\n",
              "      <td>3.5</td>\n",
              "      <td>1.4</td>\n",
              "      <td>0.2</td>\n",
              "      <td>0</td>\n",
              "      <td>setosa</td>\n",
              "    </tr>\n",
              "    <tr>\n",
              "      <th>1</th>\n",
              "      <td>4.9</td>\n",
              "      <td>3.0</td>\n",
              "      <td>1.4</td>\n",
              "      <td>0.2</td>\n",
              "      <td>0</td>\n",
              "      <td>setosa</td>\n",
              "    </tr>\n",
              "    <tr>\n",
              "      <th>2</th>\n",
              "      <td>4.7</td>\n",
              "      <td>3.2</td>\n",
              "      <td>1.3</td>\n",
              "      <td>0.2</td>\n",
              "      <td>0</td>\n",
              "      <td>setosa</td>\n",
              "    </tr>\n",
              "    <tr>\n",
              "      <th>3</th>\n",
              "      <td>4.6</td>\n",
              "      <td>3.1</td>\n",
              "      <td>1.5</td>\n",
              "      <td>0.2</td>\n",
              "      <td>0</td>\n",
              "      <td>setosa</td>\n",
              "    </tr>\n",
              "    <tr>\n",
              "      <th>4</th>\n",
              "      <td>5.0</td>\n",
              "      <td>3.6</td>\n",
              "      <td>1.4</td>\n",
              "      <td>0.2</td>\n",
              "      <td>0</td>\n",
              "      <td>setosa</td>\n",
              "    </tr>\n",
              "  </tbody>\n",
              "</table>\n",
              "</div>"
            ],
            "text/plain": [
              "   sepal length (cm)  sepal width (cm)  ...  target  target name\n",
              "0                5.1               3.5  ...       0       setosa\n",
              "1                4.9               3.0  ...       0       setosa\n",
              "2                4.7               3.2  ...       0       setosa\n",
              "3                4.6               3.1  ...       0       setosa\n",
              "4                5.0               3.6  ...       0       setosa\n",
              "\n",
              "[5 rows x 6 columns]"
            ]
          },
          "metadata": {},
          "execution_count": 28
        }
      ]
    },
    {
      "cell_type": "code",
      "metadata": {
        "colab": {
          "base_uri": "https://localhost:8080/",
          "height": 312
        },
        "id": "UDAk1AEHm00q",
        "outputId": "677efbd8-9e14-4a66-8d66-9b8206037713"
      },
      "source": [
        "#label the graph for reading\n",
        "plt.title('iristesting')\n",
        "plt.xlabel('sepal len (cm)')\n",
        "plt.ylabel('sepal width (cm)')\n",
        "\n",
        "names = iris.target_names\n",
        "group1 = df[df['target name'] == names[0]]\n",
        "group2 = df[df['target name'] == names[1]]\n",
        "group3 = df[df['target name'] == names[2]]\n",
        "\n",
        "plt.scatter(group1['sepal length (cm)'],group1['sepal width (cm)'] , c='r' , label=names[0])\n",
        "plt.scatter(group2['sepal length (cm)'],group2['sepal width (cm)'] , c='g' , label=names[1])\n",
        "plt.scatter(group3['sepal length (cm)'],group3['sepal width (cm)'] , c='b' , label=names[2])"
      ],
      "execution_count": null,
      "outputs": [
        {
          "output_type": "execute_result",
          "data": {
            "text/plain": [
              "<matplotlib.collections.PathCollection at 0x7f8a946fdf50>"
            ]
          },
          "metadata": {},
          "execution_count": 29
        },
        {
          "output_type": "display_data",
          "data": {
            "image/png": "[encoded data removed]",
            "text/plain": [
              "<Figure size 432x288 with 1 Axes>"
            ]
          },
          "metadata": {
            "needs_background": "light"
          }
        }
      ]
    },
    {
      "cell_type": "code",
      "metadata": {
        "colab": {
          "base_uri": "https://localhost:8080/"
        },
        "id": "s5GeTI4wn_Px",
        "outputId": "432e8143-0e94-4d0a-f0d3-50df7fca9714"
      },
      "source": [
        "# make model with decisiom tree\n",
        "from sklearn.tree import DecisionTreeClassifier\n",
        "from sklearn.tree import export_text\n",
        "\n",
        "dtc = DecisionTreeClassifier()\n",
        "dtc.fit(iris.data , iris.target)"
      ],
      "execution_count": null,
      "outputs": [
        {
          "output_type": "execute_result",
          "data": {
            "text/plain": [
              "DecisionTreeClassifier(ccp_alpha=0.0, class_weight=None, criterion='gini',\n",
              "                       max_depth=None, max_features=None, max_leaf_nodes=None,\n",
              "                       min_impurity_decrease=0.0, min_impurity_split=None,\n",
              "                       min_samples_leaf=1, min_samples_split=2,\n",
              "                       min_weight_fraction_leaf=0.0, presort='deprecated',\n",
              "                       random_state=None, splitter='best')"
            ]
          },
          "metadata": {},
          "execution_count": 32
        }
      ]
    },
    {
      "cell_type": "code",
      "metadata": {
        "colab": {
          "base_uri": "https://localhost:8080/"
        },
        "id": "C5WzODHvospR",
        "outputId": "92e06a7f-1943-42a6-8433-e0f0a1cc60aa"
      },
      "source": [
        "r = export_text(dtc, feature_names=iris.feature_names)\n",
        "print(r)"
      ],
      "execution_count": null,
      "outputs": [
        {
          "output_type": "stream",
          "name": "stdout",
          "text": [
            "|--- petal length (cm) <= 2.45\n",
            "|   |--- class: 0\n",
            "|--- petal length (cm) >  2.45\n",
            "|   |--- petal width (cm) <= 1.75\n",
            "|   |   |--- petal length (cm) <= 4.95\n",
            "|   |   |   |--- petal width (cm) <= 1.65\n",
            "|   |   |   |   |--- class: 1\n",
            "|   |   |   |--- petal width (cm) >  1.65\n",
            "|   |   |   |   |--- class: 2\n",
            "|   |   |--- petal length (cm) >  4.95\n",
            "|   |   |   |--- petal width (cm) <= 1.55\n",
            "|   |   |   |   |--- class: 2\n",
            "|   |   |   |--- petal width (cm) >  1.55\n",
            "|   |   |   |   |--- petal length (cm) <= 5.45\n",
            "|   |   |   |   |   |--- class: 1\n",
            "|   |   |   |   |--- petal length (cm) >  5.45\n",
            "|   |   |   |   |   |--- class: 2\n",
            "|   |--- petal width (cm) >  1.75\n",
            "|   |   |--- petal length (cm) <= 4.85\n",
            "|   |   |   |--- sepal width (cm) <= 3.10\n",
            "|   |   |   |   |--- class: 2\n",
            "|   |   |   |--- sepal width (cm) >  3.10\n",
            "|   |   |   |   |--- class: 1\n",
            "|   |   |--- petal length (cm) >  4.85\n",
            "|   |   |   |--- class: 2\n",
            "\n"
          ]
        }
      ]
    },
    {
      "cell_type": "code",
      "metadata": {
        "colab": {
          "base_uri": "https://localhost:8080/",
          "height": 248
        },
        "id": "cSeY5kpQo4TB",
        "outputId": "dd0a1356-06d4-4b9a-813c-e0a1d5350b43"
      },
      "source": [
        "from sklearn import tree\n",
        "tree.plot_tree(dtc.fit(iris.data , iris.target))\n",
        "plt.show()"
      ],
      "execution_count": null,
      "outputs": [
        {
          "output_type": "display_data",
          "data": {
            "image/png": "[encoded data removed]",
            "text/plain": [
              "<Figure size 432x288 with 1 Axes>"
            ]
          },
          "metadata": {
            "needs_background": "light"
          }
        }
      ]
    },
    {
      "cell_type": "code",
      "metadata": {
        "colab": {
          "base_uri": "https://localhost:8080/"
        },
        "id": "-y9oDRLAuYpw",
        "outputId": "c9685758-f49a-4813-9acc-b4484d55e23a"
      },
      "source": [
        "sepal_length = 3.9\n",
        "sepal_width = 1.7\n",
        "petal_length = 9.6\n",
        "petal_width = 0\n",
        "\n",
        "data = [sepal_length , sepal_width , petal_length , petal_width]\n",
        "answer = dtc.predict([data])\n",
        "print(iris.target_names[answer[0]])"
      ],
      "execution_count": null,
      "outputs": [
        {
          "output_type": "stream",
          "name": "stdout",
          "text": [
            "setosa\n"
          ]
        }
      ]
    },
    {
      "cell_type": "code",
      "metadata": {
        "id": "RnsXQGY5sHKj"
      },
      "source": [
        ""
      ],
      "execution_count": null,
      "outputs": []
    }
  ]
}