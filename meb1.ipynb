{
  "nbformat": 4,
  "nbformat_minor": 0,
  "metadata": {
    "colab": {
      "name": "meb1.ipynb",
      "provenance": [],
      "collapsed_sections": [],
      "authorship_tag": "ABX9TyPF5lUCeuhVwBgTBBIjHtXc",
      "include_colab_link": true
    },
    "kernelspec": {
      "name": "python3",
      "display_name": "Python 3"
    },
    "language_info": {
      "name": "python"
    },
    "accelerator": "GPU"
  },
  "cells": [
    {
      "cell_type": "markdown",
      "metadata": {
        "id": "view-in-github",
        "colab_type": "text"
      },
      "source": [
        "<a href=\"https://colab.research.google.com/github/tanupat085/3-minutes-python/blob/master/meb1.ipynb\" target=\"_parent\"><img src=\"https://colab.research.google.com/assets/colab-badge.svg\" alt=\"Open In Colab\"/></a>"
      ]
    },
    {
      "cell_type": "code",
      "metadata": {
        "id": "0CuIQAtuORk_"
      },
      "source": [
        "from sklearn import datasets\n",
        "import matplotlib.pyplot as plt\n",
        "\n",
        "iris_dataset = datasets.load_iris()\n",
        "mnist_dataset = datasets.load_digits()"
      ],
      "execution_count": 95,
      "outputs": []
    },
    {
      "cell_type": "code",
      "metadata": {
        "colab": {
          "base_uri": "https://localhost:8080/"
        },
        "id": "ZUIm1FC0PBAy",
        "outputId": "4419c48b-918d-4dac-8274-77eb67116b82"
      },
      "source": [
        "  print(iris_dataset.keys())"
      ],
      "execution_count": 109,
      "outputs": [
        {
          "output_type": "stream",
          "name": "stdout",
          "text": [
            "dict_keys(['data', 'target', 'target_names', 'DESCR', 'feature_names', 'filename'])\n"
          ]
        }
      ]
    },
    {
      "cell_type": "code",
      "metadata": {
        "id": "uCCaM8y4ShXy"
      },
      "source": [
        "# print(iris_dataset['target'])\n",
        "# print(iris_dataset['target_names'])\n",
        "print(iris_dataset['data'])\n",
        "# print(iris_dataset['DESCR'])"
      ],
      "execution_count": null,
      "outputs": []
    },
    {
      "cell_type": "code",
      "metadata": {
        "colab": {
          "base_uri": "https://localhost:8080/",
          "height": 401
        },
        "id": "5JodmV6Aeige",
        "outputId": "401a3dce-7df5-4d52-cafa-cf19023a019b"
      },
      "source": [
        "print(mnist_datset.images[0])\n",
        "# plt.imshow(mnist_dataset.images[0])\n",
        "plt.imshow(mnist_dataset.images[0],cmap=plt.get_cmap('gray'))\n",
        "plt.show()"
      ],
      "execution_count": 102,
      "outputs": [
        {
          "output_type": "stream",
          "name": "stdout",
          "text": [
            "[[ 0.  0.  5. 13.  9.  1.  0.  0.]\n",
            " [ 0.  0. 13. 15. 10. 15.  5.  0.]\n",
            " [ 0.  3. 15.  2.  0. 11.  8.  0.]\n",
            " [ 0.  4. 12.  0.  0.  8.  8.  0.]\n",
            " [ 0.  5.  8.  0.  0.  9.  8.  0.]\n",
            " [ 0.  4. 11.  0.  1. 12.  7.  0.]\n",
            " [ 0.  2. 14.  5. 10. 12.  0.  0.]\n",
            " [ 0.  0.  6. 13. 10.  0.  0.  0.]]\n"
          ]
        },
        {
          "output_type": "display_data",
          "data": {
            "image/png": "[encoded data removed]",
            "text/plain": [
              "<Figure size 432x288 with 1 Axes>"
            ]
          },
          "metadata": {
            "needs_background": "light"
          }
        }
      ]
    },
    {
      "cell_type": "code",
      "metadata": {
        "id": "pJ-wNuNRiZco"
      },
      "source": [
        "#การแบ่งข้อมูล\n",
        "from sklearn.model_selection import train_test_split\n",
        "x_train , x_test , y_train , y_test = train_test_split(iris_dataset[\"data\"] , iris_dataset[\"target\"] ,test_size = 0.2,random_state = 0)\n",
        "# iris_dataset[\"data\"] = x\n",
        "# iris_dataset[\"target\"] = y\n",
        "print(x_train.shape)"
      ],
      "execution_count": 121,
      "outputs": []
    },
    {
      "cell_type": "code",
      "metadata": {
        "colab": {
          "base_uri": "https://localhost:8080/",
          "height": 264
        },
        "id": "4Ixt6y7uwhyU",
        "outputId": "6f005892-70e5-4ea8-f5dd-571bc0996e03"
      },
      "source": [
        "import numpy as np\n",
        "import matplotlib.pyplot as plt\n",
        "from sklearn.linear_model import LinearRegression\n",
        "rng = np.random\n",
        "\n",
        "#จำลองdata\n",
        "x=rng.random(50)*10\n",
        "y=2*x+rng.random(50)\n",
        "x_new = x.reshape(-1,1)\n",
        "\n",
        "#linear regression model\n",
        "model = LinearRegression()\n",
        "\n",
        "\n",
        "# train\n",
        "model.fit(x_new,y)\n",
        "\n",
        "# print(model.score(x_new , y))\n",
        "# # r-squared = model.score\n",
        "# print(model.coef_)\n",
        "# # coefficient\n",
        "\n",
        "\n",
        "#test\n",
        "xfit = np.linspace(-1,11)\n",
        "\n",
        "xfit_new = xfit.reshape(-1,1)\n",
        "yfit = model.predict(xfit_new)\n",
        "plt.scatter(x,y)\n",
        "plt.plot(xfit,yfit)\n",
        "plt.show()"
      ],
      "execution_count": 140,
      "outputs": [
        {
          "output_type": "display_data",
          "data": {
            "image/png": "[encoded data removed]",
            "text/plain": [
              "<Figure size 432x288 with 1 Axes>"
            ]
          },
          "metadata": {
            "needs_background": "light"
          }
        }
      ]
    },
    {
      "cell_type": "code",
      "metadata": {
        "id": "puBxMemCyIpH"
      },
      "source": [
        ""
      ],
      "execution_count": null,
      "outputs": []
    }
  ]
}