{
  "nbformat": 4,
  "nbformat_minor": 0,
  "metadata": {
    "accelerator": "GPU",
    "colab": {
      "name": "สำเนาของ python_basic_for_computervision_ep2.ipynb",
      "provenance": [],
      "collapsed_sections": [],
      "include_colab_link": true
    },
    "kernelspec": {
      "display_name": "Python 3",
      "name": "python3"
    }
  },
  "cells": [
    {
      "cell_type": "markdown",
      "metadata": {
        "id": "view-in-github",
        "colab_type": "text"
      },
      "source": [
        "<a href=\"https://colab.research.google.com/github/tanupat085/3-minutes-python/blob/master/%E0%B8%AA%E0%B8%B3%E0%B9%80%E0%B8%99%E0%B8%B2%E0%B8%82%E0%B8%AD%E0%B8%87_python_basic_for_computervision_ep2.ipynb\" target=\"_parent\"><img src=\"https://colab.research.google.com/assets/colab-badge.svg\" alt=\"Open In Colab\"/></a>"
      ]
    },
    {
      "cell_type": "markdown",
      "metadata": {
        "id": "QOojKo9UqZ_B"
      },
      "source": [
        "นี่คือการเรียนครั้งที่ 2"
      ]
    },
    {
      "cell_type": "markdown",
      "metadata": {
        "id": "u2po1JpuloFT"
      },
      "source": [
        "**Revise**"
      ]
    },
    {
      "cell_type": "markdown",
      "metadata": {
        "id": "XWDcxWsAaDVK"
      },
      "source": [
        "Python Basic Playlist\n",
        "\n",
        "https://www.youtube.com/playlist?list=PLAgCqpRa2bgv108WwTPAWh6fDwRyS49Vm\n",
        "\n",
        "Coding online\n",
        "\n",
        "https://edabit.com/challenge/KjCS7occ9hfu5snpb\n",
        "\n",
        "python basic for computer vision ep1\n",
        "\n",
        "https://colab.research.google.com/drive/1_e1WRSG1NG-b5MRcWFha4THWOfzDw8-9?usp=sharing\n",
        "\n",
        "dse data analytics\n",
        "\n",
        "https://colab.research.google.com/drive/18QDmKcZfYJ4h5jS6stHM5nNAXOxfcgfx\n",
        "\n",
        "w3school\n",
        "https://www.w3schools.com/python/"
      ]
    },
    {
      "cell_type": "markdown",
      "metadata": {
        "id": "0B-88UgslsZt"
      },
      "source": [
        "**Today's content**"
      ]
    },
    {
      "cell_type": "markdown",
      "metadata": {
        "id": "vUXqtwqh6NU3"
      },
      "source": [
        "- Class & Object\n",
        "- Library\n",
        "  - [Numpy](https://colab.research.google.com/drive/12hkCFAIfrDGiEpzbYYDgQpku0bR8FA2C?usp=sharing)\n",
        "  - [Pandas](https://colab.research.google.com/drive/1zMGLv-P6y1NDkvJ-dTL_vv3lFOKDVWJX?usp=sharing)\n",
        "  - botnoi\n",
        "  - [sklearn](https://scikit-learn.org/stable/)\n",
        "- Image Ranking\n",
        "  - Display HTML\n",
        "  - Feature extraction\n",
        "  - Euclidient Distance\n",
        "  - Cosine Similarity\n",
        "  - Rank image and Display"
      ]
    },
    {
      "cell_type": "code",
      "metadata": {
        "id": "H4QVVQ7Lk0gZ"
      },
      "source": [
        "class car:\n",
        "  def __init__(self,color,speed,name):\n",
        "    self.color = color\n",
        "    self.speed = speed\n",
        "    self.position = 0\n",
        "    self.name = name\n",
        "  def changename(self,newname):\n",
        "    self.name = newname\n",
        "  def moveforward(self,hours):\n",
        "    self.position = self.position + self.speed * hours\n",
        "  def movebackward(self,hours):\n",
        "    self.position = self.position - self.speed * hours"
      ],
      "execution_count": null,
      "outputs": []
    },
    {
      "cell_type": "code",
      "metadata": {
        "id": "99PrtmMRPhjT"
      },
      "source": [
        "class sportcar(car):\n",
        "\n",
        "  def addboost(self):\n",
        "    self.boost = self.boost + 1"
      ],
      "execution_count": null,
      "outputs": []
    },
    {
      "cell_type": "code",
      "metadata": {
        "id": "u0wdIcvBQBji"
      },
      "source": [
        "meng = sportcar()"
      ],
      "execution_count": null,
      "outputs": []
    },
    {
      "cell_type": "code",
      "metadata": {
        "colab": {
          "base_uri": "https://localhost:8080/"
        },
        "id": "FTdCBMCAQLtB",
        "outputId": "e86a85ba-937c-465b-cf32-390edd65d16b"
      },
      "source": [
        "meng.boost"
      ],
      "execution_count": null,
      "outputs": [
        {
          "output_type": "execute_result",
          "data": {
            "text/plain": [
              "0"
            ]
          },
          "metadata": {
            "tags": []
          },
          "execution_count": 35
        }
      ]
    },
    {
      "cell_type": "code",
      "metadata": {
        "id": "cWtzFjKNNL04"
      },
      "source": [
        "chanasitcar = car('white',200,'chanasit')"
      ],
      "execution_count": null,
      "outputs": []
    },
    {
      "cell_type": "code",
      "metadata": {
        "id": "TurMFmc3NaBA"
      },
      "source": [
        "chanasitcar.changename('fluck')"
      ],
      "execution_count": null,
      "outputs": []
    },
    {
      "cell_type": "code",
      "metadata": {
        "colab": {
          "base_uri": "https://localhost:8080/"
        },
        "id": "_BgBFM4GNvvd",
        "outputId": "39b34a63-2da4-4e7f-9d93-48f096f0e736"
      },
      "source": [
        "chanasitcar.position"
      ],
      "execution_count": null,
      "outputs": [
        {
          "output_type": "execute_result",
          "data": {
            "text/plain": [
              "1000"
            ]
          },
          "metadata": {
            "tags": []
          },
          "execution_count": 10
        }
      ]
    },
    {
      "cell_type": "code",
      "metadata": {
        "id": "uHEkkJwIN_K_"
      },
      "source": [
        "gritcar = car('black',300,'grit')"
      ],
      "execution_count": null,
      "outputs": []
    },
    {
      "cell_type": "code",
      "metadata": {
        "colab": {
          "base_uri": "https://localhost:8080/"
        },
        "id": "YWExy6CwOGWc",
        "outputId": "d063f72a-af1e-4fa7-bbac-e5b1dbf49ba1"
      },
      "source": [
        "gritcar.position"
      ],
      "execution_count": null,
      "outputs": [
        {
          "output_type": "execute_result",
          "data": {
            "text/plain": [
              "1500"
            ]
          },
          "metadata": {
            "tags": []
          },
          "execution_count": 15
        }
      ]
    },
    {
      "cell_type": "code",
      "metadata": {
        "id": "yjFZlT7VO9K0"
      },
      "source": [
        "import numpy as np"
      ],
      "execution_count": null,
      "outputs": []
    },
    {
      "cell_type": "code",
      "metadata": {
        "id": "yekCfQ-kzOBK"
      },
      "source": [
        "class student:\n",
        "  def __init__(self,name):\n",
        "    self.name = name\n",
        "    self.gpalist = []\n",
        "  def addgpa(self,gpa):\n",
        "    self.currentgpa = gpa\n",
        "    self.gpalist.append(gpa)\n",
        "    self.gpax = np.mean(self.gpalist)\n",
        "  def changeaddress(self,newaddress):\n",
        "    self.address = newaddress\n"
      ],
      "execution_count": null,
      "outputs": []
    },
    {
      "cell_type": "code",
      "metadata": {
        "id": "7rE1zuAVOeHV"
      },
      "source": [
        "meng = student('meng')"
      ],
      "execution_count": null,
      "outputs": []
    },
    {
      "cell_type": "code",
      "metadata": {
        "id": "mQ4IiKz4OnQ5"
      },
      "source": [
        "meng.addgpa(4.00)"
      ],
      "execution_count": null,
      "outputs": []
    },
    {
      "cell_type": "code",
      "metadata": {
        "colab": {
          "base_uri": "https://localhost:8080/"
        },
        "id": "p4_W3LbbPBLW",
        "outputId": "76ed5d5c-67cf-4c08-f034-c4e6203431a4"
      },
      "source": [
        ""
      ],
      "execution_count": null,
      "outputs": [
        {
          "output_type": "execute_result",
          "data": {
            "text/plain": [
              "3.865"
            ]
          },
          "metadata": {
            "tags": []
          },
          "execution_count": 31
        }
      ]
    },
    {
      "cell_type": "code",
      "metadata": {
        "id": "UZKpHYOh7z3g"
      },
      "source": [
        "import school as sch"
      ],
      "execution_count": null,
      "outputs": []
    },
    {
      "cell_type": "code",
      "metadata": {
        "colab": {
          "base_uri": "https://localhost:8080/"
        },
        "id": "Gl9SrDcxSjrs",
        "outputId": "49cc836f-350b-4cce-e7cd-915e850591cd"
      },
      "source": [
        "!pip install botnoi"
      ],
      "execution_count": null,
      "outputs": [
        {
          "output_type": "stream",
          "text": [
            "Collecting botnoi\n",
            "\u001b[?25l  Downloading https://files.pythonhosted.org/packages/ee/07/0c476ad9853713b4fb37e83640b4ca413d04f37c002d23d5ef8bf145da90/botnoi-0.7.1-py3-none-any.whl (22.3MB)\n",
            "\u001b[K     |████████████████████████████████| 22.3MB 63.8MB/s \n",
            "\u001b[?25hRequirement already satisfied: pillow in /usr/local/lib/python3.6/dist-packages (from botnoi) (7.0.0)\n",
            "Collecting SpeechRecognition\n",
            "\u001b[?25l  Downloading https://files.pythonhosted.org/packages/26/e1/7f5678cd94ec1234269d23756dbdaa4c8cfaed973412f88ae8adf7893a50/SpeechRecognition-3.8.1-py2.py3-none-any.whl (32.8MB)\n",
            "\u001b[K     |████████████████████████████████| 32.8MB 98kB/s \n",
            "\u001b[?25hRequirement already satisfied: gensim in /usr/local/lib/python3.6/dist-packages (from botnoi) (3.6.0)\n",
            "Collecting facebook-sdk\n",
            "  Downloading https://files.pythonhosted.org/packages/79/d7/4cb0f5930f79205cc45db22e17fa716396d813c3d6b8d5de77783a5fa59a/facebook_sdk-3.1.0-py2.py3-none-any.whl\n",
            "Collecting pythainlp\n",
            "\u001b[?25l  Downloading https://files.pythonhosted.org/packages/c1/09/1215cb6f6ef0cfc9dbb427a961fda8a47c111955f782f659ca2d38c79adc/pythainlp-2.2.6-py3-none-any.whl (10.6MB)\n",
            "\u001b[K     |████████████████████████████████| 10.6MB 158kB/s \n",
            "\u001b[?25hCollecting gspread==3.6.0\n",
            "  Downloading https://files.pythonhosted.org/packages/9c/ba/bc8de4f5077bd34bc873bdd67a89cb29c4f181abba8a836d2c6a0a142365/gspread-3.6.0-py3-none-any.whl\n",
            "Requirement already satisfied: scikit-learn in /usr/local/lib/python3.6/dist-packages (from botnoi) (0.22.2.post1)\n",
            "Requirement already satisfied: tweepy in /usr/local/lib/python3.6/dist-packages (from botnoi) (3.6.0)\n",
            "Collecting wave\n",
            "  Downloading https://files.pythonhosted.org/packages/df/33/5a06e0c47a147b2683876ba7c576fad13e92b0b16755eb431e56c341e0cf/Wave-0.0.2.tar.gz\n",
            "Requirement already satisfied: audioread in /usr/local/lib/python3.6/dist-packages (from botnoi) (2.1.9)\n",
            "Collecting boto\n",
            "\u001b[?25l  Downloading https://files.pythonhosted.org/packages/23/10/c0b78c27298029e4454a472a1919bde20cb182dab1662cec7f2ca1dcc523/boto-2.49.0-py2.py3-none-any.whl (1.4MB)\n",
            "\u001b[K     |████████████████████████████████| 1.4MB 47.3MB/s \n",
            "\u001b[?25hRequirement already satisfied: multiprocess in /usr/local/lib/python3.6/dist-packages (from botnoi) (0.70.11.1)\n",
            "Requirement already satisfied: pandas in /usr/local/lib/python3.6/dist-packages (from botnoi) (1.1.5)\n",
            "Collecting boto3\n",
            "\u001b[?25l  Downloading https://files.pythonhosted.org/packages/96/f6/33474285546aedb5d06b3a4225e361e8956ca23764124f368903cf97ff31/boto3-1.17.7.tar.gz (100kB)\n",
            "\u001b[K     |████████████████████████████████| 102kB 12.9MB/s \n",
            "\u001b[?25hCollecting line-bot-sdk\n",
            "\u001b[?25l  Downloading https://files.pythonhosted.org/packages/e4/14/f96a5b5f1f62daab4f4c1192c9a8cd5e4d094ebca6f5f3658781ab2077bc/line_bot_sdk-1.18.0-py2.py3-none-any.whl (66kB)\n",
            "\u001b[K     |████████████████████████████████| 71kB 11.7MB/s \n",
            "\u001b[?25hRequirement already satisfied: pymongo[srv,tls] in /usr/local/lib/python3.6/dist-packages (from botnoi) (3.11.3)\n",
            "Requirement already satisfied: numpy>=1.11.3 in /usr/local/lib/python3.6/dist-packages (from gensim->botnoi) (1.19.5)\n",
            "Requirement already satisfied: six>=1.5.0 in /usr/local/lib/python3.6/dist-packages (from gensim->botnoi) (1.15.0)\n",
            "Requirement already satisfied: scipy>=0.18.1 in /usr/local/lib/python3.6/dist-packages (from gensim->botnoi) (1.4.1)\n",
            "Requirement already satisfied: smart-open>=1.2.1 in /usr/local/lib/python3.6/dist-packages (from gensim->botnoi) (4.1.2)\n",
            "Requirement already satisfied: requests in /usr/local/lib/python3.6/dist-packages (from facebook-sdk->botnoi) (2.23.0)\n",
            "Collecting python-crfsuite>=0.9.6\n",
            "\u001b[?25l  Downloading https://files.pythonhosted.org/packages/95/99/869dde6dbf3e0d07a013c8eebfb0a3d30776334e0097f8432b631a9a3a19/python_crfsuite-0.9.7-cp36-cp36m-manylinux1_x86_64.whl (743kB)\n",
            "\u001b[K     |████████████████████████████████| 747kB 50.2MB/s \n",
            "\u001b[?25hCollecting tinydb>=3.0\n",
            "  Downloading https://files.pythonhosted.org/packages/af/cd/1ce3d93818cdeda0446b8033d21e5f32daeb3a866bbafd878a9a62058a9c/tinydb-4.4.0-py3-none-any.whl\n",
            "Requirement already satisfied: google-auth>=1.12.0 in /usr/local/lib/python3.6/dist-packages (from gspread==3.6.0->botnoi) (1.25.0)\n",
            "Requirement already satisfied: google-auth-oauthlib>=0.4.1 in /usr/local/lib/python3.6/dist-packages (from gspread==3.6.0->botnoi) (0.4.2)\n",
            "Requirement already satisfied: joblib>=0.11 in /usr/local/lib/python3.6/dist-packages (from scikit-learn->botnoi) (1.0.0)\n",
            "Requirement already satisfied: PySocks>=1.5.7 in /usr/local/lib/python3.6/dist-packages (from tweepy->botnoi) (1.7.1)\n",
            "Requirement already satisfied: requests-oauthlib>=0.7.0 in /usr/local/lib/python3.6/dist-packages (from tweepy->botnoi) (1.3.0)\n",
            "Requirement already satisfied: dill>=0.3.3 in /usr/local/lib/python3.6/dist-packages (from multiprocess->botnoi) (0.3.3)\n",
            "Requirement already satisfied: python-dateutil>=2.7.3 in /usr/local/lib/python3.6/dist-packages (from pandas->botnoi) (2.8.1)\n",
            "Requirement already satisfied: pytz>=2017.2 in /usr/local/lib/python3.6/dist-packages (from pandas->botnoi) (2018.9)\n",
            "Collecting botocore<1.21.0,>=1.20.7\n",
            "\u001b[?25l  Downloading https://files.pythonhosted.org/packages/51/c3/af73e35f97ebbe0f4609bc2433ca06421305cc1eedef1009bd14354fb3af/botocore-1.20.7-py2.py3-none-any.whl (7.2MB)\n",
            "\u001b[K     |████████████████████████████████| 7.2MB 52.6MB/s \n",
            "\u001b[?25hCollecting jmespath<1.0.0,>=0.7.1\n",
            "  Downloading https://files.pythonhosted.org/packages/07/cb/5f001272b6faeb23c1c9e0acc04d48eaaf5c862c17709d20e3469c6e0139/jmespath-0.10.0-py2.py3-none-any.whl\n",
            "Collecting s3transfer<0.4.0,>=0.3.0\n",
            "\u001b[?25l  Downloading https://files.pythonhosted.org/packages/ea/43/4b4a1b26eb03a429a4c37ca7fdf369d938bd60018fc194e94b8379b0c77c/s3transfer-0.3.4-py2.py3-none-any.whl (69kB)\n",
            "\u001b[K     |████████████████████████████████| 71kB 12.1MB/s \n",
            "\u001b[?25hRequirement already satisfied: future in /usr/local/lib/python3.6/dist-packages (from line-bot-sdk->botnoi) (0.16.0)\n",
            "Collecting dnspython<2.0.0,>=1.16.0; extra == \"srv\"\n",
            "\u001b[?25l  Downloading https://files.pythonhosted.org/packages/ec/d3/3aa0e7213ef72b8585747aa0e271a9523e713813b9a20177ebe1e939deb0/dnspython-1.16.0-py2.py3-none-any.whl (188kB)\n",
            "\u001b[K     |████████████████████████████████| 194kB 46.7MB/s \n",
            "\u001b[?25hRequirement already satisfied: chardet<4,>=3.0.2 in /usr/local/lib/python3.6/dist-packages (from requests->facebook-sdk->botnoi) (3.0.4)\n",
            "Requirement already satisfied: idna<3,>=2.5 in /usr/local/lib/python3.6/dist-packages (from requests->facebook-sdk->botnoi) (2.10)\n",
            "Requirement already satisfied: urllib3!=1.25.0,!=1.25.1,<1.26,>=1.21.1 in /usr/local/lib/python3.6/dist-packages (from requests->facebook-sdk->botnoi) (1.24.3)\n",
            "Requirement already satisfied: certifi>=2017.4.17 in /usr/local/lib/python3.6/dist-packages (from requests->facebook-sdk->botnoi) (2020.12.5)\n",
            "Requirement already satisfied: setuptools>=40.3.0 in /usr/local/lib/python3.6/dist-packages (from google-auth>=1.12.0->gspread==3.6.0->botnoi) (53.0.0)\n",
            "Requirement already satisfied: rsa<5,>=3.1.4; python_version >= \"3.6\" in /usr/local/lib/python3.6/dist-packages (from google-auth>=1.12.0->gspread==3.6.0->botnoi) (4.7)\n",
            "Requirement already satisfied: cachetools<5.0,>=2.0.0 in /usr/local/lib/python3.6/dist-packages (from google-auth>=1.12.0->gspread==3.6.0->botnoi) (4.2.1)\n",
            "Requirement already satisfied: pyasn1-modules>=0.2.1 in /usr/local/lib/python3.6/dist-packages (from google-auth>=1.12.0->gspread==3.6.0->botnoi) (0.2.8)\n",
            "Requirement already satisfied: oauthlib>=3.0.0 in /usr/local/lib/python3.6/dist-packages (from requests-oauthlib>=0.7.0->tweepy->botnoi) (3.1.0)\n",
            "Requirement already satisfied: pyasn1>=0.1.3 in /usr/local/lib/python3.6/dist-packages (from rsa<5,>=3.1.4; python_version >= \"3.6\"->google-auth>=1.12.0->gspread==3.6.0->botnoi) (0.4.8)\n",
            "Building wheels for collected packages: wave, boto3\n",
            "  Building wheel for wave (setup.py) ... \u001b[?25l\u001b[?25hdone\n",
            "  Created wheel for wave: filename=Wave-0.0.2-cp36-none-any.whl size=1246 sha256=b4111c8c0cbf7f75e3dff9e42c292d9f9e46c8985f6c81d533ea488a30829efa\n",
            "  Stored in directory: /root/.cache/pip/wheels/8c/2e/ad/d96151afb1fdccf126346b26eabb91fec3c5ce5cbee7287fbf\n",
            "  Building wheel for boto3 (setup.py) ... \u001b[?25l\u001b[?25hdone\n",
            "  Created wheel for boto3: filename=boto3-1.17.7-py2.py3-none-any.whl size=128762 sha256=1d474eaf23cf822c82c48a3c7613a0e8a0244d2d9a4cfc8d20cb787ed06c841e\n",
            "  Stored in directory: /root/.cache/pip/wheels/db/5f/37/897938ca4d98dcf44a16dd59829053aa9b9ae54520cdd5e84e\n",
            "Successfully built wave boto3\n",
            "\u001b[31mERROR: botocore 1.20.7 has requirement urllib3<1.27,>=1.25.4, but you'll have urllib3 1.24.3 which is incompatible.\u001b[0m\n",
            "Installing collected packages: SpeechRecognition, facebook-sdk, python-crfsuite, tinydb, pythainlp, gspread, wave, boto, jmespath, botocore, s3transfer, boto3, line-bot-sdk, botnoi, dnspython\n",
            "  Found existing installation: gspread 3.0.1\n",
            "    Uninstalling gspread-3.0.1:\n",
            "      Successfully uninstalled gspread-3.0.1\n",
            "Successfully installed SpeechRecognition-3.8.1 botnoi-0.7.1 boto-2.49.0 boto3-1.17.7 botocore-1.20.7 dnspython-1.16.0 facebook-sdk-3.1.0 gspread-3.6.0 jmespath-0.10.0 line-bot-sdk-1.18.0 pythainlp-2.2.6 python-crfsuite-0.9.7 s3transfer-0.3.4 tinydb-4.4.0 wave-0.0.2\n"
          ],
          "name": "stdout"
        }
      ]
    },
    {
      "cell_type": "code",
      "metadata": {
        "id": "9gyrevK3VcTt"
      },
      "source": [
        ""
      ],
      "execution_count": null,
      "outputs": []
    },
    {
      "cell_type": "code",
      "metadata": {
        "colab": {
          "base_uri": "https://localhost:8080/"
        },
        "id": "F7a7s0hhSdiH",
        "outputId": "ceea0c86-2085-4d38-b6af-e016ca8a850a"
      },
      "source": [
        "import botnoi as bn"
      ],
      "execution_count": null,
      "outputs": [
        {
          "output_type": "stream",
          "text": [
            "/usr/local/lib/python3.6/dist-packages/sklearn/base.py:318: UserWarning: Trying to unpickle estimator TfidfTransformer from version 0.22.1 when using version 0.22.2.post1. This might lead to breaking code or invalid results. Use at your own risk.\n",
            "  UserWarning)\n",
            "/usr/local/lib/python3.6/dist-packages/sklearn/base.py:318: UserWarning: Trying to unpickle estimator TfidfVectorizer from version 0.22.1 when using version 0.22.2.post1. This might lead to breaking code or invalid results. Use at your own risk.\n",
            "  UserWarning)\n"
          ],
          "name": "stderr"
        },
        {
          "output_type": "stream",
          "text": [
            "load model tfidf\n",
            "load model w2v\n",
            "load word dict\n"
          ],
          "name": "stdout"
        }
      ]
    },
    {
      "cell_type": "code",
      "metadata": {
        "colab": {
          "base_uri": "https://localhost:8080/"
        },
        "id": "yqfCkHDbSrpD",
        "outputId": "96c1bddf-bba4-429a-a836-3732d99e9908"
      },
      "source": [
        "bn.scrape.get_image_urls('blackpink')"
      ],
      "execution_count": null,
      "outputs": [
        {
          "output_type": "stream",
          "text": [
            "complete: 0.00%\n",
            "completed\n"
          ],
          "name": "stdout"
        },
        {
          "output_type": "execute_result",
          "data": {
            "text/plain": [
              "['https://www.thefactsite.com/wp-content/uploads/2020/09/blackpink-facts-712x356.jpg',\n",
              " 'https://media2.malaymail.com/uploads/articles/2020/2020-09/20200909_Blackpink_K-pop.jpg',\n",
              " 'https://media.interaksyon.com/wp-content/uploads/2020/10/blackpink-stage-640x427.jpg',\n",
              " 'https://images.indianexpress.com/2020/09/BP1200.jpg',\n",
              " 'https://i.ytimg.com/vi/32si5cfrCNc/maxresdefault.jpg',\n",
              " 'https://stylecaster.com/wp-content/uploads/2019/12/black-pink.jpg',\n",
              " 'https://pyxis.nymag.com/v1/imgs/5f8/709/76e5d43b3a22e4552ef24e5c27e2f78c36-Blackpink.rsquare.w1200.jpg',\n",
              " 'https://cdn.star2.com/wp-content/uploads/2019/02/str2_db_fashion_blackpink_db_1.PDF.jpg',\n",
              " 'https://pyxis.nymag.com/v1/imgs/38d/32a/da81186558585c42a3ea07797f89d71f3c-blackpink-lady-gaga.2x.rsocial.w600.jpg',\n",
              " 'https://i1.sndcdn.com/avatars-3YiljcXAvj7pU7Vb-GsiCvw-t240x240.jpg',\n",
              " 'https://image.ajunews.com/content/image/2020/06/01/20200601145214875895.jpg',\n",
              " 'https://apicms.thestar.com.my/uploads/images/2020/07/02/741581.jpg',\n",
              " 'https://static01.nyt.com/images/2020/10/15/arts/blackpink1/blackpink1-superJumbo.jpg',\n",
              " 'https://media.harpersbazaar.com.sg/2020/05/blackpink-coachella-2019-700x467.jpg',\n",
              " 'https://files.vogue.co.th/uploads/COVVERNN9.jpg',\n",
              " 'https://hips.hearstapps.com/hmg-prod.s3.amazonaws.com/images/jennie-kim-rose-lisa-and-jisoo-of-blackpink-are-seen-at-the-news-photo-1602622251.jpg',\n",
              " 'https://variety.com/wp-content/uploads/2019/04/blackpink.jpg',\n",
              " 'https://sm.mashable.com/t/mashable_in/photo/default/blackpink-the-show-fans-react-to-roses-solo-debut-gone-jisoo_yxp9.h720.jpg',\n",
              " 'https://micdn-13a1c.kxcdn.com/images/sg/content-images/blackpink_kbank.jpg',\n",
              " 'https://www.allkpop.com/upload/2020/09/content/040349/1599205748-blackpink-ice-cream-members-uhdpaper.jpg',\n",
              " 'https://i.pinimg.com/736x/a8/68/14/a86814c0173ae445ec51a034aeccd133.jpg',\n",
              " 'https://i.ytimg.com/vi/_QVsY6wdYgM/maxresdefault.jpg',\n",
              " 'https://variety.com/wp-content/uploads/2020/12/Blackpink-Variety-Hitmakers.jpg',\n",
              " 'https://i.ytimg.com/vi/CqKdT6mwTcY/maxresdefault.jpg',\n",
              " 'https://static.billboard.com/files/media/izx4xs-Blackpink-8znak-bb05-nz7w-2019-feat-billboard-cdakjehr-jxs8xjkx-1548-compressed.jpg',\n",
              " 'https://i.pinimg.com/564x/6e/d7/c7/6ed7c75b4676a0582d8018dc0cea5110.jpg',\n",
              " 'https://static.billboard.com/files/2020/09/02-Blackpink-press-cr-YG-Entertainment-2020-billboard-1548-1599834844-1024x677.jpg',\n",
              " 'https://enfntsterribles.com/wp-content/uploads/2020/10/Enfnts-terribles-BLACKPINK-02-683x1024.jpg',\n",
              " 'https://www.newuniversity.org/wp-content/uploads/2020/10/Blackpink-scaled.jpg',\n",
              " 'https://pyxis.nymag.com/v1/imgs/b9b/07a/9382d3b55e22d189d83bc8bddc54de945c-28-blackpink.rsquare.w1200.jpg',\n",
              " 'https://pbs.twimg.com/media/EpT8eQuXUAEoGV3.jpg',\n",
              " 'https://hips.hearstapps.com/hmg-prod.s3.amazonaws.com/images/blackpink1-1551444037.jpg',\n",
              " 'https://static.onecms.io/wp-content/uploads/sites/20/2020/09/17/blackpink-2-2000.jpg',\n",
              " 'https://coconuts.co/wp-content/uploads/2020/11/BLACKPINK-Tokopedia-WIB-960x540.jpg',\n",
              " 'https://www.refinery29.com/images/9936963.jpg',\n",
              " 'https://images.indianexpress.com/2020/10/Blackpink-group-1200by667-n1.jpg',\n",
              " 'https://pbs.twimg.com/media/Ep-He35VgAEDBGj.jpg',\n",
              " 'https://www.udiscovermusic.com/wp-content/uploads/2020/10/BLACKPINK-THE-ALBUM.jpg',\n",
              " 'https://d15kbsmiqz0zlr.cloudfront.net/wp-content/uploads/2020/08/becoming-blackpink-featured-scaled.jpg',\n",
              " 'https://static.hollywoodreporter.com/sites/default/files/2018/12/blackpink-2-h_2018-928x523.jpg',\n",
              " 'https://pyxis.nymag.com/v1/imgs/180/c21/43215cdda0adde4e5caefe7a24791a0a7f-blackpink-mac.rsquare.w700.jpg',\n",
              " 'https://i.pinimg.com/736x/52/79/8f/52798febb581913aa22342ebeff43c31.jpg',\n",
              " 'https://www.udiscovermusic.com/wp-content/uploads/2020/12/BLACKPINK-The-Show.jpg',\n",
              " 'https://www.rollingstone.com/wp-content/uploads/2019/01/blackpink-5-things-to-know.jpg',\n",
              " 'https://sm.mashable.com/t/mashable_in/photo/default/blackpink-light-up-the-sky-documentary-is-coming-to-netflix_kzru.960.jpg',\n",
              " 'https://ichef.bbci.co.uk/news/1024/cpsprodpb/D8AE/production/_113107455_gettyimages-1143890227.jpg',\n",
              " 'https://sm.mashable.com/t/mashable_in/photo/default/blackpink-announce-first-livestreamed-concert-the-show-on-yo_utte.960.jpg',\n",
              " 'https://i.ytimg.com/vi/784TL-z1P5g/maxresdefault.jpg',\n",
              " 'https://i.ytimg.com/vi/_oGv-g2HSEc/maxresdefault.jpg',\n",
              " 'https://pbs.twimg.com/media/EiHdCkoXsAIXfsE.jpg',\n",
              " 'https://static.billboard.com/files/media/j29szj-Blackpink-3hnx-bb05-jz8w-2019-feat-billboard-rtbgstj-nxsh3zz-1548-compressed.jpg',\n",
              " 'https://dontboreus.thebrag.com/wp-content/uploads/sites/3/2020/10/Blackpink.jpg',\n",
              " 'https://www.nme.com/wp-content/uploads/2019/01/GettyImages-643997070.jpg']"
            ]
          },
          "metadata": {
            "tags": []
          },
          "execution_count": 49
        }
      ]
    },
    {
      "cell_type": "code",
      "metadata": {
        "id": "MWY4xul6Rt7x"
      },
      "source": [
        "newstu = sch.student('winn')"
      ],
      "execution_count": null,
      "outputs": []
    },
    {
      "cell_type": "code",
      "metadata": {
        "colab": {
          "base_uri": "https://localhost:8080/",
          "height": 35
        },
        "id": "8bQtnRB6RznM",
        "outputId": "13c2441d-3279-4ea4-c390-94a3a296a0d1"
      },
      "source": [
        "newstu.name"
      ],
      "execution_count": null,
      "outputs": [
        {
          "output_type": "execute_result",
          "data": {
            "application/vnd.google.colaboratory.intrinsic+json": {
              "type": "string"
            },
            "text/plain": [
              "'winn'"
            ]
          },
          "metadata": {
            "tags": []
          },
          "execution_count": 41
        }
      ]
    },
    {
      "cell_type": "code",
      "metadata": {
        "id": "Y9aU8IFlR1vo"
      },
      "source": [
        "newtea = sch.teacher('john')"
      ],
      "execution_count": null,
      "outputs": []
    },
    {
      "cell_type": "code",
      "metadata": {
        "colab": {
          "base_uri": "https://localhost:8080/"
        },
        "id": "hwwQgWRfR7Cq",
        "outputId": "c2bc1fa9-cfa5-4f51-9ec0-bbb85d83a7ee"
      },
      "source": [
        "sch.calgpa([3.5,3.7])"
      ],
      "execution_count": null,
      "outputs": [
        {
          "output_type": "execute_result",
          "data": {
            "text/plain": [
              "3.6"
            ]
          },
          "metadata": {
            "tags": []
          },
          "execution_count": 44
        }
      ]
    },
    {
      "cell_type": "code",
      "metadata": {
        "id": "oPmPIP-G-inz"
      },
      "source": [
        "winnstu = sch.student('winn')"
      ],
      "execution_count": null,
      "outputs": []
    },
    {
      "cell_type": "code",
      "metadata": {
        "colab": {
          "base_uri": "https://localhost:8080/"
        },
        "id": "pHhzAM7h-2qX",
        "outputId": "a033744a-9cbd-4319-d82b-ead5b7dc4cfd"
      },
      "source": [
        "winnstu.gpax"
      ],
      "execution_count": null,
      "outputs": [
        {
          "output_type": "execute_result",
          "data": {
            "text/plain": [
              "3.35"
            ]
          },
          "metadata": {
            "tags": []
          },
          "execution_count": 121
        }
      ]
    },
    {
      "cell_type": "code",
      "metadata": {
        "id": "q59Aub280tH6"
      },
      "source": [
        "swinn = student('winn')"
      ],
      "execution_count": null,
      "outputs": []
    },
    {
      "cell_type": "code",
      "metadata": {
        "id": "PLigaBql0x7h"
      },
      "source": [
        "swinn.addgpa(3.80)"
      ],
      "execution_count": null,
      "outputs": []
    },
    {
      "cell_type": "code",
      "metadata": {
        "colab": {
          "base_uri": "https://localhost:8080/"
        },
        "id": "uEu4rgME1Q6h",
        "outputId": "336882a2-eeaf-4875-acdb-2c863e4810c4"
      },
      "source": [
        "swinn.gpax"
      ],
      "execution_count": null,
      "outputs": [
        {
          "output_type": "execute_result",
          "data": {
            "text/plain": [
              "3.8"
            ]
          },
          "metadata": {
            "tags": []
          },
          "execution_count": 108
        }
      ]
    },
    {
      "cell_type": "code",
      "metadata": {
        "id": "JB9pA7gB1xEY"
      },
      "source": [
        "swinn.changeaddress('bangwa')"
      ],
      "execution_count": null,
      "outputs": []
    },
    {
      "cell_type": "code",
      "metadata": {
        "colab": {
          "base_uri": "https://localhost:8080/",
          "height": 35
        },
        "id": "epSbA1jN1zUl",
        "outputId": "cde2df64-8de3-4a7f-b117-1bb3a7d64bcb"
      },
      "source": [
        "swinn.address"
      ],
      "execution_count": null,
      "outputs": [
        {
          "output_type": "execute_result",
          "data": {
            "application/vnd.google.colaboratory.intrinsic+json": {
              "type": "string"
            },
            "text/plain": [
              "'bangwa'"
            ]
          },
          "metadata": {
            "tags": []
          },
          "execution_count": 110
        }
      ]
    },
    {
      "cell_type": "code",
      "metadata": {
        "id": "P1ToeL3wvLXp"
      },
      "source": [
        "anunyacar = car('blue',150,'anunya')"
      ],
      "execution_count": null,
      "outputs": []
    },
    {
      "cell_type": "code",
      "metadata": {
        "id": "e_caazWyx-Ma"
      },
      "source": [
        "anunyacar.movebackward(1)"
      ],
      "execution_count": null,
      "outputs": []
    },
    {
      "cell_type": "code",
      "metadata": {
        "colab": {
          "base_uri": "https://localhost:8080/"
        },
        "id": "r51qx7w7yNmf",
        "outputId": "f1d51c42-9a8a-4cb7-87dc-e5cc77a40633"
      },
      "source": [
        "anunyacar.position"
      ],
      "execution_count": null,
      "outputs": [
        {
          "output_type": "execute_result",
          "data": {
            "text/plain": [
              "300"
            ]
          },
          "metadata": {
            "tags": []
          },
          "execution_count": 71
        }
      ]
    },
    {
      "cell_type": "code",
      "metadata": {
        "id": "TJhk_wpjyfhj"
      },
      "source": [
        "firstcar.moveforward(4)"
      ],
      "execution_count": null,
      "outputs": []
    },
    {
      "cell_type": "code",
      "metadata": {
        "colab": {
          "base_uri": "https://localhost:8080/"
        },
        "id": "mn2HwUd6ynvo",
        "outputId": "629cf097-cf56-4c3c-83c8-73eb8282bec8"
      },
      "source": [
        "firstcar.position"
      ],
      "execution_count": null,
      "outputs": [
        {
          "output_type": "execute_result",
          "data": {
            "text/plain": [
              "1500"
            ]
          },
          "metadata": {
            "tags": []
          },
          "execution_count": 79
        }
      ]
    },
    {
      "cell_type": "code",
      "metadata": {
        "id": "B_jrZW0KvkDs"
      },
      "source": [
        "firstcar = car('green',250,'first')"
      ],
      "execution_count": null,
      "outputs": []
    },
    {
      "cell_type": "code",
      "metadata": {
        "colab": {
          "base_uri": "https://localhost:8080/"
        },
        "id": "QyZ_zFsA9l7g",
        "outputId": "94c00645-8ae6-459e-bca8-5f864ac21ed1"
      },
      "source": [
        "!pip install botnoi==0.2.1"
      ],
      "execution_count": null,
      "outputs": [
        {
          "output_type": "stream",
          "text": [
            "Requirement already satisfied: botnoi==0.2.1 in /usr/local/lib/python3.6/dist-packages (0.2.1)\n"
          ],
          "name": "stdout"
        }
      ]
    },
    {
      "cell_type": "code",
      "metadata": {
        "id": "t8vmCjG0JlrQ"
      },
      "source": [
        "import os"
      ],
      "execution_count": null,
      "outputs": []
    },
    {
      "cell_type": "code",
      "metadata": {
        "id": "tWY96c10Jy5e",
        "colab": {
          "base_uri": "https://localhost:8080/"
        },
        "outputId": "76c993ac-19dd-4c8a-d2b9-3cffe68189c4"
      },
      "source": [
        "!pip install botnoi"
      ],
      "execution_count": null,
      "outputs": [
        {
          "output_type": "stream",
          "text": [
            "Collecting botnoi\n",
            "\u001b[?25l  Downloading https://files.pythonhosted.org/packages/ee/07/0c476ad9853713b4fb37e83640b4ca413d04f37c002d23d5ef8bf145da90/botnoi-0.7.1-py3-none-any.whl (22.3MB)\n",
            "\u001b[K     |████████████████████████████████| 22.3MB 80.6MB/s \n",
            "\u001b[?25hCollecting line-bot-sdk\n",
            "\u001b[?25l  Downloading https://files.pythonhosted.org/packages/e4/14/f96a5b5f1f62daab4f4c1192c9a8cd5e4d094ebca6f5f3658781ab2077bc/line_bot_sdk-1.18.0-py2.py3-none-any.whl (66kB)\n",
            "\u001b[K     |████████████████████████████████| 71kB 9.1MB/s \n",
            "\u001b[?25hRequirement already satisfied: tweepy in /usr/local/lib/python3.6/dist-packages (from botnoi) (3.6.0)\n",
            "Collecting boto\n",
            "\u001b[?25l  Downloading https://files.pythonhosted.org/packages/23/10/c0b78c27298029e4454a472a1919bde20cb182dab1662cec7f2ca1dcc523/boto-2.49.0-py2.py3-none-any.whl (1.4MB)\n",
            "\u001b[K     |████████████████████████████████| 1.4MB 52.8MB/s \n",
            "\u001b[?25hRequirement already satisfied: gensim in /usr/local/lib/python3.6/dist-packages (from botnoi) (3.6.0)\n",
            "Collecting SpeechRecognition\n",
            "\u001b[?25l  Downloading https://files.pythonhosted.org/packages/26/e1/7f5678cd94ec1234269d23756dbdaa4c8cfaed973412f88ae8adf7893a50/SpeechRecognition-3.8.1-py2.py3-none-any.whl (32.8MB)\n",
            "\u001b[K     |████████████████████████████████| 32.8MB 97kB/s \n",
            "\u001b[?25hRequirement already satisfied: audioread in /usr/local/lib/python3.6/dist-packages (from botnoi) (2.1.9)\n",
            "Collecting pythainlp\n",
            "\u001b[?25l  Downloading https://files.pythonhosted.org/packages/c1/09/1215cb6f6ef0cfc9dbb427a961fda8a47c111955f782f659ca2d38c79adc/pythainlp-2.2.6-py3-none-any.whl (10.6MB)\n",
            "\u001b[K     |████████████████████████████████| 10.6MB 59.3MB/s \n",
            "\u001b[?25hRequirement already satisfied: multiprocess in /usr/local/lib/python3.6/dist-packages (from botnoi) (0.70.11.1)\n",
            "Collecting boto3\n",
            "\u001b[?25l  Downloading https://files.pythonhosted.org/packages/96/f6/33474285546aedb5d06b3a4225e361e8956ca23764124f368903cf97ff31/boto3-1.17.7.tar.gz (100kB)\n",
            "\u001b[K     |████████████████████████████████| 102kB 14.8MB/s \n",
            "\u001b[?25hCollecting wave\n",
            "  Downloading https://files.pythonhosted.org/packages/df/33/5a06e0c47a147b2683876ba7c576fad13e92b0b16755eb431e56c341e0cf/Wave-0.0.2.tar.gz\n",
            "Requirement already satisfied: pandas in /usr/local/lib/python3.6/dist-packages (from botnoi) (1.1.5)\n",
            "Requirement already satisfied: pillow in /usr/local/lib/python3.6/dist-packages (from botnoi) (7.0.0)\n",
            "Requirement already satisfied: pymongo[srv,tls] in /usr/local/lib/python3.6/dist-packages (from botnoi) (3.11.3)\n",
            "Collecting gspread==3.6.0\n",
            "  Downloading https://files.pythonhosted.org/packages/9c/ba/bc8de4f5077bd34bc873bdd67a89cb29c4f181abba8a836d2c6a0a142365/gspread-3.6.0-py3-none-any.whl\n",
            "Requirement already satisfied: scikit-learn in /usr/local/lib/python3.6/dist-packages (from botnoi) (0.22.2.post1)\n",
            "Collecting facebook-sdk\n",
            "  Downloading https://files.pythonhosted.org/packages/79/d7/4cb0f5930f79205cc45db22e17fa716396d813c3d6b8d5de77783a5fa59a/facebook_sdk-3.1.0-py2.py3-none-any.whl\n",
            "Requirement already satisfied: future in /usr/local/lib/python3.6/dist-packages (from line-bot-sdk->botnoi) (0.16.0)\n",
            "Requirement already satisfied: requests>=2.0 in /usr/local/lib/python3.6/dist-packages (from line-bot-sdk->botnoi) (2.23.0)\n",
            "Requirement already satisfied: PySocks>=1.5.7 in /usr/local/lib/python3.6/dist-packages (from tweepy->botnoi) (1.7.1)\n",
            "Requirement already satisfied: six>=1.10.0 in /usr/local/lib/python3.6/dist-packages (from tweepy->botnoi) (1.15.0)\n",
            "Requirement already satisfied: requests-oauthlib>=0.7.0 in /usr/local/lib/python3.6/dist-packages (from tweepy->botnoi) (1.3.0)\n",
            "Requirement already satisfied: scipy>=0.18.1 in /usr/local/lib/python3.6/dist-packages (from gensim->botnoi) (1.4.1)\n",
            "Requirement already satisfied: numpy>=1.11.3 in /usr/local/lib/python3.6/dist-packages (from gensim->botnoi) (1.19.5)\n",
            "Requirement already satisfied: smart-open>=1.2.1 in /usr/local/lib/python3.6/dist-packages (from gensim->botnoi) (4.1.2)\n",
            "Collecting tinydb>=3.0\n",
            "  Downloading https://files.pythonhosted.org/packages/af/cd/1ce3d93818cdeda0446b8033d21e5f32daeb3a866bbafd878a9a62058a9c/tinydb-4.4.0-py3-none-any.whl\n",
            "Collecting python-crfsuite>=0.9.6\n",
            "\u001b[?25l  Downloading https://files.pythonhosted.org/packages/95/99/869dde6dbf3e0d07a013c8eebfb0a3d30776334e0097f8432b631a9a3a19/python_crfsuite-0.9.7-cp36-cp36m-manylinux1_x86_64.whl (743kB)\n",
            "\u001b[K     |████████████████████████████████| 747kB 41.2MB/s \n",
            "\u001b[?25hRequirement already satisfied: dill>=0.3.3 in /usr/local/lib/python3.6/dist-packages (from multiprocess->botnoi) (0.3.3)\n",
            "Collecting botocore<1.21.0,>=1.20.7\n",
            "\u001b[?25l  Downloading https://files.pythonhosted.org/packages/51/c3/af73e35f97ebbe0f4609bc2433ca06421305cc1eedef1009bd14354fb3af/botocore-1.20.7-py2.py3-none-any.whl (7.2MB)\n",
            "\u001b[K     |████████████████████████████████| 7.2MB 48.4MB/s \n",
            "\u001b[?25hCollecting jmespath<1.0.0,>=0.7.1\n",
            "  Downloading https://files.pythonhosted.org/packages/07/cb/5f001272b6faeb23c1c9e0acc04d48eaaf5c862c17709d20e3469c6e0139/jmespath-0.10.0-py2.py3-none-any.whl\n",
            "Collecting s3transfer<0.4.0,>=0.3.0\n",
            "\u001b[?25l  Downloading https://files.pythonhosted.org/packages/ea/43/4b4a1b26eb03a429a4c37ca7fdf369d938bd60018fc194e94b8379b0c77c/s3transfer-0.3.4-py2.py3-none-any.whl (69kB)\n",
            "\u001b[K     |████████████████████████████████| 71kB 11.6MB/s \n",
            "\u001b[?25hRequirement already satisfied: python-dateutil>=2.7.3 in /usr/local/lib/python3.6/dist-packages (from pandas->botnoi) (2.8.1)\n",
            "Requirement already satisfied: pytz>=2017.2 in /usr/local/lib/python3.6/dist-packages (from pandas->botnoi) (2018.9)\n",
            "Collecting dnspython<2.0.0,>=1.16.0; extra == \"srv\"\n",
            "\u001b[?25l  Downloading https://files.pythonhosted.org/packages/ec/d3/3aa0e7213ef72b8585747aa0e271a9523e713813b9a20177ebe1e939deb0/dnspython-1.16.0-py2.py3-none-any.whl (188kB)\n",
            "\u001b[K     |████████████████████████████████| 194kB 63.6MB/s \n",
            "\u001b[?25hRequirement already satisfied: google-auth>=1.12.0 in /usr/local/lib/python3.6/dist-packages (from gspread==3.6.0->botnoi) (1.25.0)\n",
            "Requirement already satisfied: google-auth-oauthlib>=0.4.1 in /usr/local/lib/python3.6/dist-packages (from gspread==3.6.0->botnoi) (0.4.2)\n",
            "Requirement already satisfied: joblib>=0.11 in /usr/local/lib/python3.6/dist-packages (from scikit-learn->botnoi) (1.0.0)\n",
            "Requirement already satisfied: urllib3!=1.25.0,!=1.25.1,<1.26,>=1.21.1 in /usr/local/lib/python3.6/dist-packages (from requests>=2.0->line-bot-sdk->botnoi) (1.24.3)\n",
            "Requirement already satisfied: certifi>=2017.4.17 in /usr/local/lib/python3.6/dist-packages (from requests>=2.0->line-bot-sdk->botnoi) (2020.12.5)\n",
            "Requirement already satisfied: chardet<4,>=3.0.2 in /usr/local/lib/python3.6/dist-packages (from requests>=2.0->line-bot-sdk->botnoi) (3.0.4)\n",
            "Requirement already satisfied: idna<3,>=2.5 in /usr/local/lib/python3.6/dist-packages (from requests>=2.0->line-bot-sdk->botnoi) (2.10)\n",
            "Requirement already satisfied: oauthlib>=3.0.0 in /usr/local/lib/python3.6/dist-packages (from requests-oauthlib>=0.7.0->tweepy->botnoi) (3.1.0)\n",
            "Requirement already satisfied: setuptools>=40.3.0 in /usr/local/lib/python3.6/dist-packages (from google-auth>=1.12.0->gspread==3.6.0->botnoi) (53.0.0)\n",
            "Requirement already satisfied: cachetools<5.0,>=2.0.0 in /usr/local/lib/python3.6/dist-packages (from google-auth>=1.12.0->gspread==3.6.0->botnoi) (4.2.1)\n",
            "Requirement already satisfied: rsa<5,>=3.1.4; python_version >= \"3.6\" in /usr/local/lib/python3.6/dist-packages (from google-auth>=1.12.0->gspread==3.6.0->botnoi) (4.7)\n",
            "Requirement already satisfied: pyasn1-modules>=0.2.1 in /usr/local/lib/python3.6/dist-packages (from google-auth>=1.12.0->gspread==3.6.0->botnoi) (0.2.8)\n",
            "Requirement already satisfied: pyasn1>=0.1.3 in /usr/local/lib/python3.6/dist-packages (from rsa<5,>=3.1.4; python_version >= \"3.6\"->google-auth>=1.12.0->gspread==3.6.0->botnoi) (0.4.8)\n",
            "Building wheels for collected packages: boto3, wave\n",
            "  Building wheel for boto3 (setup.py) ... \u001b[?25l\u001b[?25hdone\n",
            "  Created wheel for boto3: filename=boto3-1.17.7-py2.py3-none-any.whl size=128762 sha256=4147c466b06d8730ab29e7eff73140e32ff51bc88a0b29176d61f915b7ab83d3\n",
            "  Stored in directory: /root/.cache/pip/wheels/db/5f/37/897938ca4d98dcf44a16dd59829053aa9b9ae54520cdd5e84e\n",
            "  Building wheel for wave (setup.py) ... \u001b[?25l\u001b[?25hdone\n",
            "  Created wheel for wave: filename=Wave-0.0.2-cp36-none-any.whl size=1246 sha256=cb0cb8b8e639c06f129da885455df014be6413b12486f9bb991050f599c671b2\n",
            "  Stored in directory: /root/.cache/pip/wheels/8c/2e/ad/d96151afb1fdccf126346b26eabb91fec3c5ce5cbee7287fbf\n",
            "Successfully built boto3 wave\n",
            "\u001b[31mERROR: botocore 1.20.7 has requirement urllib3<1.27,>=1.25.4, but you'll have urllib3 1.24.3 which is incompatible.\u001b[0m\n",
            "Installing collected packages: line-bot-sdk, boto, SpeechRecognition, tinydb, python-crfsuite, pythainlp, jmespath, botocore, s3transfer, boto3, wave, gspread, facebook-sdk, botnoi, dnspython\n",
            "  Found existing installation: gspread 3.0.1\n",
            "    Uninstalling gspread-3.0.1:\n",
            "      Successfully uninstalled gspread-3.0.1\n",
            "Successfully installed SpeechRecognition-3.8.1 botnoi-0.7.1 boto-2.49.0 boto3-1.17.7 botocore-1.20.7 dnspython-1.16.0 facebook-sdk-3.1.0 gspread-3.6.0 jmespath-0.10.0 line-bot-sdk-1.18.0 pythainlp-2.2.6 python-crfsuite-0.9.7 s3transfer-0.3.4 tinydb-4.4.0 wave-0.0.2\n"
          ],
          "name": "stdout"
        }
      ]
    },
    {
      "cell_type": "code",
      "metadata": {
        "id": "ph3JeRcsePkT",
        "colab": {
          "base_uri": "https://localhost:8080/"
        },
        "outputId": "9cc2b29d-a1a7-458d-9d3b-3a49b645b743"
      },
      "source": [
        "import botnoi as bn"
      ],
      "execution_count": null,
      "outputs": [
        {
          "output_type": "stream",
          "text": [
            "/usr/local/lib/python3.6/dist-packages/sklearn/base.py:318: UserWarning: Trying to unpickle estimator TfidfTransformer from version 0.22.1 when using version 0.22.2.post1. This might lead to breaking code or invalid results. Use at your own risk.\n",
            "  UserWarning)\n",
            "/usr/local/lib/python3.6/dist-packages/sklearn/base.py:318: UserWarning: Trying to unpickle estimator TfidfVectorizer from version 0.22.1 when using version 0.22.2.post1. This might lead to breaking code or invalid results. Use at your own risk.\n",
            "  UserWarning)\n"
          ],
          "name": "stderr"
        },
        {
          "output_type": "stream",
          "text": [
            "load model tfidf\n",
            "load model w2v\n",
            "load word dict\n"
          ],
          "name": "stdout"
        }
      ]
    },
    {
      "cell_type": "code",
      "metadata": {
        "id": "IoAAQNgpeUsM"
      },
      "source": [
        "from botnoi import scrape as sc\n",
        "from botnoi import cv\n",
        "import os"
      ],
      "execution_count": null,
      "outputs": []
    },
    {
      "cell_type": "code",
      "metadata": {
        "colab": {
          "base_uri": "https://localhost:8080/"
        },
        "id": "R-7ZOSnJKLRl",
        "outputId": "dbd2f8f4-c754-4d66-c9a1-bdd382138ff5"
      },
      "source": [
        "imgList = sc.get_image_urls('หมา')"
      ],
      "execution_count": null,
      "outputs": [
        {
          "output_type": "stream",
          "text": [
            "complete: 0.00%\n",
            "completed\n"
          ],
          "name": "stdout"
        }
      ]
    },
    {
      "cell_type": "code",
      "metadata": {
        "colab": {
          "base_uri": "https://localhost:8080/"
        },
        "id": "7TwfeFm8MEn4",
        "outputId": "c3c02351-efee-454a-9bda-93631953b19c"
      },
      "source": [
        "imgList"
      ],
      "execution_count": null,
      "outputs": [
        {
          "output_type": "execute_result",
          "data": {
            "text/plain": [
              "['https://nongpets.com/wp-content/uploads/2020/02/hokkaido-dog.jpg',\n",
              " 'https://static.posttoday.com/media/content/2019/03/27/18A2DEE7B3864E1EB1587EF0C91E1F38_1000.jpg',\n",
              " 'https://imgcp.aacdn.jp/img-a/1200/900/global-aaj-front/article/2016/11/582922b20dfbd_582922a622783_178712518.jpg',\n",
              " 'https://www.dogsclip.com/img/upload/02Articles/CoverImg/dsc_artiCoverImg4289691557700743.jpg',\n",
              " 'https://www.thairath.co.th/media/HCtHFA7ele6Q2dULjnz2JwCVK4qJVrU0gwxNnODOiCHKJkRUuHJnnXVLI2dP1T3y2J.jpg',\n",
              " 'https://dw.lnwfile.com/7pkp3a.png',\n",
              " 'https://siamrath.co.th/files/img/20201229/c79b909950b13cc0e4eb35a2fd5e2f373acc4f232e77c0be506b55f7ba168848.jpg',\n",
              " 'https://www.khaosod.co.th/wpapp/uploads/2018/06/sei_18040018.jpg',\n",
              " 'https://www.mr7land.com/wp-content/uploads/2020/04/Pit-Bull.jpg',\n",
              " 'https://www.khaosod.co.th/wpapp/uploads/2019/11/narwhal5.jpg',\n",
              " 'https://buzzstuffs.com/wp-content/uploads/2020/10/Halloween-Dog-Costumes-Funny-Pet-Clothes-Adjustable-Dog-Cosplay-Costume-Sets-Novelty-Clothing-For-Medium-Large.jpg',\n",
              " 'https://image.dogilike.com/shareimg/dogthumb_c/8954_1596358967.jpg',\n",
              " 'https://cb.lnwfile.com/75sg5k.jpg',\n",
              " 'https://cms.dmpcdn.com/news/2020/10/05/1b4998c0-06fe-11eb-b17a-6d34b2a83c2d_original.jpeg',\n",
              " 'https://www.brandbuffet.in.th/wp-content/uploads/2020/05/shutterstock_dog-corgi-puppy01-1024x606.png',\n",
              " 'https://cdn1.productnation.co/stg/sites/6/5d2469b16b1ee.png',\n",
              " 'https://i.pinimg.com/originals/78/17/13/78171343a6b8bc8ff54c9faaf3deb450.jpg',\n",
              " 'https://cms.dmpcdn.com/news/2020/10/14/2cc06da0-0df1-11eb-b175-af1d61cb8ee7_original.jpeg',\n",
              " 'https://www.petsayhi.com/wp-content/uploads/2020/01/foodCatDog1_petsayhi.jpg',\n",
              " 'https://my.kapook.com/imagescontent/fb_img/280/s_42154_3593.jpg',\n",
              " 'https://inwfile.com/s-do/w35l8h.jpg',\n",
              " 'https://nongpets.com/wp-content/uploads/2019/07/Beagle.jpg',\n",
              " 'https://ichiangmaipr.com/wp-content/uploads/2019/06/01-e1560247974103.jpg',\n",
              " 'https://www.fungjaizine.com/wp-content/uploads/2019/07/dog.jpg',\n",
              " 'https://d12man5gwydfvl.cloudfront.net/wp-content/uploads/2019/08/shutterstock_1466948099-1.jpg',\n",
              " 'https://lifestyle.campus-star.com/app/uploads/2017/04/dogcover-1.jpg',\n",
              " 'https://cache.gmo2.sistacafe.com/images/uploads/summary/image/10969/1467083188-jumping-corgi-winter.jpg',\n",
              " 'https://www.ryt9.com/img/files/20190815/iqde5b750d9869669f4e6edb878c85b324-0.jpg',\n",
              " 'https://i.ytimg.com/vi/Dl6GS2ZLsTM/hqdefault.jpg',\n",
              " 'https://imgcp.aacdn.jp/img-a/1200/auto/global-aaj-front/article/2017/10/59e042b5de07d_59e041ee14c8b_842368218.jpg',\n",
              " 'https://extra.shopklub.com/media/catalog/product/cache/2/image/9df78eab33525d08d6e5fb8d27136e95/5/7/5799______.jpg',\n",
              " 'https://www.dogthailand.net/data/attachment/forum/202101/26/120657y7tfetcijvtczt7y.jpg',\n",
              " 'https://pbs.twimg.com/profile_images/1348624702411927555/0TXDaUc-_400x400.jpg',\n",
              " 'https://www.suptarpetshop.com/data/attachment/forum/201906/23/220103wzs4s4es4669pcc9.jpg',\n",
              " 'https://do.lnwfile.com/4n4kho.png',\n",
              " 'https://www.baanlaesuan.com/app/uploads/2019/07/coverpuppypoop.jpg',\n",
              " 'https://s.isanook.com/wo/0/rp/r/w728/ya0xa0m1w0/aHR0cHM6Ly9zLmlzYW5vb2suY29tL3dvLzAvdWQvNC8yMDkyNy9kMjEuanBn.jpg',\n",
              " 'https://image.dogilike.com/shareimg/contentimg/2020/pungpond/1-20/CARING/kyle-smith-SIZ66vF4FKA-unsplash.jpg',\n",
              " 'https://static.posttoday.com/media/content/2019/11/14/963A49FDB1074F3BAF8907F6505F024D.png',\n",
              " 'https://s.isanook.com/ca/0/rp/r/w728/ya0xa0m1w0/aHR0cHM6Ly9zLmlzYW5vb2suY29tL2NhLzAvdWQvMjc5LzEzOTg0ODkvNjcxMjQzNTNfMzkxNTY0MDA4Mzc2NTE3XzU5NjUuanBn.jpg',\n",
              " 'https://d12man5gwydfvl.cloudfront.net/wp-content/uploads/2019/08/shutterstock_1223036338-1.jpg',\n",
              " 'https://image.dogilike.com/shareimg/contentimg/2012/pungpond/29-10-55/mini-bull-terrier.jpg',\n",
              " 'https://www.dogsclip.com/img/upload/02Articles/CoverImg/dsc_artiCoverImg7431631557701007.jpg',\n",
              " 'https://cu.lnwfile.com/94suis.png',\n",
              " 'https://cache.gmo2.sistacafe.com/images/uploads/summary/image/4600/1447843392-hipster-puppies.jpg',\n",
              " 'https://www.scasset.com/scasset/wp-content/uploads/2019/05/Banner-1-1.jpg',\n",
              " 'https://www.baanlaesuan.com/app/uploads/2019/06/coverolddog-2.jpg',\n",
              " 'https://www.catdumb.com/wp-content/uploads/2016/06/cutest-dog-ever-1068x532.jpg',\n",
              " 'https://65blogs.com/wp-content/uploads/2014/07/selfie-dog-e1405507098760-1.jpg',\n",
              " 'https://www.matichon.co.th/wp-content/uploads/2020/06/page-62.jpg',\n",
              " 'https://www.thairath.co.th/media/dFQROr7oWzulq5FZUIVRcfRXjBom9hQHg1XqIVqzfrpmV49b2XaDESbj8i6zjwyDm9i.jpg',\n",
              " 'https://cn.lnwfile.com/qpvkh1.jpg',\n",
              " 'https://newsclear.co/media/content/2019/11/21/5364A2FC8B5E42F6B7B5AF3B872E5706.jpg',\n",
              " 'https://i.pinimg.com/originals/01/c6/cd/01c6cddaa64acc8f15b6de672b870821.jpg',\n",
              " 'https://do.lnwfile.com/oddu08.jpg',\n",
              " 'https://i.ytimg.com/vi/zgye0PYw1Rs/maxresdefault.jpg',\n",
              " 'https://s359.kapook.com/pagebuilder/0a3f8192-3bfc-48df-ae60-2d600a7964e3.jpg',\n",
              " 'https://weloveanimals.in.th/wp-content/uploads/2020/02/202002-45.jpg']"
            ]
          },
          "metadata": {
            "tags": []
          },
          "execution_count": 6
        }
      ]
    },
    {
      "cell_type": "code",
      "metadata": {
        "id": "1d3qiObgLrsp"
      },
      "source": [
        "import IPython\n",
        "from google.colab import output\n"
      ],
      "execution_count": null,
      "outputs": []
    },
    {
      "cell_type": "code",
      "metadata": {
        "id": "qFHySOPFhkcH"
      },
      "source": [
        "def createhtml(inputname,imgurl):\n",
        "  htmltag = '''\n",
        "  <!DOCTYPE html>\n",
        "  <html>\n",
        "  <title>HTML Tutorial</title>\n",
        "  <body>\n",
        "\n",
        "  <h1>Hello my name is %s</h1>\n",
        "  <p>This is my dog's picture</p>\n",
        "  <img src=\"%s\" alt=\"my image\">\n",
        "\n",
        "  </body>\n",
        "  </html>\n",
        "  '''%(inputname,imgurl)\n",
        "  return htmltag"
      ],
      "execution_count": null,
      "outputs": []
    },
    {
      "cell_type": "code",
      "metadata": {
        "colab": {
          "base_uri": "https://localhost:8080/",
          "height": 35
        },
        "id": "EE9VoKkjiXdH",
        "outputId": "8b12ea26-e977-4911-d688-f5fefc802363"
      },
      "source": [
        "myname = 'Winn'\n",
        "'my name is %s'%myname"
      ],
      "execution_count": null,
      "outputs": [
        {
          "output_type": "execute_result",
          "data": {
            "application/vnd.google.colaboratory.intrinsic+json": {
              "type": "string"
            },
            "text/plain": [
              "'my name is Winn'"
            ]
          },
          "metadata": {
            "tags": []
          },
          "execution_count": 18
        }
      ]
    },
    {
      "cell_type": "code",
      "metadata": {
        "id": "ttjLxsVJiQM6"
      },
      "source": [
        "htmltag = createhtml('Chaiwarit','https://weloveanimals.in.th/wp-content/uploads/2020/02/202002-45.jpg')"
      ],
      "execution_count": null,
      "outputs": []
    },
    {
      "cell_type": "code",
      "metadata": {
        "colab": {
          "base_uri": "https://localhost:8080/",
          "height": 415
        },
        "id": "3CWqZIrahf6V",
        "outputId": "ee8373e3-c848-4974-d2c1-e6c73cfec48c"
      },
      "source": [
        "display(IPython.display.HTML(htmltag))"
      ],
      "execution_count": null,
      "outputs": [
        {
          "output_type": "display_data",
          "data": {
            "text/html": [
              "\n",
              "  <!DOCTYPE html>\n",
              "  <html>\n",
              "  <title>HTML Tutorial</title>\n",
              "  <body>\n",
              "\n",
              "  <h1>Hello my name is Chaiwarit</h1>\n",
              "  <p>This is my dog's picture</p>\n",
              "  <img src=\"https://weloveanimals.in.th/wp-content/uploads/2020/02/202002-45.jpg\" alt=\"my image\">\n",
              "\n",
              "  </body>\n",
              "  </html>\n",
              "  "
            ],
            "text/plain": [
              "<IPython.core.display.HTML object>"
            ]
          },
          "metadata": {
            "tags": []
          }
        }
      ]
    },
    {
      "cell_type": "code",
      "metadata": {
        "id": "-EOt4MiCNp31"
      },
      "source": [
        "name = 'ananya'"
      ],
      "execution_count": null,
      "outputs": []
    },
    {
      "cell_type": "code",
      "metadata": {
        "id": "Ye_kgEpbNh1d"
      },
      "source": [
        "def helloname(name):\n",
        "  return 'hello %s'%name"
      ],
      "execution_count": null,
      "outputs": []
    },
    {
      "cell_type": "code",
      "metadata": {
        "id": "i1npxMbZkqxf"
      },
      "source": [
        ""
      ],
      "execution_count": null,
      "outputs": []
    },
    {
      "cell_type": "code",
      "metadata": {
        "id": "_9DyQyU1fUio",
        "colab": {
          "base_uri": "https://localhost:8080/"
        },
        "outputId": "94563cf7-d782-4e54-843c-959aeba5c4a2"
      },
      "source": [
        "imgList = sc.get_image_urls('blackpink')"
      ],
      "execution_count": null,
      "outputs": [
        {
          "output_type": "stream",
          "text": [
            "complete: 0.00%\n",
            "completed\n"
          ],
          "name": "stdout"
        }
      ]
    },
    {
      "cell_type": "code",
      "metadata": {
        "colab": {
          "base_uri": "https://localhost:8080/",
          "height": 171
        },
        "id": "Eqn9L43ckdHy",
        "outputId": "2d43aa3f-64cb-4059-ed95-0cd8aae48d05"
      },
      "source": [
        "displayresultthumb(imgList)"
      ],
      "execution_count": null,
      "outputs": [
        {
          "output_type": "execute_result",
          "data": {
            "application/vnd.google.colaboratory.intrinsic+json": {
              "type": "string"
            },
            "text/plain": [
              "'\\n  <style>\\n  img {\\n    border: 1px solid #ddd; /* Gray border */\\n    border-radius: 4px;  /* Rounded border */\\n    padding: 5px; /* Some padding */\\n    width: 150px; /* Set a small width */\\n  }\\n\\n  /* Add a hover effect (blue shadow) */\\n  img:hover {\\n    box-shadow: 0 0 2px 1px rgba(0, 140, 186, 0.5);\\n  }\\n  </style>\\n  <body>\\n\\n  <img src=\"https://www.allkpop.com/upload/2020/09/content/040349/1599205748-blackpink-ice-cream-members-uhdpaper.jpg\"><img src=\"https://pyxis.nymag.com/v1/imgs/180/c21/43215cdda0adde4e5caefe7a24791a0a7f-blackpink-mac.rsquare.w700.jpg\"><img src=\"https://static.billboard.com/files/media/izx4xs-Blackpink-8znak-bb05-nz7w-2019-feat-billboard-cdakjehr-jxs8xjkx-1548-compressed.jpg\"><img src=\"https://pbs.twimg.com/media/EpT8eQuXUAEoGV3.jpg\"><img src=\"https://media2.malaymail.com/uploads/articles/2020/2020-12/20201203_Blackpink-youtube-concert.png\"><img src=\"https://image.ajunews.com/content/image/2020/06/01/20200601145214875895.jpg\"><img src=\"https://www.rollingstone.com/wp-content/uploads/2019/01/blackpink-5-things-to-know.jpg\"><img src=\"https://files.vogue.co.th/uploads/COVVERNN9.jpg\"><img src=\"https://media.interaksyon.com/wp-content/uploads/2020/10/blackpink-stage-640x427.jpg\"><img src=\"https://ichef.bbci.co.uk/news/1024/cpsprodpb/D8AE/production/_113107455_gettyimages-1143890227.jpg\"><img src=\"https://d15kbsmiqz0zlr.cloudfront.net/wp-content/uploads/2020/08/becoming-blackpink-featured-scaled.jpg\"><img src=\"https://www.newuniversity.org/wp-content/uploads/2020/10/Blackpink-scaled.jpg\"><img src=\"https://variety.com/wp-content/uploads/2019/04/blackpink.jpg\"><img src=\"https://i1.sndcdn.com/avatars-3YiljcXAvj7pU7Vb-GsiCvw-t240x240.jpg\"><img src=\"https://pyxis.nymag.com/v1/imgs/38d/32a/da81186558585c42a3ea07797f89d71f3c-blackpink-lady-gaga.2x.rsocial.w600.jpg\"><img src=\"https://images.indianexpress.com/2020/09/BP1200.jpg\"><img src=\"https://static.billboard.com/files/media/j29szj-Blackpink-3hnx-bb05-jz8w-2019-feat-billboard-rtbgstj-nxsh3zz-1548-compressed.jpg\"><img src=\"https://static.hollywoodreporter.com/sites/default/files/2018/12/blackpink-2-h_2018-928x523.jpg\"><img src=\"https://variety.com/wp-content/uploads/2020/12/Blackpink-Variety-Hitmakers.jpg\"><img src=\"https://www.channelnewsasia.com/image/11886328/1x1/600/600/3c82ac0f8efdfc500c51ab6b40b8486f/le/photo-blackpink.jpg\"><img src=\"https://sm.mashable.com/t/mashable_in/photo/default/blackpink-light-up-the-sky-documentary-is-coming-to-netflix_kzru.960.jpg\"><img src=\"https://stylecaster.com/wp-content/uploads/2019/12/black-pink.jpg\"><img src=\"https://i.ytimg.com/vi/784TL-z1P5g/maxresdefault.jpg\"><img src=\"https://images.indianexpress.com/2020/10/Blackpink-group-1200by667-n1.jpg\"><img src=\"https://sm.mashable.com/t/mashable_in/photo/default/blackpink-the-show-fans-react-to-roses-solo-debut-gone-jisoo_yxp9.h720.jpg\"><img src=\"https://media2.malaymail.com/uploads/articles/2020/2020-09/20200909_Blackpink_K-pop.jpg\"><img src=\"https://media.harpersbazaar.com.sg/2020/05/blackpink-coachella-2019-700x467.jpg\"><img src=\"https://static.billboard.com/files/2020/09/02-Blackpink-press-cr-YG-Entertainment-2020-billboard-1548-1599834844-1024x677.jpg\"><img src=\"https://pyxis.nymag.com/v1/imgs/5f8/709/76e5d43b3a22e4552ef24e5c27e2f78c36-Blackpink.rsquare.w1200.jpg\"><img src=\"https://i.ytimg.com/vi/DOzjtEV7Bjk/maxresdefault.jpg\"><img src=\"https://i.pinimg.com/736x/52/79/8f/52798febb581913aa22342ebeff43c31.jpg\"><img src=\"https://dontboreus.thebrag.com/wp-content/uploads/sites/3/2020/10/Blackpink.jpg\"><img src=\"https://www.nme.com/wp-content/uploads/2019/01/GettyImages-643997070.jpg\"><img src=\"https://cdn.star2.com/wp-content/uploads/2019/02/str2_db_fashion_blackpink_db_1.PDF.jpg\"><img src=\"https://i.ytimg.com/vi/CqKdT6mwTcY/maxresdefault.jpg\"><img src=\"https://pbs.twimg.com/media/Ep-He35VgAEDBGj.jpg\"><img src=\"https://i.ytimg.com/vi/_oGv-g2HSEc/maxresdefault.jpg\"><img src=\"https://i.ytimg.com/vi/_QVsY6wdYgM/maxresdefault.jpg\"><img src=\"https://pyxis.nymag.com/v1/imgs/b9b/07a/9382d3b55e22d189d83bc8bddc54de945c-28-blackpink.rsquare.w1200.jpg\"><img src=\"https://hips.hearstapps.com/hmg-prod.s3.amazonaws.com/images/jennie-kim-rose-lisa-and-jisoo-of-blackpink-are-seen-at-the-news-photo-1602622251.jpg\"><img src=\"https://static01.nyt.com/images/2020/10/15/arts/blackpink1/blackpink1-superJumbo.jpg\"><img src=\"https://i.pinimg.com/736x/a8/68/14/a86814c0173ae445ec51a034aeccd133.jpg\"><img src=\"https://www.bollywoodhungama.com/wp-content/uploads/2020/09/Cardi-B-to-feature-on-an-up-beat-BLACKPINK-song-Bet-You-Wanna-the-group-reveals-tracklist-of-their-debut-album-.jpg\"><img src=\"https://static.onecms.io/wp-content/uploads/sites/20/2020/09/17/blackpink-2-2000.jpg\"><img src=\"https://www.udiscovermusic.com/wp-content/uploads/2020/10/BLACKPINK-THE-ALBUM.jpg\"><img src=\"https://apicms.thestar.com.my/uploads/images/2020/07/02/741581.jpg\"><img src=\"https://hips.hearstapps.com/hmg-prod.s3.amazonaws.com/images/blackpink1-1551444037.jpg\"><img src=\"https://www.thefactsite.com/wp-content/uploads/2020/09/blackpink-facts-712x356.jpg\"><img src=\"https://pbs.twimg.com/media/EiHdCkoXsAIXfsE.jpg\"><img src=\"https://micdn-13a1c.kxcdn.com/images/sg/content-images/blackpink_kbank.jpg\"><img src=\"https://coconuts.co/wp-content/uploads/2020/11/BLACKPINK-Tokopedia-WIB-960x540.jpg\"><img src=\"https://www.refinery29.com/images/9936963.jpg\"><img src=\"https://enfntsterribles.com/wp-content/uploads/2020/10/Enfnts-terribles-BLACKPINK-02-683x1024.jpg\">\\n\\n  </body>'"
            ]
          },
          "metadata": {
            "tags": []
          },
          "execution_count": 86
        }
      ]
    },
    {
      "cell_type": "code",
      "metadata": {
        "id": "3dZSrRnZiZir"
      },
      "source": [
        "def gethtmlimage(imgurl):\n",
        "  htmlTag = '''\n",
        "  <img src=\"%s\">\n",
        "  '''%(imgurl)\n",
        "  htmlTag = htmlTag.strip()\n",
        "  return htmlTag"
      ],
      "execution_count": null,
      "outputs": []
    },
    {
      "cell_type": "code",
      "metadata": {
        "id": "RT345bnQM5DU"
      },
      "source": [
        "htmltag = gethtmlimage('https://s359.kapook.com/pagebuilder/c992b68b-b67a-4f39-abb0-801fcf1ef2d3.jpg')"
      ],
      "execution_count": null,
      "outputs": []
    },
    {
      "cell_type": "code",
      "metadata": {
        "colab": {
          "base_uri": "https://localhost:8080/",
          "height": 35
        },
        "id": "__zOR_-GlMcq",
        "outputId": "3b8d6f2e-c40f-4b51-919c-862aabd2a21f"
      },
      "source": [
        "htmltag"
      ],
      "execution_count": null,
      "outputs": [
        {
          "output_type": "execute_result",
          "data": {
            "application/vnd.google.colaboratory.intrinsic+json": {
              "type": "string"
            },
            "text/plain": [
              "'<img src=\"https://s359.kapook.com/pagebuilder/c992b68b-b67a-4f39-abb0-801fcf1ef2d3.jpg\">'"
            ]
          },
          "metadata": {
            "tags": []
          },
          "execution_count": 59
        }
      ]
    },
    {
      "cell_type": "code",
      "metadata": {
        "colab": {
          "base_uri": "https://localhost:8080/",
          "height": 1000
        },
        "id": "Ju5Sg-eRkOtg",
        "outputId": "8e4aa2a7-e74e-408f-cec4-8955dbbff3f5"
      },
      "source": [
        "display(IPython.display.HTML(htmltag))"
      ],
      "execution_count": null,
      "outputs": [
        {
          "output_type": "display_data",
          "data": {
            "text/html": [
              "<img src=\"https://s359.kapook.com/pagebuilder/c992b68b-b67a-4f39-abb0-801fcf1ef2d3.jpg\">"
            ],
            "text/plain": [
              "<IPython.core.display.HTML object>"
            ]
          },
          "metadata": {
            "tags": []
          }
        }
      ]
    },
    {
      "cell_type": "code",
      "metadata": {
        "id": "mKZ0lV66ibvk"
      },
      "source": [
        "def getthumbdisplay(imgList):\n",
        "  res = ''\n",
        "  for img in imgList:\n",
        "    res = res + gethtmlimage(img)\n",
        "  return res"
      ],
      "execution_count": null,
      "outputs": []
    },
    {
      "cell_type": "code",
      "metadata": {
        "colab": {
          "base_uri": "https://localhost:8080/",
          "height": 171
        },
        "id": "FEN7rI5DNVhi",
        "outputId": "1c4ca27a-5d15-4ad7-f638-19f5caeda1c9"
      },
      "source": [
        "getthumbdisplay(imgList)"
      ],
      "execution_count": null,
      "outputs": [
        {
          "output_type": "execute_result",
          "data": {
            "application/vnd.google.colaboratory.intrinsic+json": {
              "type": "string"
            },
            "text/plain": [
              "'<img src=\"https://nongpets.com/wp-content/uploads/2020/02/hokkaido-dog.jpg\"><img src=\"https://static.posttoday.com/media/content/2019/03/27/18A2DEE7B3864E1EB1587EF0C91E1F38_1000.jpg\"><img src=\"https://imgcp.aacdn.jp/img-a/1200/900/global-aaj-front/article/2016/11/582922b20dfbd_582922a622783_178712518.jpg\"><img src=\"https://www.dogsclip.com/img/upload/02Articles/CoverImg/dsc_artiCoverImg4289691557700743.jpg\"><img src=\"https://www.thairath.co.th/media/HCtHFA7ele6Q2dULjnz2JwCVK4qJVrU0gwxNnODOiCHKJkRUuHJnnXVLI2dP1T3y2J.jpg\"><img src=\"https://dw.lnwfile.com/7pkp3a.png\"><img src=\"https://siamrath.co.th/files/img/20201229/c79b909950b13cc0e4eb35a2fd5e2f373acc4f232e77c0be506b55f7ba168848.jpg\"><img src=\"https://www.khaosod.co.th/wpapp/uploads/2018/06/sei_18040018.jpg\"><img src=\"https://www.mr7land.com/wp-content/uploads/2020/04/Pit-Bull.jpg\"><img src=\"https://www.khaosod.co.th/wpapp/uploads/2019/11/narwhal5.jpg\"><img src=\"https://buzzstuffs.com/wp-content/uploads/2020/10/Halloween-Dog-Costumes-Funny-Pet-Clothes-Adjustable-Dog-Cosplay-Costume-Sets-Novelty-Clothing-For-Medium-Large.jpg\"><img src=\"https://image.dogilike.com/shareimg/dogthumb_c/8954_1596358967.jpg\"><img src=\"https://cb.lnwfile.com/75sg5k.jpg\"><img src=\"https://cms.dmpcdn.com/news/2020/10/05/1b4998c0-06fe-11eb-b17a-6d34b2a83c2d_original.jpeg\"><img src=\"https://www.brandbuffet.in.th/wp-content/uploads/2020/05/shutterstock_dog-corgi-puppy01-1024x606.png\"><img src=\"https://cdn1.productnation.co/stg/sites/6/5d2469b16b1ee.png\"><img src=\"https://i.pinimg.com/originals/78/17/13/78171343a6b8bc8ff54c9faaf3deb450.jpg\"><img src=\"https://cms.dmpcdn.com/news/2020/10/14/2cc06da0-0df1-11eb-b175-af1d61cb8ee7_original.jpeg\"><img src=\"https://www.petsayhi.com/wp-content/uploads/2020/01/foodCatDog1_petsayhi.jpg\"><img src=\"https://my.kapook.com/imagescontent/fb_img/280/s_42154_3593.jpg\"><img src=\"https://inwfile.com/s-do/w35l8h.jpg\"><img src=\"https://nongpets.com/wp-content/uploads/2019/07/Beagle.jpg\"><img src=\"https://ichiangmaipr.com/wp-content/uploads/2019/06/01-e1560247974103.jpg\"><img src=\"https://www.fungjaizine.com/wp-content/uploads/2019/07/dog.jpg\"><img src=\"https://d12man5gwydfvl.cloudfront.net/wp-content/uploads/2019/08/shutterstock_1466948099-1.jpg\"><img src=\"https://lifestyle.campus-star.com/app/uploads/2017/04/dogcover-1.jpg\"><img src=\"https://cache.gmo2.sistacafe.com/images/uploads/summary/image/10969/1467083188-jumping-corgi-winter.jpg\"><img src=\"https://www.ryt9.com/img/files/20190815/iqde5b750d9869669f4e6edb878c85b324-0.jpg\"><img src=\"https://i.ytimg.com/vi/Dl6GS2ZLsTM/hqdefault.jpg\"><img src=\"https://imgcp.aacdn.jp/img-a/1200/auto/global-aaj-front/article/2017/10/59e042b5de07d_59e041ee14c8b_842368218.jpg\"><img src=\"https://extra.shopklub.com/media/catalog/product/cache/2/image/9df78eab33525d08d6e5fb8d27136e95/5/7/5799______.jpg\"><img src=\"https://www.dogthailand.net/data/attachment/forum/202101/26/120657y7tfetcijvtczt7y.jpg\"><img src=\"https://pbs.twimg.com/profile_images/1348624702411927555/0TXDaUc-_400x400.jpg\"><img src=\"https://www.suptarpetshop.com/data/attachment/forum/201906/23/220103wzs4s4es4669pcc9.jpg\"><img src=\"https://do.lnwfile.com/4n4kho.png\"><img src=\"https://www.baanlaesuan.com/app/uploads/2019/07/coverpuppypoop.jpg\"><img src=\"https://s.isanook.com/wo/0/rp/r/w728/ya0xa0m1w0/aHR0cHM6Ly9zLmlzYW5vb2suY29tL3dvLzAvdWQvNC8yMDkyNy9kMjEuanBn.jpg\"><img src=\"https://image.dogilike.com/shareimg/contentimg/2020/pungpond/1-20/CARING/kyle-smith-SIZ66vF4FKA-unsplash.jpg\"><img src=\"https://static.posttoday.com/media/content/2019/11/14/963A49FDB1074F3BAF8907F6505F024D.png\"><img src=\"https://s.isanook.com/ca/0/rp/r/w728/ya0xa0m1w0/aHR0cHM6Ly9zLmlzYW5vb2suY29tL2NhLzAvdWQvMjc5LzEzOTg0ODkvNjcxMjQzNTNfMzkxNTY0MDA4Mzc2NTE3XzU5NjUuanBn.jpg\"><img src=\"https://d12man5gwydfvl.cloudfront.net/wp-content/uploads/2019/08/shutterstock_1223036338-1.jpg\"><img src=\"https://image.dogilike.com/shareimg/contentimg/2012/pungpond/29-10-55/mini-bull-terrier.jpg\"><img src=\"https://www.dogsclip.com/img/upload/02Articles/CoverImg/dsc_artiCoverImg7431631557701007.jpg\"><img src=\"https://cu.lnwfile.com/94suis.png\"><img src=\"https://cache.gmo2.sistacafe.com/images/uploads/summary/image/4600/1447843392-hipster-puppies.jpg\"><img src=\"https://www.scasset.com/scasset/wp-content/uploads/2019/05/Banner-1-1.jpg\"><img src=\"https://www.baanlaesuan.com/app/uploads/2019/06/coverolddog-2.jpg\"><img src=\"https://www.catdumb.com/wp-content/uploads/2016/06/cutest-dog-ever-1068x532.jpg\"><img src=\"https://65blogs.com/wp-content/uploads/2014/07/selfie-dog-e1405507098760-1.jpg\"><img src=\"https://www.matichon.co.th/wp-content/uploads/2020/06/page-62.jpg\"><img src=\"https://www.thairath.co.th/media/dFQROr7oWzulq5FZUIVRcfRXjBom9hQHg1XqIVqzfrpmV49b2XaDESbj8i6zjwyDm9i.jpg\"><img src=\"https://cn.lnwfile.com/qpvkh1.jpg\"><img src=\"https://newsclear.co/media/content/2019/11/21/5364A2FC8B5E42F6B7B5AF3B872E5706.jpg\"><img src=\"https://i.pinimg.com/originals/01/c6/cd/01c6cddaa64acc8f15b6de672b870821.jpg\"><img src=\"https://do.lnwfile.com/oddu08.jpg\"><img src=\"https://i.ytimg.com/vi/zgye0PYw1Rs/maxresdefault.jpg\"><img src=\"https://s359.kapook.com/pagebuilder/0a3f8192-3bfc-48df-ae60-2d600a7964e3.jpg\"><img src=\"https://weloveanimals.in.th/wp-content/uploads/2020/02/202002-45.jpg\">'"
            ]
          },
          "metadata": {
            "tags": []
          },
          "execution_count": 68
        }
      ]
    },
    {
      "cell_type": "code",
      "metadata": {
        "id": "__jLLOp-Opfr"
      },
      "source": [
        "import IPython\n",
        "from google.colab import output\n",
        "def displayresultthumb(imgList):\n",
        "  #htmlimage = gethtmlimage('https://s359.kapook.com/pagebuilder/c992b68b-b67a-4f39-abb0-801fcf1ef2d3.jpg')\n",
        "  htmlimage = getthumbdisplay(imgList)\n",
        "  html = '''\n",
        "  <style>\n",
        "  img {\n",
        "    border: 1px solid #ddd; /* Gray border */\n",
        "    border-radius: 4px;  /* Rounded border */\n",
        "    padding: 5px; /* Some padding */\n",
        "    width: 150px; /* Set a small width */\n",
        "  }\n",
        "\n",
        "  /* Add a hover effect (blue shadow) */\n",
        "  img:hover {\n",
        "    box-shadow: 0 0 2px 1px rgba(0, 140, 186, 0.5);\n",
        "  }\n",
        "  </style>\n",
        "  <body>\n",
        "\n",
        "  %s\n",
        "\n",
        "  </body>'''%htmlimage\n",
        "  display(IPython.display.HTML(html))\n",
        "  #return html"
      ],
      "execution_count": null,
      "outputs": []
    },
    {
      "cell_type": "code",
      "metadata": {
        "colab": {
          "base_uri": "https://localhost:8080/"
        },
        "id": "vR2ZhROioGh2",
        "outputId": "18cca9f5-149c-432c-bc53-4740f1bafe55"
      },
      "source": [
        "imgList = sc.get_image_urls('ขนมจีน')"
      ],
      "execution_count": null,
      "outputs": [
        {
          "output_type": "stream",
          "text": [
            "complete: 0.00%\n",
            "completed\n"
          ],
          "name": "stdout"
        }
      ]
    },
    {
      "cell_type": "code",
      "metadata": {
        "colab": {
          "base_uri": "https://localhost:8080/",
          "height": 1000
        },
        "id": "XEoQ39ukmQ7Z",
        "outputId": "dbf0fd3f-6ec4-4630-ff6c-9331babacfc8"
      },
      "source": [
        "displayresultthumb(imgList)"
      ],
      "execution_count": null,
      "outputs": [
        {
          "output_type": "display_data",
          "data": {
            "text/html": [
              "\n",
              "  <style>\n",
              "  img {\n",
              "    border: 1px solid #ddd; /* Gray border */\n",
              "    border-radius: 4px;  /* Rounded border */\n",
              "    padding: 5px; /* Some padding */\n",
              "    width: 150px; /* Set a small width */\n",
              "  }\n",
              "\n",
              "  /* Add a hover effect (blue shadow) */\n",
              "  img:hover {\n",
              "    box-shadow: 0 0 2px 1px rgba(0, 140, 186, 0.5);\n",
              "  }\n",
              "  </style>\n",
              "  <body>\n",
              "\n",
              "  <img src=\"https://www.reviewnowz.com/wp-content/uploads/2019/05/Mae-Kim-Sua-1-770x400.jpg\"><img src=\"https://i.ytimg.com/vi/dBDIh66DWZY/maxresdefault.jpg\"><img src=\"https://s3.ap-southeast-1.amazonaws.com/asset.punpro.com/cover-contents/i9105/1590030811905-96687202_3327188027317527_2629218200805441536_o.jpg\"><img src=\"https://food.mthai.com/app/uploads/2017/10/Thai-rice-noodle.jpg\"><img src=\"https://food.mthai.com/app/uploads/2019/05/iStock-937703646.jpg\"><img src=\"https://pbs.twimg.com/media/DqSBcUTUwAEFgnR.jpg\"><img src=\"https://www.thai-thaifood.com/bilder/4382c.jpg\"><img src=\"https://cdn.gotoknow.org/assets/media/files/001/388/555/original_20191210120641.jpg\"><img src=\"https://ungsriwong.s3.ap-southeast-1.amazonaws.com/wp-content/uploads/2019/06/24123749/SanPaKoi_04.jpg\"><img src=\"https://cheechongruay.smartsme.co.th/media/BorYqhd9Mg2OTmfmeFZduxecrQ6ce14HUE6RhVhAzVeKHZK60TgKC.jpg\"><img src=\"https://www.cpbrandsite.com/contents/recipe/h84kygu5qngpv0xdl3tqcomtbuqllzy0tsqqzuzv.jpg\"><img src=\"https://food.mthai.com/app/uploads/2017/05/Noodles-with-coconut-milk.jpg\"><img src=\"https://maebunjong.kiative.com/wp-content/uploads/2020/11/91567588_1308658435985934_4773457971675922432_n.png\"><img src=\"https://img.wongnai.com/p/1920x0/2018/05/11/98c4df2edd9d47958aa267b4a9d6a586.jpg\"><img src=\"https://d1sag4ddilekf6.cloudfront.net/compressed/merchants/3-CYL3VVB1JUE3KE/hero/056cc1d9ee0b4f72aa767cfd3879cbc7_1580117368012534288.jpeg\"><img src=\"https://i.pinimg.com/originals/cc/87/24/cc87241946eebe4953b1d78b8f2a6a1e.jpg\"><img src=\"https://i.ytimg.com/vi/XhzUeuFOm_0/maxresdefault.jpg\"><img src=\"https://d12man5gwydfvl.cloudfront.net/wp-content/uploads/2020/06/HappyFresh-Spicy-Rice-Noodle-Salad-With-Fried-Mackerel-Recipe.jpg\"><img src=\"https://images.thaiza.com/content/b/341322.jpg\"><img src=\"https://www.thaihealth.or.th/data/content/2019/03/47760/cms/newscms_thaihealth_c_cefklmorvw26.jpg\"><img src=\"https://f.ptcdn.info/734/067/000/q46izu1fjnXR1MC5BmUo-o.jpg\"><img src=\"https://i.pinimg.com/originals/8f/c1/6a/8fc16a834fe1d1573f9291dc07396e17.jpg\"><img src=\"https://content.shopback.com/th/wp-content/uploads/2019/09/10214654/51.jpg\"><img src=\"https://www.thairath.co.th/media/dFQROr7oWzulq5FZUEbqG8ecMyoAapCjnxC8dNm2ONsv6FcoPj2iPab8a0XxKTeC57a.jpg\"><img src=\"https://www.easycookingmenu.com/media/k2/items/cache/8938fc981672a91f27b49fef3a9aa529_XL.jpg\"><img src=\"https://www.ryoiireview.com/upload/article/201709/1504781762_13e3bd753d35c3e273ebf2b9f4ec07ef.jpg\"><img src=\"https://esan108.com/main/wp-content/uploads/2016/06/P1110524.jpg\"><img src=\"https://img.kapook.com/u/2017/surauch/cooking/c1_29.jpg\"><img src=\"https://tuemaster.com/wp-content/uploads/2020/07/unnamed-2-512x256.jpg\"><img src=\"https://d1sag4ddilekf6.cloudfront.net/compressed/merchants/THGFIST0000026t/hero/upload-photo-Hero_Photo_80a85822eb314fd28295c71e084490e3_1546849219958565625.jpeg\"><img src=\"https://www.knorr.com/content/dam/unilever/global/recipe_image/159/15911/159110-default.jpg/_jcr_content/renditions/cq5dam.web.800.600.jpeg\"><img src=\"https://ed.edtfiles-media.com/ud/images/1/140/417347/5_Cover-850x567.jpg\"><img src=\"https://maebunjong.kiative.com/wp-content/uploads/2020/11/118274844_1419952774856499_4865425532664490457_n.png\"><img src=\"https://img.wongnai.com/p/1920x0/2018/03/06/e2473e20d755404a9694f1e234301e70.jpg\"><img src=\"https://my.kapook.com/imagescontent/fb_img/21/s_136610_1740.png\"><img src=\"https://www.thairath.co.th/media/dFQROr7oWzulq5FZXBsPhIhz6MfMxOCKBoHHHBSDMmhqBcXWNYO8GNMhqHWL7DL2CBb.jpg\"><img src=\"https://www.maeban.co.th/upload_images/image/knowledge/newss3/china2.jpg\"><img src=\"https://www.pstip.com/b/images/article-pstip/Food/klang-food/klang-food-20161-1.jpg\"><img src=\"https://www.prachachat.net/wp-content/uploads/2019/12/51DDCCC7-1E62-4704-B63B-C437AA0BF45C.jpg\"><img src=\"https://www.herbtrick.com/wp-content/uploads/2020/09/20092020-09-01.jpg\"><img src=\"https://inwfile.com/s-dp/66ove3.jpg\"><img src=\"https://i.ytimg.com/vi/MI23fo8lTcw/maxresdefault.jpg\"><img src=\"https://img.wongnai.com/p/1920x0/2018/12/17/213ff8cc6acf4daca0f10f38854db298.jpg\"><img src=\"https://s359.kapook.com/r/600/auto/pagebuilder/ca752718-c0a5-4df5-8ac9-f3204f886d72.jpg\"><img src=\"https://www.thairath.co.th/media/dFQROr7oWzulq5FZXUqT2o0tJTwWPlL6QKpUcYMsZZWh2ZeZABqjhWfqUFArDSTOpvx.jpg\"><img src=\"https://i.ytimg.com/vi/nAdCeHYE7yc/maxresdefault.jpg\"><img src=\"https://i.pinimg.com/originals/20/a3/04/20a304f0e985ec6aed75c1db05de47ae.jpg\"><img src=\"https://cheechongruay.smartsme.co.th/media/Epr0MUR9gUP193WFijjHdzzflrsar7BhQZWEZEO85g.jpg\"><img src=\"https://img.wongnai.com/p/1920x0/2020/06/01/273eb5c7d8ae4a42b445e1a8e16adc50.jpg\"><img src=\"https://1.bp.blogspot.com/-JCqYTpFuTCs/XdORaZds93I/AAAAAAABtYA/OsxKPjYfdqw6paLaICQOsfVNz34HA4VIACLcBGAsYHQ/s1600/Blog3.jpg\"><img src=\"https://www.easycookingmenu.com/media/k2/items/cache/fbce18293084d3ac0d97e393ad7b6ff7_XL.jpg\"><img src=\"https://nakhonsidee.com/pic/cover/s68.jpg\"><img src=\"https://www.bloggang.com/data/j/jazzy-bong/picture/1502768216.jpg\"><img src=\"https://reviewchiangmai.com/wp-content/uploads/2020/11/kanom-jeen-thai-nooders.jpg\"><img src=\"https://d12man5gwydfvl.cloudfront.net/wp-content/uploads/2020/06/HappyFresh-Rice-Noodle-With-Fish-Curry.jpg\"><img src=\"https://static.posttoday.com/media/content/2019/06/25/4C094FBDA1FD4FDFA4ECB8B220509BCB.jpg\">\n",
              "\n",
              "  </body>"
            ],
            "text/plain": [
              "<IPython.core.display.HTML object>"
            ]
          },
          "metadata": {
            "tags": []
          }
        }
      ]
    },
    {
      "cell_type": "code",
      "metadata": {
        "colab": {
          "base_uri": "https://localhost:8080/",
          "height": 35
        },
        "id": "RftUAG4mpZIW",
        "outputId": "e82a047b-570e-408d-f28e-a21716ec960d"
      },
      "source": [
        "imgList[0]"
      ],
      "execution_count": null,
      "outputs": [
        {
          "output_type": "execute_result",
          "data": {
            "application/vnd.google.colaboratory.intrinsic+json": {
              "type": "string"
            },
            "text/plain": [
              "'https://www.reviewnowz.com/wp-content/uploads/2019/05/Mae-Kim-Sua-1-770x400.jpg'"
            ]
          },
          "metadata": {
            "tags": []
          },
          "execution_count": 98
        }
      ]
    },
    {
      "cell_type": "code",
      "metadata": {
        "colab": {
          "base_uri": "https://localhost:8080/"
        },
        "id": "p9Vu6HwYpNRk",
        "outputId": "cfe7a926-d10c-40cd-9fac-d6da56039e37"
      },
      "source": [
        "imgurl = imgList[0]\n",
        "a = cv.image(imgurl)\n",
        "a.getresnet50()"
      ],
      "execution_count": null,
      "outputs": [
        {
          "output_type": "execute_result",
          "data": {
            "text/plain": [
              "array([0., 0., 0., ..., 0., 0., 0.])"
            ]
          },
          "metadata": {
            "tags": []
          },
          "execution_count": 104
        }
      ]
    },
    {
      "cell_type": "code",
      "metadata": {
        "colab": {
          "base_uri": "https://localhost:8080/"
        },
        "id": "DfpjnFuBpqFy",
        "outputId": "5d8e1af5-3da2-404f-9122-6380b654e06f"
      },
      "source": [
        "a.resnet50"
      ],
      "execution_count": null,
      "outputs": [
        {
          "output_type": "execute_result",
          "data": {
            "text/plain": [
              "array([0., 0., 0., ..., 0., 0., 0.])"
            ]
          },
          "metadata": {
            "tags": []
          },
          "execution_count": 110
        }
      ]
    },
    {
      "cell_type": "code",
      "metadata": {
        "id": "VqbxBT8Om2aX"
      },
      "source": [
        "myfile = open('myhtml.html','w')\n",
        "myfile.write(htmlcode)\n",
        "myfile.close()"
      ],
      "execution_count": null,
      "outputs": []
    },
    {
      "cell_type": "code",
      "metadata": {
        "colab": {
          "base_uri": "https://localhost:8080/",
          "height": 579
        },
        "id": "uz7jJJ-WmvE8",
        "outputId": "eab2d482-fba4-471f-ce73-9c996e8925ac"
      },
      "source": [
        "extractimagefeat('ขนมจีน')"
      ],
      "execution_count": null,
      "outputs": [
        {
          "output_type": "stream",
          "text": [
            "complete: 0.00%\n",
            "completed\n",
            "1\n",
            "2\n",
            "3\n",
            "4\n",
            "4\n",
            "4\n",
            "5\n",
            "6\n",
            "7\n",
            "8\n",
            "9\n",
            "10\n",
            "10\n",
            "11\n",
            "12\n",
            "13\n",
            "14\n",
            "15\n",
            "16\n",
            "17\n",
            "17\n",
            "18\n",
            "19\n",
            "20\n",
            "21\n",
            "22\n",
            "23\n",
            "24\n",
            "25\n",
            "26\n"
          ],
          "name": "stdout"
        },
        {
          "output_type": "execute_result",
          "data": {
            "application/vnd.google.colaboratory.intrinsic+json": {
              "type": "string"
            },
            "text/plain": [
              "'complete'"
            ]
          },
          "metadata": {
            "tags": []
          },
          "execution_count": 124
        }
      ]
    },
    {
      "cell_type": "code",
      "metadata": {
        "id": "M-Jsv0aaeily"
      },
      "source": [
        "def extractimagefeat(query):\n",
        "  #create folder\n",
        "  foldername = 'images/'+query\n",
        "  isdir = os.path.isdir(foldername) \n",
        "  #check if folder exist\n",
        "  if not isdir:\n",
        "    #create directory\n",
        "    os.makedirs(foldername)\n",
        "  #return ''\n",
        "  #get images from google search\n",
        "  imglist = sc.get_image_urls(query)\n",
        "  i = 1\n",
        "  for img in imglist[0:30]:\n",
        "    #extract image features from each images and save to files\n",
        "    try:\n",
        "      print(i)\n",
        "      #create image path\n",
        "      savepath = foldername + '/' + str(i)+'.p'\n",
        "      a = cv.image(img)\n",
        "      a.getresnet50()\n",
        "      a.save(savepath)\n",
        "      i = i + 1\n",
        "    except:\n",
        "      pass\n",
        "  return 'complete'"
      ],
      "execution_count": null,
      "outputs": []
    },
    {
      "cell_type": "code",
      "metadata": {
        "id": "ZbtFYdBCPM2V"
      },
      "source": [
        "import glob"
      ],
      "execution_count": null,
      "outputs": []
    },
    {
      "cell_type": "code",
      "metadata": {
        "colab": {
          "base_uri": "https://localhost:8080/",
          "height": 35
        },
        "id": "NrnbU_zePPJv",
        "outputId": "18189999-2aec-4ac8-bf0e-7b1786cdd7ca"
      },
      "source": [
        "fList = glob.glob('images/ขนมจีน/*')\n",
        "fList[0]"
      ],
      "execution_count": null,
      "outputs": [
        {
          "output_type": "execute_result",
          "data": {
            "application/vnd.google.colaboratory.intrinsic+json": {
              "type": "string"
            },
            "text/plain": [
              "'images/ขนมจีน/21.p'"
            ]
          },
          "metadata": {
            "tags": []
          },
          "execution_count": 128
        }
      ]
    },
    {
      "cell_type": "code",
      "metadata": {
        "id": "L9nP3m3qt9N1"
      },
      "source": [
        "import pickle\n",
        "filename = fList[0]\n",
        "res = pickle.load(open(filename,'rb'))"
      ],
      "execution_count": null,
      "outputs": []
    },
    {
      "cell_type": "code",
      "metadata": {
        "colab": {
          "base_uri": "https://localhost:8080/"
        },
        "id": "pZxOuKsvuG_4",
        "outputId": "ab668af5-e9eb-4890-8d8b-11c7b2dc52eb"
      },
      "source": [
        ""
      ],
      "execution_count": null,
      "outputs": [
        {
          "output_type": "execute_result",
          "data": {
            "text/plain": [
              "array([4.90727655e-06, 1.13329108e-03, 4.57116290e-06, 7.27665626e-06,\n",
              "       4.99355635e-06, 3.70229239e-06, 4.70602727e-06, 3.47007640e-06,\n",
              "       1.31863088e-06, 1.36134393e-06, 2.39350216e-06, 3.80205070e-06,\n",
              "       4.30733641e-07, 1.84573507e-06, 2.96527880e-06, 2.74023091e-06,\n",
              "       1.68150676e-06, 3.03332379e-06, 2.15663846e-06, 3.34542662e-07,\n",
              "       1.65953610e-08, 1.58048996e-06, 3.52245920e-07, 5.72234872e-07,\n",
              "       1.49024536e-06, 6.05868932e-06, 3.38461430e-06, 1.91034039e-06,\n",
              "       9.14056827e-06, 2.34582708e-06, 1.43440203e-06, 3.86113256e-06,\n",
              "       6.66049754e-08, 6.92506576e-07, 1.58168651e-05, 1.82327413e-07,\n",
              "       1.43137746e-05, 1.94670458e-05, 2.21500573e-05, 6.26554519e-06,\n",
              "       1.57653306e-05, 4.63906020e-07, 2.99728694e-06, 3.90490085e-07,\n",
              "       5.11034217e-06, 1.44068522e-04, 5.82957973e-06, 9.07426329e-06,\n",
              "       6.02260950e-06, 4.58626417e-07, 2.37259166e-06, 7.20017782e-06,\n",
              "       2.26149575e-06, 4.64136822e-06, 4.87411916e-06, 2.04135610e-04,\n",
              "       3.06493673e-05, 4.68345076e-07, 9.21915861e-06, 2.38416322e-05,\n",
              "       4.10228509e-05, 2.07424048e-04, 6.78544251e-04, 5.26542894e-07,\n",
              "       1.55997837e-05, 4.76313596e-06, 7.99952914e-06, 1.38361848e-06,\n",
              "       1.88242704e-05, 5.24522350e-06, 1.71528254e-07, 8.65837556e-06,\n",
              "       2.21507642e-06, 3.01613474e-06, 1.10389915e-05, 2.89313036e-05,\n",
              "       3.77891575e-04, 3.38862588e-04, 1.51738015e-06, 7.42312268e-07,\n",
              "       5.84428940e-07, 4.79694668e-06, 5.20277255e-06, 1.29977913e-06,\n",
              "       1.93707275e-03, 6.94497931e-07, 2.92079626e-06, 1.59760438e-05,\n",
              "       5.68082612e-04, 5.45313193e-05, 5.24372097e-05, 2.02521506e-06,\n",
              "       1.68934518e-05, 5.22951018e-06, 6.16734233e-06, 6.59349399e-06,\n",
              "       6.27564309e-04, 2.83389066e-06, 3.98529560e-07, 6.75211033e-07,\n",
              "       1.10654998e-07, 1.28078063e-06, 1.32613826e-06, 9.48037190e-06,\n",
              "       2.93889102e-06, 2.08951616e-06, 3.04784242e-06, 1.62681657e-05,\n",
              "       8.54597903e-06, 3.73782451e-05, 3.45048122e-06, 4.53948632e-07,\n",
              "       3.99213919e-05, 3.41418011e-06, 2.97049366e-07, 4.69925540e-06,\n",
              "       8.97576223e-07, 9.06210883e-05, 4.68768030e-06, 4.64913836e-06,\n",
              "       3.06005892e-07, 1.07222839e-06, 1.73759080e-06, 4.40629579e-07,\n",
              "       5.65976557e-07, 1.90051133e-06, 4.67427671e-07, 3.84079914e-07,\n",
              "       3.59568265e-07, 2.71557105e-06, 2.57781762e-06, 3.21631921e-06,\n",
              "       3.05717010e-06, 1.41715145e-06, 2.72119777e-07, 1.79770337e-07,\n",
              "       2.25369871e-07, 1.43949781e-07, 1.12903027e-05, 2.23447934e-06,\n",
              "       9.56924426e-06, 2.09813947e-07, 3.84493330e-07, 7.14919192e-07,\n",
              "       2.32526869e-06, 9.10379932e-07, 1.50395519e-07, 1.35991594e-07,\n",
              "       2.50310689e-06, 7.46590897e-06, 6.62601097e-07, 3.03217992e-05,\n",
              "       7.32515384e-07, 2.80640960e-06, 3.77163139e-06, 3.97827833e-05,\n",
              "       4.43621160e-05, 1.11406490e-05, 5.75027312e-06, 2.62262692e-07,\n",
              "       1.74988915e-05, 1.00811975e-06, 3.85754626e-05, 2.50354137e-06,\n",
              "       1.45561776e-05, 6.74205667e-06, 1.24134492e-05, 2.27788369e-06,\n",
              "       1.65494820e-06, 7.97691804e-06, 2.16323914e-05, 3.85176383e-05,\n",
              "       6.08498753e-05, 4.16422302e-06, 5.46398057e-07, 7.11869520e-08,\n",
              "       1.41104506e-06, 2.99349348e-06, 6.06418621e-06, 2.90925377e-06,\n",
              "       2.93662154e-06, 6.95050947e-06, 4.04090987e-04, 4.78466337e-05,\n",
              "       8.87207606e-06, 1.35489722e-05, 1.65283932e-06, 1.58001147e-05,\n",
              "       1.43932215e-05, 8.83431901e-06, 9.16795075e-07, 4.97589377e-05,\n",
              "       4.11943692e-05, 7.58120907e-06, 2.60811305e-07, 5.38247256e-05,\n",
              "       3.56603956e-06, 4.35855529e-05, 6.16432604e-06, 3.96143080e-05,\n",
              "       1.15041276e-05, 2.25099455e-05, 2.83775929e-05, 1.74173094e-05,\n",
              "       4.33995642e-05, 1.36875974e-05, 1.49961158e-05, 3.25597169e-05,\n",
              "       7.67085199e-06, 1.56905228e-04, 1.21456016e-05, 3.55540905e-05,\n",
              "       2.59458783e-05, 3.41530603e-05, 2.32716777e-04, 2.04472376e-05,\n",
              "       4.59999471e-06, 1.36192461e-04, 7.49271446e-06, 1.07419879e-04,\n",
              "       3.37587657e-07, 1.58137436e-05, 2.27813552e-06, 2.04561120e-05,\n",
              "       5.87199147e-06, 2.48289609e-04, 9.88924988e-06, 1.00172704e-05,\n",
              "       2.03508315e-06, 8.22311884e-06, 7.77067213e-06, 1.84142155e-05,\n",
              "       7.83116243e-06, 6.08232658e-06, 2.77635909e-05, 5.00560984e-06,\n",
              "       1.35596365e-05, 2.70343169e-04, 5.74222589e-05, 1.97854892e-05,\n",
              "       1.27533410e-05, 2.02627674e-05, 7.62694986e-05, 4.63505176e-06,\n",
              "       1.77234079e-07, 3.79704149e-05, 1.06479323e-05, 1.08635391e-03,\n",
              "       6.95326753e-06, 1.28021205e-05, 5.82902706e-05, 2.32000605e-04,\n",
              "       3.64159075e-05, 1.71761520e-05, 5.12766840e-04, 8.42329189e-05,\n",
              "       2.55634974e-06, 5.07768692e-06, 4.53297759e-06, 6.65447286e-06,\n",
              "       8.08757871e-07, 1.00445861e-06, 8.74764828e-06, 9.49360726e-06,\n",
              "       2.20470652e-05, 6.82039819e-06, 2.71914963e-06, 1.07765507e-05,\n",
              "       2.44536504e-06, 9.47251241e-07, 2.71240302e-06, 1.40542866e-06,\n",
              "       5.13809918e-06, 2.76385686e-06, 6.86731307e-06, 2.49235438e-06,\n",
              "       1.71832438e-07, 3.16524258e-05, 1.22111349e-06, 4.51731630e-06,\n",
              "       2.68414223e-05, 1.14044606e-05, 5.18150542e-06, 4.52102371e-04,\n",
              "       1.59648412e-04, 1.86959054e-05, 7.19680678e-06, 1.69915517e-06,\n",
              "       3.53321995e-06, 8.83889793e-07, 4.56126013e-06, 1.69352445e-07,\n",
              "       4.64777097e-04, 3.76011929e-07, 8.43321060e-07, 1.38939602e-05,\n",
              "       2.46254617e-07, 7.48671758e-07, 8.00956654e-08, 3.98765650e-07,\n",
              "       1.73202782e-05, 3.46069388e-06, 1.10934324e-06, 2.20554442e-06,\n",
              "       1.42778485e-07, 6.45753701e-07, 3.47908769e-07, 7.10670563e-07,\n",
              "       2.59640077e-06, 1.79672472e-05, 1.54361671e-05, 6.56936061e-06,\n",
              "       1.37139712e-06, 2.78741937e-05, 8.86006516e-05, 6.20755389e-05,\n",
              "       3.67227051e-07, 3.71234548e-07, 1.29860716e-06, 3.03549431e-06,\n",
              "       1.01399476e-06, 9.62880263e-06, 1.84467573e-06, 1.81737020e-05,\n",
              "       1.86370750e-06, 1.00575838e-06, 2.80833545e-07, 2.26246028e-06,\n",
              "       1.54222831e-06, 4.37081774e-07, 6.07164933e-05, 1.28291190e-05,\n",
              "       1.14636932e-05, 2.47797098e-04, 4.19339073e-06, 1.64552197e-07,\n",
              "       1.29345013e-05, 4.24555294e-06, 1.15842546e-05, 2.63790435e-06,\n",
              "       3.66620819e-04, 3.39056546e-06, 4.69833903e-07, 7.18239059e-07,\n",
              "       7.83127081e-07, 6.41074926e-07, 8.74909516e-07, 6.71456496e-07,\n",
              "       9.23162057e-07, 5.68679103e-07, 4.63954472e-06, 6.07318609e-06,\n",
              "       1.04387215e-06, 1.29878048e-06, 9.70839500e-06, 6.76523099e-06,\n",
              "       6.28351517e-06, 5.73836325e-06, 9.31184987e-06, 5.75372137e-05,\n",
              "       4.97868899e-07, 3.71410913e-05, 7.27632517e-07, 2.98523458e-06,\n",
              "       8.19930197e-05, 2.55083016e-05, 1.87685502e-06, 1.08672255e-07,\n",
              "       1.39114018e-06, 7.63869400e-06, 1.89063193e-06, 5.87762219e-06,\n",
              "       3.15091231e-07, 8.61124409e-07, 1.34401231e-05, 2.53044375e-05,\n",
              "       2.45774238e-06, 4.06597870e-06, 4.61701204e-06, 5.50623397e-06,\n",
              "       2.04972864e-06, 2.28431081e-05, 8.35635084e-06, 2.71912539e-05,\n",
              "       2.09381686e-06, 1.51064668e-05, 9.17718700e-07, 2.13914028e-05,\n",
              "       1.54745697e-06, 1.36155175e-06, 1.63310182e-06, 5.69177446e-06,\n",
              "       3.27607098e-05, 1.30743555e-05, 7.48855965e-07, 4.89305084e-06,\n",
              "       3.04648889e-04, 7.73598237e-07, 6.19433342e-04, 5.62159937e-05,\n",
              "       3.19173646e-06, 3.02705576e-06, 2.26053212e-04, 6.41115358e-07,\n",
              "       8.66899310e-06, 4.85699899e-05, 2.37453637e-06, 1.36454038e-04,\n",
              "       4.95167013e-07, 6.37415387e-05, 2.56671108e-05, 4.05903045e-02,\n",
              "       9.65308455e-06, 2.66546103e-04, 1.44833082e-03, 1.01832703e-05,\n",
              "       8.21572003e-06, 8.18180590e-04, 3.88920252e-07, 8.20558003e-04,\n",
              "       1.24630862e-04, 5.50371907e-06, 1.83139588e-06, 7.72351974e-06,\n",
              "       3.57499680e-03, 5.43303867e-05, 1.12417615e-05, 2.05298316e-05,\n",
              "       1.15419354e-06, 1.42009554e-04, 8.53745397e-07, 1.75692590e-05,\n",
              "       3.92052826e-07, 5.66477105e-05, 4.19205755e-05, 4.40200775e-05,\n",
              "       1.52466000e-05, 7.21670039e-05, 4.89176549e-07, 4.03792622e-07,\n",
              "       1.58228381e-05, 2.23622122e-06, 1.19252216e-05, 1.50851773e-01,\n",
              "       1.15386237e-04, 1.21262967e-05, 1.41053918e-04, 8.34854956e-05,\n",
              "       3.73389652e-04, 3.21860656e-05, 8.22002978e-06, 5.91329848e-05,\n",
              "       1.01219487e-04, 3.70691692e-06, 4.93567633e-06, 1.11290160e-04,\n",
              "       9.29438468e-05, 5.02164016e-03, 8.34891132e-06, 4.31416591e-03,\n",
              "       7.43199179e-05, 5.18526461e-05, 1.48799740e-04, 1.99620296e-04,\n",
              "       8.47483841e-04, 3.18395401e-04, 2.11130471e-05, 5.22342406e-06,\n",
              "       2.46678749e-06, 4.14153313e-06, 1.43850218e-06, 3.99093254e-07,\n",
              "       1.41027148e-06, 9.44838838e-05, 3.10297349e-03, 2.72949800e-06,\n",
              "       6.14289439e-04, 2.61465425e-06, 1.40947830e-04, 9.21160429e-07,\n",
              "       5.20293089e-06, 9.79691525e-05, 6.71961597e-06, 5.93334650e-05,\n",
              "       8.62784472e-08, 4.25474403e-05, 1.19582482e-05, 8.02232300e-05,\n",
              "       1.75467873e-05, 7.89511198e-06, 4.45820187e-05, 7.93202137e-07,\n",
              "       5.40488868e-05, 2.71744794e-05, 3.71876458e-06, 1.81614332e-05,\n",
              "       8.10081520e-03, 5.13231351e-05, 2.14534478e-05, 2.54415016e-06,\n",
              "       1.09075238e-05, 2.60276272e-04, 2.03503666e-04, 2.26074328e-06,\n",
              "       1.22146637e-04, 1.18755690e-05, 5.79470168e-05, 4.21973517e-06,\n",
              "       1.89093058e-05, 6.43766370e-05, 1.13752683e-04, 1.22170585e-05,\n",
              "       5.02799136e-06, 9.18290047e-06, 2.26198893e-05, 1.39832024e-04,\n",
              "       1.23702552e-05, 2.72150706e-05, 7.11681290e-03, 5.54492083e-05,\n",
              "       5.91147542e-04, 4.88181767e-06, 6.34395909e-05, 2.00767425e-05,\n",
              "       3.38558618e-06, 9.84964407e-06, 1.44689150e-05, 9.03656731e-06,\n",
              "       2.01683288e-06, 3.46826038e-04, 3.03286104e-04, 1.55659451e-05,\n",
              "       2.00669046e-05, 7.53716304e-04, 4.89736925e-06, 4.47400318e-07,\n",
              "       6.02124819e-06, 4.32871126e-06, 5.54660997e-06, 2.20876399e-05,\n",
              "       1.98467677e-06, 2.13945551e-04, 3.08270550e-04, 9.86386263e-05,\n",
              "       2.97138774e-06, 5.56150778e-05, 4.80159975e-04, 7.46791003e-06,\n",
              "       5.01011582e-07, 4.23372145e-03, 1.57503157e-07, 1.61392261e-05,\n",
              "       7.41059683e-03, 4.01727500e-06, 7.79541436e-07, 9.71635175e-06,\n",
              "       9.14769840e-03, 2.42723308e-04, 5.09416817e-06, 5.11657283e-05,\n",
              "       1.07550879e-04, 2.82702341e-06, 5.78341430e-06, 1.86064087e-06,\n",
              "       6.61228121e-05, 1.61527824e-04, 2.12201043e-06, 5.26151912e-05,\n",
              "       8.15193636e-05, 5.70085471e-05, 3.72288998e-05, 1.25719609e-07,\n",
              "       1.10948659e-05, 9.11470677e-06, 1.33234606e-06, 8.20460034e-06,\n",
              "       1.97325304e-06, 7.59378138e-05, 1.48617660e-03, 8.69287692e-06,\n",
              "       4.70529403e-05, 2.15641517e-05, 7.74355902e-06, 9.87589162e-07,\n",
              "       3.30245228e-03, 4.66344815e-05, 2.44151541e-06, 7.20006774e-06,\n",
              "       2.81803349e-04, 1.34914194e-04, 1.09255173e-06, 4.21613975e-02,\n",
              "       2.44119403e-06, 5.47601914e-04, 2.69021452e-06, 5.09613605e-06,\n",
              "       1.69868442e-05, 2.07455293e-04, 1.15778974e-06, 1.48658185e-04,\n",
              "       5.97338525e-05, 3.66719259e-05, 5.10212228e-06, 1.97152454e-06,\n",
              "       8.40957051e-06, 6.41193610e-05, 9.61671274e-04, 2.14075116e-06,\n",
              "       3.05497106e-03, 2.66466935e-05, 1.57651728e-04, 1.87868984e-02,\n",
              "       3.34200954e-06, 1.68036069e-04, 1.12357769e-03, 1.13368117e-04,\n",
              "       3.87170266e-03, 1.06871465e-04, 7.70797265e-04, 5.18242724e-05,\n",
              "       2.98289088e-03, 7.63301502e-06, 1.03267293e-05, 8.28512056e-05,\n",
              "       2.96172181e-07, 1.15038200e-05, 2.77441624e-05, 2.15826574e-06,\n",
              "       1.19005280e-04, 3.91014615e-06, 6.10575093e-05, 2.67218797e-04,\n",
              "       6.92911228e-06, 1.26585733e-05, 2.22139326e-06, 1.04979491e-05,\n",
              "       4.55238203e-03, 7.24505606e-05, 4.98437151e-05, 9.30419305e-04,\n",
              "       3.23817709e-06, 1.66398488e-03, 3.51522403e-05, 1.88552816e-05,\n",
              "       1.49192431e-05, 4.91577811e-04, 8.31635065e-04, 5.94911494e-05,\n",
              "       2.90963377e-06, 2.81049674e-06, 1.06152043e-05, 1.79544175e-05,\n",
              "       6.92638739e-05, 5.91476814e-06, 1.30956270e-04, 8.55260365e-05,\n",
              "       1.31110532e-05, 1.15835579e-05, 4.96082967e-04, 2.31772384e-04,\n",
              "       1.13855839e-05, 1.23070487e-06, 9.95926822e-06, 5.82818449e-06,\n",
              "       2.27076502e-04, 1.71817375e-05, 9.07467044e-06, 1.40259881e-05,\n",
              "       4.49722394e-05, 4.22283171e-03, 2.35985219e-05, 9.69414297e-05,\n",
              "       2.93351322e-05, 9.63866514e-05, 7.46914149e-08, 1.25348972e-05,\n",
              "       1.44603770e-05, 2.38452113e-06, 3.88714298e-06, 1.43938464e-04,\n",
              "       1.77145388e-05, 2.13807039e-06, 3.17509228e-05, 1.68919694e-05,\n",
              "       1.67187064e-05, 6.79682802e-06, 1.12645764e-07, 2.61615437e-05,\n",
              "       9.45407007e-06, 4.72174164e-05, 4.47714689e-06, 9.32196149e-06,\n",
              "       1.51016658e-04, 9.06212120e-06, 7.74765492e-07, 8.58139156e-04,\n",
              "       6.92091664e-04, 4.90833386e-04, 1.15999080e-05, 1.27006116e-04,\n",
              "       9.07050033e-04, 4.26130239e-04, 3.15552676e-06, 3.00050041e-05,\n",
              "       3.16420451e-05, 2.21989936e-05, 9.84369578e-05, 2.17818151e-05,\n",
              "       1.36026282e-06, 1.22745869e-03, 6.58742898e-06, 7.68221371e-06,\n",
              "       1.51289793e-06, 8.24632483e-06, 7.83586123e-06, 2.06222718e-07,\n",
              "       7.29098344e-04, 1.27438447e-07, 5.54553904e-07, 3.62822932e-06,\n",
              "       3.07102674e-06, 2.31037724e-02, 3.00509395e-05, 2.16082800e-04,\n",
              "       6.53974352e-06, 2.75670461e-06, 4.94389471e-07, 2.00059287e-05,\n",
              "       8.93651630e-05, 3.00668606e-06, 6.38797040e-06, 2.75950897e-04,\n",
              "       4.30601466e-05, 4.04789691e-05, 2.35197390e-06, 3.58610658e-03,\n",
              "       6.92519460e-06, 1.30097361e-04, 1.30975811e-05, 7.13526619e-06,\n",
              "       4.04888522e-05, 3.42408850e-03, 2.23877646e-05, 1.02149986e-05,\n",
              "       1.03097361e-05, 1.92403941e-07, 1.35138322e-05, 2.77584174e-04,\n",
              "       2.87757401e-04, 1.65411025e-04, 1.27515802e-01, 7.73602661e-05,\n",
              "       1.00527564e-05, 4.36103957e-04, 8.15241721e-07, 2.89201458e-06,\n",
              "       3.09870929e-05, 6.37859934e-05, 2.82283976e-06, 5.54838009e-05,\n",
              "       6.41737712e-06, 7.85191934e-05, 4.05838356e-05, 1.25315277e-05,\n",
              "       6.14402234e-05, 2.21042455e-05, 4.29767745e-07, 2.10065301e-06,\n",
              "       1.06270513e-04, 5.87600543e-05, 2.82862709e-05, 6.17083948e-07,\n",
              "       4.39669449e-04, 3.61298498e-06, 1.51957998e-04, 4.06023056e-02,\n",
              "       8.86632395e-06, 1.16795750e-05, 1.28701114e-05, 8.35739511e-06,\n",
              "       3.59572601e-06, 1.41348628e-05, 4.48688658e-05, 9.62810840e-07,\n",
              "       1.24731629e-05, 4.24662427e-05, 1.82714012e-05, 1.92008297e-04,\n",
              "       3.08900626e-03, 2.76474660e-05, 3.91571972e-05, 3.91075046e-06,\n",
              "       9.12127634e-05, 2.01927149e-04, 9.76257617e-01, 3.67464746e-04,\n",
              "       2.21958164e-05, 8.90219852e-04, 5.64935263e-07, 1.04514234e-04,\n",
              "       3.11975715e-04, 3.88463223e-05, 2.62263814e-06, 2.31429564e-06,\n",
              "       4.97036091e-06, 3.23191114e-06, 8.73776423e-03, 3.38952926e-05,\n",
              "       8.28653503e-05, 5.94696836e-06, 1.37167836e-06, 9.01542647e-06,\n",
              "       2.33482387e-06, 1.33461353e-04, 3.70747524e-06, 3.03294524e-04,\n",
              "       2.97294679e-04, 9.32231737e-06, 7.99183206e-05, 2.78293180e-06,\n",
              "       9.12842807e-07, 2.69809064e-07, 1.57474127e-04, 1.26994619e-04,\n",
              "       1.96509372e-02, 8.60651501e-05, 1.12089765e-04, 1.97210341e-06,\n",
              "       1.34924762e-04, 1.27660401e-04, 3.50624934e-06, 1.24563849e-04,\n",
              "       2.07108172e-04, 1.94177344e-06, 4.01665271e-04, 3.03525228e-07,\n",
              "       3.68285028e-04, 7.98724967e-04, 5.32365670e-05, 1.39738775e-05,\n",
              "       8.40177571e-05, 1.33649993e-04, 1.87692847e-03, 9.21271178e-05,\n",
              "       5.20155480e-05, 1.75562356e-04, 3.36607318e-06, 3.80481616e-07,\n",
              "       4.39466489e-06, 4.62307283e-05, 8.45988223e-05, 9.07259820e-05,\n",
              "       1.60845551e-05, 2.11183641e-05, 4.90488557e-04, 9.54784932e-06,\n",
              "       2.69181965e-07, 1.01591076e-05, 2.13705339e-04, 4.05714552e-05,\n",
              "       5.78478534e-05, 4.80431359e-04, 2.71089261e-06, 1.87354561e-05,\n",
              "       3.30800293e-05, 3.55001857e-04, 5.81263705e-06, 1.93980883e-05,\n",
              "       3.89352068e-04, 4.41617383e-05, 5.67107696e-06, 6.88751662e-07,\n",
              "       7.72723309e-06, 3.45744799e-06, 6.12542303e-07, 1.03354155e-04,\n",
              "       9.98087668e-05, 2.09393071e-06, 3.45864871e-06, 2.17897862e-03,\n",
              "       2.50386880e-04, 1.03956604e-05, 4.30053395e-04, 2.09484765e-04,\n",
              "       8.02035255e-06, 4.36073402e-03, 1.14871676e-05, 1.26220467e-05,\n",
              "       1.21870237e-05, 8.82819232e-05, 1.07171077e-05, 6.01448998e-07,\n",
              "       4.99682479e-04, 4.11115796e-03, 1.68586067e-03, 7.50713703e-05,\n",
              "       8.27335953e-06, 2.54145246e-05, 2.36224002e-04, 8.17845775e-05,\n",
              "       1.01558632e-05, 2.73070216e-07, 4.28548572e-04, 9.39502063e-06,\n",
              "       1.85746561e-03, 8.57595133e-04, 3.01136652e-02, 3.94485802e-05,\n",
              "       2.69267729e-05, 3.53015201e-06, 6.98069807e-05, 3.64076836e-03,\n",
              "       2.52417214e-05, 2.69272373e-05, 1.85630718e-06, 1.32957586e-05,\n",
              "       3.43132599e-05, 1.28509055e-03, 1.98716268e-05, 3.89091686e-04,\n",
              "       7.03750819e-07, 6.28478856e-05, 1.01258875e-04, 2.81678779e-05,\n",
              "       1.42472367e-06, 1.55108940e-05, 1.54564573e-06, 4.29709802e-06,\n",
              "       5.90243020e-07, 4.17496935e-05, 5.00961687e-06, 1.94443704e-07,\n",
              "       7.10556798e-05, 1.63370534e-07, 4.57250734e-07, 2.11157554e-06,\n",
              "       5.08476152e-06, 1.04989249e-06, 5.97642522e-06, 4.24882182e-06,\n",
              "       5.10464359e-06, 1.08966061e-05, 1.05769059e-05, 7.71271879e-07,\n",
              "       5.27784406e-06, 3.88918249e-06, 3.68317296e-06, 4.60690908e-06,\n",
              "       1.44617892e-06, 2.23683858e-05, 9.53301507e-05, 2.45363341e-05,\n",
              "       2.44428436e-05, 2.17506154e-05, 8.47245318e-05, 8.67467117e-05,\n",
              "       1.50206322e-05, 4.02558951e-06, 1.28449426e-06, 2.29009458e-06,\n",
              "       7.75666734e-07, 8.53061820e-07, 4.24974743e-07, 7.94784307e-06,\n",
              "       8.99090026e-07, 1.14767640e-07, 2.14082305e-04, 4.33409939e-07,\n",
              "       1.60428705e-05, 8.40690067e-06, 1.67920258e-04, 1.60926799e-04,\n",
              "       3.41561847e-05, 4.30249267e-05, 1.59589499e-06, 1.39145601e-04,\n",
              "       1.05772482e-05, 1.96735465e-06, 7.90758778e-05, 8.46819651e-05,\n",
              "       5.78107672e-04, 2.13179935e-06, 2.11205610e-03, 9.03851168e-05,\n",
              "       8.64200892e-06, 1.83809412e-04, 4.63635991e-06, 1.39659366e-05,\n",
              "       1.00939049e-06, 2.06868238e-05, 4.24317678e-06, 2.33611563e-06,\n",
              "       3.17867338e-05, 1.67790576e-06, 6.29440923e-07, 1.98944362e-07,\n",
              "       2.42544904e-06, 7.47097637e-07, 7.31922898e-06, 3.27538679e-03])"
            ]
          },
          "metadata": {
            "tags": []
          },
          "execution_count": 134
        }
      ]
    },
    {
      "cell_type": "code",
      "metadata": {
        "id": "c07oKKDhPZzB"
      },
      "source": [
        "fobj = createdataset()"
      ],
      "execution_count": null,
      "outputs": []
    },
    {
      "cell_type": "code",
      "metadata": {
        "id": "xoFCPbL1jlG6"
      },
      "source": [
        "import glob\n",
        "import pandas as pd\n",
        "import pickle\n",
        "def createdataset():\n",
        "  imgfolder = glob.glob('images/*')\n",
        "  dataset = []\n",
        "  #return imgfolder\n",
        "  for cls in imgfolder:\n",
        "    clsset = pd.DataFrame()\n",
        "    pList = glob.glob(cls+'/*')\n",
        "    #return pList\n",
        "    featvec = []\n",
        "    imgurl = []\n",
        "    for p in pList:\n",
        "      dat = pickle.load(open(p,'rb'))\n",
        "      #return dat\n",
        "      featvec.append(dat.resnet50)\n",
        "      imgurl.append(dat.imgpath)\n",
        "    clsset['feature'] = featvec\n",
        "    clsset['imgurl'] = imgurl\n",
        "    cls = cls.split('/')[-1]\n",
        "    clsset['label'] = cls\n",
        "    dataset.append(clsset)\n",
        "  return pd.concat(dataset,axis=0)"
      ],
      "execution_count": null,
      "outputs": []
    },
    {
      "cell_type": "code",
      "metadata": {
        "id": "wrJx4vOWjpze"
      },
      "source": [
        "dat = createdataset()"
      ],
      "execution_count": null,
      "outputs": []
    },
    {
      "cell_type": "code",
      "metadata": {
        "colab": {
          "base_uri": "https://localhost:8080/",
          "height": 855
        },
        "id": "_E2h08zEQDfH",
        "outputId": "12a61c32-898b-4d04-fc16-400cca7b7741"
      },
      "source": [
        "dat"
      ],
      "execution_count": null,
      "outputs": [
        {
          "output_type": "execute_result",
          "data": {
            "text/html": [
              "<div>\n",
              "<style scoped>\n",
              "    .dataframe tbody tr th:only-of-type {\n",
              "        vertical-align: middle;\n",
              "    }\n",
              "\n",
              "    .dataframe tbody tr th {\n",
              "        vertical-align: top;\n",
              "    }\n",
              "\n",
              "    .dataframe thead th {\n",
              "        text-align: right;\n",
              "    }\n",
              "</style>\n",
              "<table border=\"1\" class=\"dataframe\">\n",
              "  <thead>\n",
              "    <tr style=\"text-align: right;\">\n",
              "      <th></th>\n",
              "      <th>feature</th>\n",
              "      <th>imgurl</th>\n",
              "      <th>label</th>\n",
              "    </tr>\n",
              "  </thead>\n",
              "  <tbody>\n",
              "    <tr>\n",
              "      <th>0</th>\n",
              "      <td>[0.0, 0.0, 0.0028559689940859546, 0.0, 0.0, 0....</td>\n",
              "      <td>https://www.easycookingmenu.com/media/k2/items...</td>\n",
              "      <td>ขนมจีน</td>\n",
              "    </tr>\n",
              "    <tr>\n",
              "      <th>1</th>\n",
              "      <td>[0.0, 0.0, 0.0, 0.0, 0.0, 0.0, 0.0, 0.0, 0.0, ...</td>\n",
              "      <td>https://cheechongruay.smartsme.co.th/media/Bor...</td>\n",
              "      <td>ขนมจีน</td>\n",
              "    </tr>\n",
              "    <tr>\n",
              "      <th>2</th>\n",
              "      <td>[0.0, 0.0, 0.00014411084728194296, 0.0, 0.0, 0...</td>\n",
              "      <td>https://img.wongnai.com/p/1920x0/2018/05/11/98...</td>\n",
              "      <td>ขนมจีน</td>\n",
              "    </tr>\n",
              "    <tr>\n",
              "      <th>3</th>\n",
              "      <td>[0.0, 0.0, 0.0, 0.0, 0.0, 0.0, 0.0, 0.0, 0.0, ...</td>\n",
              "      <td>https://www.cpbrandsite.com/contents/recipe/h8...</td>\n",
              "      <td>ขนมจีน</td>\n",
              "    </tr>\n",
              "    <tr>\n",
              "      <th>4</th>\n",
              "      <td>[0.0, 0.0, 0.012909938921820407, 0.0, 0.0, 0.0...</td>\n",
              "      <td>https://d1sag4ddilekf6.cloudfront.net/compress...</td>\n",
              "      <td>ขนมจีน</td>\n",
              "    </tr>\n",
              "    <tr>\n",
              "      <th>5</th>\n",
              "      <td>[0.0, 0.0, 0.0, 0.0, 0.0, 0.0, 0.0, 0.0, 0.0, ...</td>\n",
              "      <td>https://f.ptcdn.info/734/067/000/q46izu1fjnXR1...</td>\n",
              "      <td>ขนมจีน</td>\n",
              "    </tr>\n",
              "    <tr>\n",
              "      <th>6</th>\n",
              "      <td>[0.0, 0.0, 0.0, 0.0, 0.0, 0.0, 0.0, 0.0, 0.0, ...</td>\n",
              "      <td>https://i.pinimg.com/originals/8f/c1/6a/8fc16a...</td>\n",
              "      <td>ขนมจีน</td>\n",
              "    </tr>\n",
              "    <tr>\n",
              "      <th>7</th>\n",
              "      <td>[0.0, 0.001142828120468881, 0.0035160745469442...</td>\n",
              "      <td>https://s3.ap-southeast-1.amazonaws.com/asset....</td>\n",
              "      <td>ขนมจีน</td>\n",
              "    </tr>\n",
              "    <tr>\n",
              "      <th>8</th>\n",
              "      <td>[0.0, 0.0, 0.0, 0.0, 0.0, 0.0, 0.0, 0.0, 0.0, ...</td>\n",
              "      <td>https://images.thaiza.com/content/b/341322.jpg</td>\n",
              "      <td>ขนมจีน</td>\n",
              "    </tr>\n",
              "    <tr>\n",
              "      <th>9</th>\n",
              "      <td>[0.0, 0.0, 0.0, 0.0, 0.0, 0.0, 0.0, 0.0, 0.0, ...</td>\n",
              "      <td>https://content.shopback.com/th/wp-content/upl...</td>\n",
              "      <td>ขนมจีน</td>\n",
              "    </tr>\n",
              "    <tr>\n",
              "      <th>10</th>\n",
              "      <td>[0.0, 0.0, 0.019025759188003817, 0.0, 0.0, 0.0...</td>\n",
              "      <td>https://i.ytimg.com/vi/dBDIh66DWZY/maxresdefau...</td>\n",
              "      <td>ขนมจีน</td>\n",
              "    </tr>\n",
              "    <tr>\n",
              "      <th>11</th>\n",
              "      <td>[0.0, 0.0, 0.0015371830022012007, 0.0, 0.0, 0....</td>\n",
              "      <td>https://i.ytimg.com/vi/XhzUeuFOm_0/maxresdefau...</td>\n",
              "      <td>ขนมจีน</td>\n",
              "    </tr>\n",
              "    <tr>\n",
              "      <th>12</th>\n",
              "      <td>[0.0, 0.0, 0.0, 0.0, 0.0, 0.0, 0.0, 0.0, 0.0, ...</td>\n",
              "      <td>https://img.kapook.com/u/2017/surauch/cooking/...</td>\n",
              "      <td>ขนมจีน</td>\n",
              "    </tr>\n",
              "    <tr>\n",
              "      <th>13</th>\n",
              "      <td>[0.0, 0.0, 0.0, 0.0, 0.0, 0.0, 0.0, 0.0, 0.0, ...</td>\n",
              "      <td>https://tuemaster.com/wp-content/uploads/2020/...</td>\n",
              "      <td>ขนมจีน</td>\n",
              "    </tr>\n",
              "    <tr>\n",
              "      <th>14</th>\n",
              "      <td>[0.008951662715601206, 0.0, 0.0155737127650824...</td>\n",
              "      <td>https://cdn.gotoknow.org/assets/media/files/00...</td>\n",
              "      <td>ขนมจีน</td>\n",
              "    </tr>\n",
              "    <tr>\n",
              "      <th>15</th>\n",
              "      <td>[0.0, 0.0, 0.0017219946317643048, 0.0, 0.0, 0....</td>\n",
              "      <td>https://www.thairath.co.th/media/dFQROr7oWzulq...</td>\n",
              "      <td>ขนมจีน</td>\n",
              "    </tr>\n",
              "    <tr>\n",
              "      <th>16</th>\n",
              "      <td>[0.0, 0.0, 0.0, 0.0, 0.0, 0.0, 0.0, 0.0, 0.0, ...</td>\n",
              "      <td>https://d12man5gwydfvl.cloudfront.net/wp-conte...</td>\n",
              "      <td>ขนมจีน</td>\n",
              "    </tr>\n",
              "    <tr>\n",
              "      <th>17</th>\n",
              "      <td>[0.0, 0.0, 0.0, 0.0, 0.0, 0.0, 0.0, 0.0, 0.0, ...</td>\n",
              "      <td>https://maebunjong.kiative.com/wp-content/uplo...</td>\n",
              "      <td>ขนมจีน</td>\n",
              "    </tr>\n",
              "    <tr>\n",
              "      <th>18</th>\n",
              "      <td>[0.005298649351379206, 0.0, 0.0018031435136740...</td>\n",
              "      <td>https://pbs.twimg.com/media/DqSBcUTUwAEFgnR.jpg</td>\n",
              "      <td>ขนมจีน</td>\n",
              "    </tr>\n",
              "    <tr>\n",
              "      <th>19</th>\n",
              "      <td>[0.00047270605965495685, 0.0, 0.0, 0.0, 0.0, 0...</td>\n",
              "      <td>https://ungsriwong.s3.ap-southeast-1.amazonaws...</td>\n",
              "      <td>ขนมจีน</td>\n",
              "    </tr>\n",
              "    <tr>\n",
              "      <th>20</th>\n",
              "      <td>[0.002724584773006055, 0.0, 0.0, 0.0, 0.0, 0.0...</td>\n",
              "      <td>https://esan108.com/main/wp-content/uploads/20...</td>\n",
              "      <td>ขนมจีน</td>\n",
              "    </tr>\n",
              "    <tr>\n",
              "      <th>21</th>\n",
              "      <td>[0.008582254303276233, 0.0, 0.0096371288265077...</td>\n",
              "      <td>https://i.pinimg.com/originals/cc/87/24/cc8724...</td>\n",
              "      <td>ขนมจีน</td>\n",
              "    </tr>\n",
              "    <tr>\n",
              "      <th>22</th>\n",
              "      <td>[0.0, 0.0, 0.0, 0.0, 0.0, 0.0, 0.0, 0.0, 0.0, ...</td>\n",
              "      <td>https://www.reviewnowz.com/wp-content/uploads/...</td>\n",
              "      <td>ขนมจีน</td>\n",
              "    </tr>\n",
              "    <tr>\n",
              "      <th>23</th>\n",
              "      <td>[0.0, 0.0, 0.0, 0.0, 0.0, 0.0, 0.0, 0.0, 0.0, ...</td>\n",
              "      <td>https://d1sag4ddilekf6.cloudfront.net/compress...</td>\n",
              "      <td>ขนมจีน</td>\n",
              "    </tr>\n",
              "    <tr>\n",
              "      <th>24</th>\n",
              "      <td>[0.0, 0.0034715177453499336, 0.000269742007853...</td>\n",
              "      <td>https://www.ryoiireview.com/upload/article/201...</td>\n",
              "      <td>ขนมจีน</td>\n",
              "    </tr>\n",
              "    <tr>\n",
              "      <th>25</th>\n",
              "      <td>[0.0, 0.0, 0.0, 0.0, 0.0, 0.0, 0.0, 0.0, 0.0, ...</td>\n",
              "      <td>https://www.thai-thaifood.com/bilder/4382c.jpg</td>\n",
              "      <td>ขนมจีน</td>\n",
              "    </tr>\n",
              "  </tbody>\n",
              "</table>\n",
              "</div>"
            ],
            "text/plain": [
              "                                              feature  ...   label\n",
              "0   [0.0, 0.0, 0.0028559689940859546, 0.0, 0.0, 0....  ...  ขนมจีน\n",
              "1   [0.0, 0.0, 0.0, 0.0, 0.0, 0.0, 0.0, 0.0, 0.0, ...  ...  ขนมจีน\n",
              "2   [0.0, 0.0, 0.00014411084728194296, 0.0, 0.0, 0...  ...  ขนมจีน\n",
              "3   [0.0, 0.0, 0.0, 0.0, 0.0, 0.0, 0.0, 0.0, 0.0, ...  ...  ขนมจีน\n",
              "4   [0.0, 0.0, 0.012909938921820407, 0.0, 0.0, 0.0...  ...  ขนมจีน\n",
              "5   [0.0, 0.0, 0.0, 0.0, 0.0, 0.0, 0.0, 0.0, 0.0, ...  ...  ขนมจีน\n",
              "6   [0.0, 0.0, 0.0, 0.0, 0.0, 0.0, 0.0, 0.0, 0.0, ...  ...  ขนมจีน\n",
              "7   [0.0, 0.001142828120468881, 0.0035160745469442...  ...  ขนมจีน\n",
              "8   [0.0, 0.0, 0.0, 0.0, 0.0, 0.0, 0.0, 0.0, 0.0, ...  ...  ขนมจีน\n",
              "9   [0.0, 0.0, 0.0, 0.0, 0.0, 0.0, 0.0, 0.0, 0.0, ...  ...  ขนมจีน\n",
              "10  [0.0, 0.0, 0.019025759188003817, 0.0, 0.0, 0.0...  ...  ขนมจีน\n",
              "11  [0.0, 0.0, 0.0015371830022012007, 0.0, 0.0, 0....  ...  ขนมจีน\n",
              "12  [0.0, 0.0, 0.0, 0.0, 0.0, 0.0, 0.0, 0.0, 0.0, ...  ...  ขนมจีน\n",
              "13  [0.0, 0.0, 0.0, 0.0, 0.0, 0.0, 0.0, 0.0, 0.0, ...  ...  ขนมจีน\n",
              "14  [0.008951662715601206, 0.0, 0.0155737127650824...  ...  ขนมจีน\n",
              "15  [0.0, 0.0, 0.0017219946317643048, 0.0, 0.0, 0....  ...  ขนมจีน\n",
              "16  [0.0, 0.0, 0.0, 0.0, 0.0, 0.0, 0.0, 0.0, 0.0, ...  ...  ขนมจีน\n",
              "17  [0.0, 0.0, 0.0, 0.0, 0.0, 0.0, 0.0, 0.0, 0.0, ...  ...  ขนมจีน\n",
              "18  [0.005298649351379206, 0.0, 0.0018031435136740...  ...  ขนมจีน\n",
              "19  [0.00047270605965495685, 0.0, 0.0, 0.0, 0.0, 0...  ...  ขนมจีน\n",
              "20  [0.002724584773006055, 0.0, 0.0, 0.0, 0.0, 0.0...  ...  ขนมจีน\n",
              "21  [0.008582254303276233, 0.0, 0.0096371288265077...  ...  ขนมจีน\n",
              "22  [0.0, 0.0, 0.0, 0.0, 0.0, 0.0, 0.0, 0.0, 0.0, ...  ...  ขนมจีน\n",
              "23  [0.0, 0.0, 0.0, 0.0, 0.0, 0.0, 0.0, 0.0, 0.0, ...  ...  ขนมจีน\n",
              "24  [0.0, 0.0034715177453499336, 0.000269742007853...  ...  ขนมจีน\n",
              "25  [0.0, 0.0, 0.0, 0.0, 0.0, 0.0, 0.0, 0.0, 0.0, ...  ...  ขนมจีน\n",
              "\n",
              "[26 rows x 3 columns]"
            ]
          },
          "metadata": {
            "tags": []
          },
          "execution_count": 162
        }
      ]
    },
    {
      "cell_type": "code",
      "metadata": {
        "id": "XHoCeCwtkPZO"
      },
      "source": [
        "import numpy as np"
      ],
      "execution_count": null,
      "outputs": []
    },
    {
      "cell_type": "code",
      "metadata": {
        "id": "wIOM17I3jwXp"
      },
      "source": [
        "feat = np.vstack(dat['feature'])"
      ],
      "execution_count": null,
      "outputs": []
    },
    {
      "cell_type": "code",
      "metadata": {
        "colab": {
          "base_uri": "https://localhost:8080/"
        },
        "id": "udfvL_CuvWKP",
        "outputId": "cad5c06b-1068-4fa5-b091-2c66a6cf3f65"
      },
      "source": [
        ""
      ],
      "execution_count": null,
      "outputs": [
        {
          "output_type": "execute_result",
          "data": {
            "text/plain": [
              "array([[0.        , 0.        , 0.00285597, ..., 0.        , 0.00481791,\n",
              "        0.        ],\n",
              "       [0.        , 0.        , 0.        , ..., 0.        , 0.        ,\n",
              "        0.        ],\n",
              "       [0.        , 0.        , 0.00014411, ..., 0.        , 0.        ,\n",
              "        0.        ],\n",
              "       ...,\n",
              "       [0.        , 0.        , 0.        , ..., 0.        , 0.        ,\n",
              "        0.00053056],\n",
              "       [0.        , 0.00347152, 0.00026974, ..., 0.        , 0.00093206,\n",
              "        0.        ],\n",
              "       [0.        , 0.        , 0.        , ..., 0.        , 0.        ,\n",
              "        0.01449322]])"
            ]
          },
          "metadata": {
            "tags": []
          },
          "execution_count": 140
        }
      ]
    },
    {
      "cell_type": "code",
      "metadata": {
        "id": "dC1hY6BAvoyW"
      },
      "source": [
        "a = np.array([1,2,3,4])\n",
        "b = np.array([2,3,3,4])\n",
        "c = np.array([8,9,3,4])"
      ],
      "execution_count": null,
      "outputs": []
    },
    {
      "cell_type": "code",
      "metadata": {
        "colab": {
          "base_uri": "https://localhost:8080/",
          "height": 164
        },
        "id": "Dj25TleUvwOH",
        "outputId": "8b3e5184-d02b-46cf-efaf-53d1d8134d2c"
      },
      "source": [
        ""
      ],
      "execution_count": null,
      "outputs": [
        {
          "output_type": "error",
          "ename": "NameError",
          "evalue": "ignored",
          "traceback": [
            "\u001b[0;31m---------------------------------------------------------------------------\u001b[0m",
            "\u001b[0;31mNameError\u001b[0m                                 Traceback (most recent call last)",
            "\u001b[0;32m<ipython-input-160-0b2648d1dcf4>\u001b[0m in \u001b[0;36m<module>\u001b[0;34m()\u001b[0m\n\u001b[0;32m----> 1\u001b[0;31m \u001b[0mfeatmat\u001b[0m\u001b[0;34m\u001b[0m\u001b[0;34m\u001b[0m\u001b[0m\n\u001b[0m",
            "\u001b[0;31mNameError\u001b[0m: name 'featmat' is not defined"
          ]
        }
      ]
    },
    {
      "cell_type": "code",
      "metadata": {
        "colab": {
          "base_uri": "https://localhost:8080/"
        },
        "id": "-LCP9uQNwpLe",
        "outputId": "cce03fb8-8306-4de8-cc8e-70a2345f5141"
      },
      "source": [
        "caldistance(a,c)"
      ],
      "execution_count": null,
      "outputs": [
        {
          "output_type": "execute_result",
          "data": {
            "text/plain": [
              "9.899494936611665"
            ]
          },
          "metadata": {
            "tags": []
          },
          "execution_count": 159
        }
      ]
    },
    {
      "cell_type": "code",
      "metadata": {
        "id": "9QDIEsgxkLRc"
      },
      "source": [
        "def getsearchresult(imgurl):\n",
        "  a = cv.image(imgurl)\n",
        "  queryfeat = a.getresnet50()\n",
        "  rawresult = calsim(queryfeat,dat)\n",
        "  return rawresult['imgurl'].values\n",
        "  #return queryfeat\n",
        "  #resList = calsim(queryfeat,feat)\n",
        "  #return resList"
      ],
      "execution_count": null,
      "outputs": []
    },
    {
      "cell_type": "code",
      "metadata": {
        "id": "HDhtZzcOQ6Hw"
      },
      "source": [
        "def calsim(queryfeat,featmat):\n",
        "  udistanceList = []\n",
        "  for i in range(len(featmat)):\n",
        "    #print(i)\n",
        "    dbimage = featmat.iloc[i]['feature']\n",
        "    udistance = np.sqrt(np.sum((queryfeat-dbimage)**2))\n",
        "    udistanceList.append(udistance)\n",
        "    #return udistance\n",
        "  featmat['distancetoquery'] = udistanceList\n",
        "  featmat = featmat.sort_values(by='distancetoquery')\n",
        "  return featmat"
      ],
      "execution_count": null,
      "outputs": []
    },
    {
      "cell_type": "code",
      "metadata": {
        "colab": {
          "base_uri": "https://localhost:8080/",
          "height": 855
        },
        "id": "_RGiTcTHxhIj",
        "outputId": "bdda9c14-4f3f-461d-a7ec-bf6bd541ab01"
      },
      "source": [
        "dat.sort_values(by='distancetoquery')"
      ],
      "execution_count": null,
      "outputs": [
        {
          "output_type": "execute_result",
          "data": {
            "text/html": [
              "<div>\n",
              "<style scoped>\n",
              "    .dataframe tbody tr th:only-of-type {\n",
              "        vertical-align: middle;\n",
              "    }\n",
              "\n",
              "    .dataframe tbody tr th {\n",
              "        vertical-align: top;\n",
              "    }\n",
              "\n",
              "    .dataframe thead th {\n",
              "        text-align: right;\n",
              "    }\n",
              "</style>\n",
              "<table border=\"1\" class=\"dataframe\">\n",
              "  <thead>\n",
              "    <tr style=\"text-align: right;\">\n",
              "      <th></th>\n",
              "      <th>feature</th>\n",
              "      <th>imgurl</th>\n",
              "      <th>label</th>\n",
              "      <th>distancetoquery</th>\n",
              "    </tr>\n",
              "  </thead>\n",
              "  <tbody>\n",
              "    <tr>\n",
              "      <th>8</th>\n",
              "      <td>[0.0, 0.0, 0.0, 0.0, 0.0, 0.0, 0.0, 0.0, 0.0, ...</td>\n",
              "      <td>https://images.thaiza.com/content/b/341322.jpg</td>\n",
              "      <td>ขนมจีน</td>\n",
              "      <td>0.000000</td>\n",
              "    </tr>\n",
              "    <tr>\n",
              "      <th>11</th>\n",
              "      <td>[0.0, 0.0, 0.0015371830022012007, 0.0, 0.0, 0....</td>\n",
              "      <td>https://i.ytimg.com/vi/XhzUeuFOm_0/maxresdefau...</td>\n",
              "      <td>ขนมจีน</td>\n",
              "      <td>1.046370</td>\n",
              "    </tr>\n",
              "    <tr>\n",
              "      <th>1</th>\n",
              "      <td>[0.0, 0.0, 0.0, 0.0, 0.0, 0.0, 0.0, 0.0, 0.0, ...</td>\n",
              "      <td>https://cheechongruay.smartsme.co.th/media/Bor...</td>\n",
              "      <td>ขนมจีน</td>\n",
              "      <td>1.184075</td>\n",
              "    </tr>\n",
              "    <tr>\n",
              "      <th>9</th>\n",
              "      <td>[0.0, 0.0, 0.0, 0.0, 0.0, 0.0, 0.0, 0.0, 0.0, ...</td>\n",
              "      <td>https://content.shopback.com/th/wp-content/upl...</td>\n",
              "      <td>ขนมจีน</td>\n",
              "      <td>1.187154</td>\n",
              "    </tr>\n",
              "    <tr>\n",
              "      <th>18</th>\n",
              "      <td>[0.005298649351379206, 0.0, 0.0018031435136740...</td>\n",
              "      <td>https://pbs.twimg.com/media/DqSBcUTUwAEFgnR.jpg</td>\n",
              "      <td>ขนมจีน</td>\n",
              "      <td>1.200734</td>\n",
              "    </tr>\n",
              "    <tr>\n",
              "      <th>19</th>\n",
              "      <td>[0.00047270605965495685, 0.0, 0.0, 0.0, 0.0, 0...</td>\n",
              "      <td>https://ungsriwong.s3.ap-southeast-1.amazonaws...</td>\n",
              "      <td>ขนมจีน</td>\n",
              "      <td>1.210849</td>\n",
              "    </tr>\n",
              "    <tr>\n",
              "      <th>6</th>\n",
              "      <td>[0.0, 0.0, 0.0, 0.0, 0.0, 0.0, 0.0, 0.0, 0.0, ...</td>\n",
              "      <td>https://i.pinimg.com/originals/8f/c1/6a/8fc16a...</td>\n",
              "      <td>ขนมจีน</td>\n",
              "      <td>1.231751</td>\n",
              "    </tr>\n",
              "    <tr>\n",
              "      <th>12</th>\n",
              "      <td>[0.0, 0.0, 0.0, 0.0, 0.0, 0.0, 0.0, 0.0, 0.0, ...</td>\n",
              "      <td>https://img.kapook.com/u/2017/surauch/cooking/...</td>\n",
              "      <td>ขนมจีน</td>\n",
              "      <td>1.232650</td>\n",
              "    </tr>\n",
              "    <tr>\n",
              "      <th>23</th>\n",
              "      <td>[0.0, 0.0, 0.0, 0.0, 0.0, 0.0, 0.0, 0.0, 0.0, ...</td>\n",
              "      <td>https://d1sag4ddilekf6.cloudfront.net/compress...</td>\n",
              "      <td>ขนมจีน</td>\n",
              "      <td>1.235714</td>\n",
              "    </tr>\n",
              "    <tr>\n",
              "      <th>2</th>\n",
              "      <td>[0.0, 0.0, 0.00014411084728194296, 0.0, 0.0, 0...</td>\n",
              "      <td>https://img.wongnai.com/p/1920x0/2018/05/11/98...</td>\n",
              "      <td>ขนมจีน</td>\n",
              "      <td>1.237012</td>\n",
              "    </tr>\n",
              "    <tr>\n",
              "      <th>25</th>\n",
              "      <td>[0.0, 0.0, 0.0, 0.0, 0.0, 0.0, 0.0, 0.0, 0.0, ...</td>\n",
              "      <td>https://www.thai-thaifood.com/bilder/4382c.jpg</td>\n",
              "      <td>ขนมจีน</td>\n",
              "      <td>1.243235</td>\n",
              "    </tr>\n",
              "    <tr>\n",
              "      <th>5</th>\n",
              "      <td>[0.0, 0.0, 0.0, 0.0, 0.0, 0.0, 0.0, 0.0, 0.0, ...</td>\n",
              "      <td>https://f.ptcdn.info/734/067/000/q46izu1fjnXR1...</td>\n",
              "      <td>ขนมจีน</td>\n",
              "      <td>1.247908</td>\n",
              "    </tr>\n",
              "    <tr>\n",
              "      <th>16</th>\n",
              "      <td>[0.0, 0.0, 0.0, 0.0, 0.0, 0.0, 0.0, 0.0, 0.0, ...</td>\n",
              "      <td>https://d12man5gwydfvl.cloudfront.net/wp-conte...</td>\n",
              "      <td>ขนมจีน</td>\n",
              "      <td>1.250357</td>\n",
              "    </tr>\n",
              "    <tr>\n",
              "      <th>21</th>\n",
              "      <td>[0.008582254303276233, 0.0, 0.0096371288265077...</td>\n",
              "      <td>https://i.pinimg.com/originals/cc/87/24/cc8724...</td>\n",
              "      <td>ขนมจีน</td>\n",
              "      <td>1.254592</td>\n",
              "    </tr>\n",
              "    <tr>\n",
              "      <th>3</th>\n",
              "      <td>[0.0, 0.0, 0.0, 0.0, 0.0, 0.0, 0.0, 0.0, 0.0, ...</td>\n",
              "      <td>https://www.cpbrandsite.com/contents/recipe/h8...</td>\n",
              "      <td>ขนมจีน</td>\n",
              "      <td>1.261801</td>\n",
              "    </tr>\n",
              "    <tr>\n",
              "      <th>0</th>\n",
              "      <td>[0.0, 0.0, 0.0028559689940859546, 0.0, 0.0, 0....</td>\n",
              "      <td>https://www.easycookingmenu.com/media/k2/items...</td>\n",
              "      <td>ขนมจีน</td>\n",
              "      <td>1.266590</td>\n",
              "    </tr>\n",
              "    <tr>\n",
              "      <th>10</th>\n",
              "      <td>[0.0, 0.0, 0.019025759188003817, 0.0, 0.0, 0.0...</td>\n",
              "      <td>https://i.ytimg.com/vi/dBDIh66DWZY/maxresdefau...</td>\n",
              "      <td>ขนมจีน</td>\n",
              "      <td>1.266812</td>\n",
              "    </tr>\n",
              "    <tr>\n",
              "      <th>17</th>\n",
              "      <td>[0.0, 0.0, 0.0, 0.0, 0.0, 0.0, 0.0, 0.0, 0.0, ...</td>\n",
              "      <td>https://maebunjong.kiative.com/wp-content/uplo...</td>\n",
              "      <td>ขนมจีน</td>\n",
              "      <td>1.278466</td>\n",
              "    </tr>\n",
              "    <tr>\n",
              "      <th>20</th>\n",
              "      <td>[0.002724584773006055, 0.0, 0.0, 0.0, 0.0, 0.0...</td>\n",
              "      <td>https://esan108.com/main/wp-content/uploads/20...</td>\n",
              "      <td>ขนมจีน</td>\n",
              "      <td>1.279822</td>\n",
              "    </tr>\n",
              "    <tr>\n",
              "      <th>22</th>\n",
              "      <td>[0.0, 0.0, 0.0, 0.0, 0.0, 0.0, 0.0, 0.0, 0.0, ...</td>\n",
              "      <td>https://www.reviewnowz.com/wp-content/uploads/...</td>\n",
              "      <td>ขนมจีน</td>\n",
              "      <td>1.280367</td>\n",
              "    </tr>\n",
              "    <tr>\n",
              "      <th>7</th>\n",
              "      <td>[0.0, 0.001142828120468881, 0.0035160745469442...</td>\n",
              "      <td>https://s3.ap-southeast-1.amazonaws.com/asset....</td>\n",
              "      <td>ขนมจีน</td>\n",
              "      <td>1.283826</td>\n",
              "    </tr>\n",
              "    <tr>\n",
              "      <th>13</th>\n",
              "      <td>[0.0, 0.0, 0.0, 0.0, 0.0, 0.0, 0.0, 0.0, 0.0, ...</td>\n",
              "      <td>https://tuemaster.com/wp-content/uploads/2020/...</td>\n",
              "      <td>ขนมจีน</td>\n",
              "      <td>1.290891</td>\n",
              "    </tr>\n",
              "    <tr>\n",
              "      <th>15</th>\n",
              "      <td>[0.0, 0.0, 0.0017219946317643048, 0.0, 0.0, 0....</td>\n",
              "      <td>https://www.thairath.co.th/media/dFQROr7oWzulq...</td>\n",
              "      <td>ขนมจีน</td>\n",
              "      <td>1.293935</td>\n",
              "    </tr>\n",
              "    <tr>\n",
              "      <th>4</th>\n",
              "      <td>[0.0, 0.0, 0.012909938921820407, 0.0, 0.0, 0.0...</td>\n",
              "      <td>https://d1sag4ddilekf6.cloudfront.net/compress...</td>\n",
              "      <td>ขนมจีน</td>\n",
              "      <td>1.294413</td>\n",
              "    </tr>\n",
              "    <tr>\n",
              "      <th>14</th>\n",
              "      <td>[0.008951662715601206, 0.0, 0.0155737127650824...</td>\n",
              "      <td>https://cdn.gotoknow.org/assets/media/files/00...</td>\n",
              "      <td>ขนมจีน</td>\n",
              "      <td>1.333325</td>\n",
              "    </tr>\n",
              "    <tr>\n",
              "      <th>24</th>\n",
              "      <td>[0.0, 0.0034715177453499336, 0.000269742007853...</td>\n",
              "      <td>https://www.ryoiireview.com/upload/article/201...</td>\n",
              "      <td>ขนมจีน</td>\n",
              "      <td>1.340518</td>\n",
              "    </tr>\n",
              "  </tbody>\n",
              "</table>\n",
              "</div>"
            ],
            "text/plain": [
              "                                              feature  ... distancetoquery\n",
              "8   [0.0, 0.0, 0.0, 0.0, 0.0, 0.0, 0.0, 0.0, 0.0, ...  ...        0.000000\n",
              "11  [0.0, 0.0, 0.0015371830022012007, 0.0, 0.0, 0....  ...        1.046370\n",
              "1   [0.0, 0.0, 0.0, 0.0, 0.0, 0.0, 0.0, 0.0, 0.0, ...  ...        1.184075\n",
              "9   [0.0, 0.0, 0.0, 0.0, 0.0, 0.0, 0.0, 0.0, 0.0, ...  ...        1.187154\n",
              "18  [0.005298649351379206, 0.0, 0.0018031435136740...  ...        1.200734\n",
              "19  [0.00047270605965495685, 0.0, 0.0, 0.0, 0.0, 0...  ...        1.210849\n",
              "6   [0.0, 0.0, 0.0, 0.0, 0.0, 0.0, 0.0, 0.0, 0.0, ...  ...        1.231751\n",
              "12  [0.0, 0.0, 0.0, 0.0, 0.0, 0.0, 0.0, 0.0, 0.0, ...  ...        1.232650\n",
              "23  [0.0, 0.0, 0.0, 0.0, 0.0, 0.0, 0.0, 0.0, 0.0, ...  ...        1.235714\n",
              "2   [0.0, 0.0, 0.00014411084728194296, 0.0, 0.0, 0...  ...        1.237012\n",
              "25  [0.0, 0.0, 0.0, 0.0, 0.0, 0.0, 0.0, 0.0, 0.0, ...  ...        1.243235\n",
              "5   [0.0, 0.0, 0.0, 0.0, 0.0, 0.0, 0.0, 0.0, 0.0, ...  ...        1.247908\n",
              "16  [0.0, 0.0, 0.0, 0.0, 0.0, 0.0, 0.0, 0.0, 0.0, ...  ...        1.250357\n",
              "21  [0.008582254303276233, 0.0, 0.0096371288265077...  ...        1.254592\n",
              "3   [0.0, 0.0, 0.0, 0.0, 0.0, 0.0, 0.0, 0.0, 0.0, ...  ...        1.261801\n",
              "0   [0.0, 0.0, 0.0028559689940859546, 0.0, 0.0, 0....  ...        1.266590\n",
              "10  [0.0, 0.0, 0.019025759188003817, 0.0, 0.0, 0.0...  ...        1.266812\n",
              "17  [0.0, 0.0, 0.0, 0.0, 0.0, 0.0, 0.0, 0.0, 0.0, ...  ...        1.278466\n",
              "20  [0.002724584773006055, 0.0, 0.0, 0.0, 0.0, 0.0...  ...        1.279822\n",
              "22  [0.0, 0.0, 0.0, 0.0, 0.0, 0.0, 0.0, 0.0, 0.0, ...  ...        1.280367\n",
              "7   [0.0, 0.001142828120468881, 0.0035160745469442...  ...        1.283826\n",
              "13  [0.0, 0.0, 0.0, 0.0, 0.0, 0.0, 0.0, 0.0, 0.0, ...  ...        1.290891\n",
              "15  [0.0, 0.0, 0.0017219946317643048, 0.0, 0.0, 0....  ...        1.293935\n",
              "4   [0.0, 0.0, 0.012909938921820407, 0.0, 0.0, 0.0...  ...        1.294413\n",
              "14  [0.008951662715601206, 0.0, 0.0155737127650824...  ...        1.333325\n",
              "24  [0.0, 0.0034715177453499336, 0.000269742007853...  ...        1.340518\n",
              "\n",
              "[26 rows x 4 columns]"
            ]
          },
          "metadata": {
            "tags": []
          },
          "execution_count": 186
        }
      ]
    },
    {
      "cell_type": "code",
      "metadata": {
        "id": "4r8cskyaRmhp"
      },
      "source": [
        "a = np.array([20,75])\n",
        "b = np.array([30,50])"
      ],
      "execution_count": null,
      "outputs": []
    },
    {
      "cell_type": "code",
      "metadata": {
        "colab": {
          "base_uri": "https://localhost:8080/"
        },
        "id": "ylcz6hpNRsTR",
        "outputId": "01873d3f-8b54-40d5-c556-ceff2d1aa6b1"
      },
      "source": [
        "np.sqrt(np.sum((a-b)**2))"
      ],
      "execution_count": null,
      "outputs": [
        {
          "output_type": "execute_result",
          "data": {
            "text/plain": [
              "26.92582403567252"
            ]
          },
          "metadata": {
            "tags": []
          },
          "execution_count": 202
        }
      ]
    },
    {
      "cell_type": "code",
      "metadata": {
        "id": "85LkuQU6QkNw"
      },
      "source": [
        "simgList = getsearchresult('https://images.thaiza.com/content/b/341322.jpg')"
      ],
      "execution_count": null,
      "outputs": []
    },
    {
      "cell_type": "code",
      "metadata": {
        "colab": {
          "base_uri": "https://localhost:8080/"
        },
        "id": "janQS3ysyCFV",
        "outputId": "aeac087b-2148-401a-e1da-61452a8ba812"
      },
      "source": [
        "simgList"
      ],
      "execution_count": null,
      "outputs": [
        {
          "output_type": "execute_result",
          "data": {
            "text/plain": [
              "array(['https://images.thaiza.com/content/b/341322.jpg',\n",
              "       'https://i.ytimg.com/vi/XhzUeuFOm_0/maxresdefault.jpg',\n",
              "       'https://cheechongruay.smartsme.co.th/media/BorYqhd9Mg2OTmfmeFZduxecrQ6ce14HUE6RhVhAzVeKHZK60TgKC.jpg',\n",
              "       'https://content.shopback.com/th/wp-content/uploads/2019/09/10214654/51.jpg',\n",
              "       'https://pbs.twimg.com/media/DqSBcUTUwAEFgnR.jpg',\n",
              "       'https://ungsriwong.s3.ap-southeast-1.amazonaws.com/wp-content/uploads/2019/06/24123749/SanPaKoi_04.jpg',\n",
              "       'https://i.pinimg.com/originals/8f/c1/6a/8fc16a834fe1d1573f9291dc07396e17.jpg',\n",
              "       'https://img.kapook.com/u/2017/surauch/cooking/c1_29.jpg',\n",
              "       'https://d1sag4ddilekf6.cloudfront.net/compressed/merchants/THGFIST0000026t/hero/upload-photo-Hero_Photo_80a85822eb314fd28295c71e084490e3_1546849219958565625.jpeg',\n",
              "       'https://img.wongnai.com/p/1920x0/2018/05/11/98c4df2edd9d47958aa267b4a9d6a586.jpg',\n",
              "       'https://www.thai-thaifood.com/bilder/4382c.jpg',\n",
              "       'https://f.ptcdn.info/734/067/000/q46izu1fjnXR1MC5BmUo-o.jpg',\n",
              "       'https://d12man5gwydfvl.cloudfront.net/wp-content/uploads/2020/06/HappyFresh-Spicy-Rice-Noodle-Salad-With-Fried-Mackerel-Recipe.jpg',\n",
              "       'https://i.pinimg.com/originals/cc/87/24/cc87241946eebe4953b1d78b8f2a6a1e.jpg',\n",
              "       'https://www.cpbrandsite.com/contents/recipe/h84kygu5qngpv0xdl3tqcomtbuqllzy0tsqqzuzv.jpg',\n",
              "       'https://www.easycookingmenu.com/media/k2/items/cache/8938fc981672a91f27b49fef3a9aa529_XL.jpg',\n",
              "       'https://i.ytimg.com/vi/dBDIh66DWZY/maxresdefault.jpg',\n",
              "       'https://maebunjong.kiative.com/wp-content/uploads/2020/11/91567588_1308658435985934_4773457971675922432_n.png',\n",
              "       'https://esan108.com/main/wp-content/uploads/2016/06/P1110524.jpg',\n",
              "       'https://www.reviewnowz.com/wp-content/uploads/2019/05/Mae-Kim-Sua-1-770x400.jpg',\n",
              "       'https://s3.ap-southeast-1.amazonaws.com/asset.punpro.com/cover-contents/i9105/1590030811905-96687202_3327188027317527_2629218200805441536_o.jpg',\n",
              "       'https://tuemaster.com/wp-content/uploads/2020/07/unnamed-2-512x256.jpg',\n",
              "       'https://www.thairath.co.th/media/dFQROr7oWzulq5FZUEbqG8ecMyoAapCjnxC8dNm2ONsv6FcoPj2iPab8a0XxKTeC57a.jpg',\n",
              "       'https://d1sag4ddilekf6.cloudfront.net/compressed/merchants/3-CYL3VVB1JUE3KE/hero/056cc1d9ee0b4f72aa767cfd3879cbc7_1580117368012534288.jpeg',\n",
              "       'https://cdn.gotoknow.org/assets/media/files/001/388/555/original_20191210120641.jpg',\n",
              "       'https://www.ryoiireview.com/upload/article/201709/1504781762_13e3bd753d35c3e273ebf2b9f4ec07ef.jpg'],\n",
              "      dtype=object)"
            ]
          },
          "metadata": {
            "tags": []
          },
          "execution_count": 184
        }
      ]
    },
    {
      "cell_type": "code",
      "metadata": {
        "colab": {
          "base_uri": "https://localhost:8080/",
          "height": 663
        },
        "id": "bT1noOp6UJh1",
        "outputId": "70c1f7f5-76f5-4be4-80e1-83ebac3a93a9"
      },
      "source": [
        "displayresultthumb(simgList)"
      ],
      "execution_count": null,
      "outputs": [
        {
          "output_type": "display_data",
          "data": {
            "text/html": [
              "\n",
              "  <style>\n",
              "  img {\n",
              "    border: 1px solid #ddd; /* Gray border */\n",
              "    border-radius: 4px;  /* Rounded border */\n",
              "    padding: 5px; /* Some padding */\n",
              "    width: 150px; /* Set a small width */\n",
              "  }\n",
              "\n",
              "  /* Add a hover effect (blue shadow) */\n",
              "  img:hover {\n",
              "    box-shadow: 0 0 2px 1px rgba(0, 140, 186, 0.5);\n",
              "  }\n",
              "  </style>\n",
              "  <body>\n",
              "\n",
              "  <img src=\"https://esan108.com/main/wp-content/uploads/2016/06/P1110524.jpg\"><img src=\"https://www.thai-thaifood.com/bilder/4382c.jpg\"><img src=\"https://www.thairath.co.th/media/dFQROr7oWzulq5FZUEbqG8ecMyoAapCjnxC8dNm2ONsv6FcoPj2iPab8a0XxKTeC57a.jpg\"><img src=\"https://cdn.gotoknow.org/assets/media/files/001/388/555/original_20191210120641.jpg\"><img src=\"https://d1sag4ddilekf6.cloudfront.net/compressed/merchants/THGFIST0000026t/hero/upload-photo-Hero_Photo_80a85822eb314fd28295c71e084490e3_1546849219958565625.jpeg\"><img src=\"https://i.ytimg.com/vi/XhzUeuFOm_0/maxresdefault.jpg\"><img src=\"https://images.thaiza.com/content/b/341322.jpg\"><img src=\"https://maebunjong.kiative.com/wp-content/uploads/2020/11/91567588_1308658435985934_4773457971675922432_n.png\"><img src=\"https://www.cpbrandsite.com/contents/recipe/h84kygu5qngpv0xdl3tqcomtbuqllzy0tsqqzuzv.jpg\"><img src=\"https://i.pinimg.com/originals/8f/c1/6a/8fc16a834fe1d1573f9291dc07396e17.jpg\"><img src=\"https://cheechongruay.smartsme.co.th/media/BorYqhd9Mg2OTmfmeFZduxecrQ6ce14HUE6RhVhAzVeKHZK60TgKC.jpg\"><img src=\"https://img.wongnai.com/p/1920x0/2018/05/11/98c4df2edd9d47958aa267b4a9d6a586.jpg\"><img src=\"https://www.reviewnowz.com/wp-content/uploads/2019/05/Mae-Kim-Sua-1-770x400.jpg\"><img src=\"https://i.pinimg.com/originals/cc/87/24/cc87241946eebe4953b1d78b8f2a6a1e.jpg\"><img src=\"https://i.ytimg.com/vi/dBDIh66DWZY/maxresdefault.jpg\"><img src=\"https://content.shopback.com/th/wp-content/uploads/2019/09/10214654/51.jpg\"><img src=\"https://d1sag4ddilekf6.cloudfront.net/compressed/merchants/3-CYL3VVB1JUE3KE/hero/056cc1d9ee0b4f72aa767cfd3879cbc7_1580117368012534288.jpeg\"><img src=\"https://f.ptcdn.info/734/067/000/q46izu1fjnXR1MC5BmUo-o.jpg\"><img src=\"https://d12man5gwydfvl.cloudfront.net/wp-content/uploads/2020/06/HappyFresh-Spicy-Rice-Noodle-Salad-With-Fried-Mackerel-Recipe.jpg\"><img src=\"https://ungsriwong.s3.ap-southeast-1.amazonaws.com/wp-content/uploads/2019/06/24123749/SanPaKoi_04.jpg\"><img src=\"https://pbs.twimg.com/media/DqSBcUTUwAEFgnR.jpg\"><img src=\"https://img.kapook.com/u/2017/surauch/cooking/c1_29.jpg\"><img src=\"https://tuemaster.com/wp-content/uploads/2020/07/unnamed-2-512x256.jpg\"><img src=\"https://s3.ap-southeast-1.amazonaws.com/asset.punpro.com/cover-contents/i9105/1590030811905-96687202_3327188027317527_2629218200805441536_o.jpg\"><img src=\"https://www.easycookingmenu.com/media/k2/items/cache/8938fc981672a91f27b49fef3a9aa529_XL.jpg\"><img src=\"https://www.ryoiireview.com/upload/article/201709/1504781762_13e3bd753d35c3e273ebf2b9f4ec07ef.jpg\">\n",
              "\n",
              "  </body>"
            ],
            "text/plain": [
              "<IPython.core.display.HTML object>"
            ]
          },
          "metadata": {
            "tags": []
          }
        }
      ]
    },
    {
      "cell_type": "code",
      "metadata": {
        "id": "cHyDT80llDJB"
      },
      "source": [
        "def consine_sim(queryfeat,feat):\n",
        "  return ''"
      ],
      "execution_count": null,
      "outputs": []
    },
    {
      "cell_type": "code",
      "metadata": {
        "id": "M8JjBna1lMip"
      },
      "source": [
        "def euclidient_dist(queryfeat,feat):\n",
        "  return ''"
      ],
      "execution_count": null,
      "outputs": []
    }
  ]
}