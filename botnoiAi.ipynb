{
  "nbformat": 4,
  "nbformat_minor": 0,
  "metadata": {
    "colab": {
      "name": "Untitled3.ipynb",
      "provenance": [],
      "authorship_tag": "ABX9TyOSYssgrNd60R7qZjUyjq8d",
      "include_colab_link": true
    },
    "kernelspec": {
      "name": "python3",
      "display_name": "Python 3"
    }
  },
  "cells": [
    {
      "cell_type": "markdown",
      "metadata": {
        "id": "view-in-github",
        "colab_type": "text"
      },
      "source": [
        "<a href=\"https://colab.research.google.com/github/tanupat085/3-minutes-python/blob/master/botnoiAi.ipynb\" target=\"_parent\"><img src=\"https://colab.research.google.com/assets/colab-badge.svg\" alt=\"Open In Colab\"/></a>"
      ]
    },
    {
      "cell_type": "code",
      "metadata": {
        "id": "EBlzHaYBAsaA"
      },
      "source": [
        "import pandas as pd"
      ],
      "execution_count": 3,
      "outputs": []
    },
    {
      "cell_type": "code",
      "metadata": {
        "colab": {
          "base_uri": "https://localhost:8080/",
          "height": 136
        },
        "id": "OhJHSxdvAtPu",
        "outputId": "425afba9-e805-4924-c217-dc6494828e39"
      },
      "source": [
        "list = [['a','b','c'],['d','e','f'],['h','i','j']]\r\n",
        "df = pd.DataFrame(list)\r\n",
        "df"
      ],
      "execution_count": 6,
      "outputs": [
        {
          "output_type": "execute_result",
          "data": {
            "text/html": [
              "<div>\n",
              "<style scoped>\n",
              "    .dataframe tbody tr th:only-of-type {\n",
              "        vertical-align: middle;\n",
              "    }\n",
              "\n",
              "    .dataframe tbody tr th {\n",
              "        vertical-align: top;\n",
              "    }\n",
              "\n",
              "    .dataframe thead th {\n",
              "        text-align: right;\n",
              "    }\n",
              "</style>\n",
              "<table border=\"1\" class=\"dataframe\">\n",
              "  <thead>\n",
              "    <tr style=\"text-align: right;\">\n",
              "      <th></th>\n",
              "      <th>0</th>\n",
              "      <th>1</th>\n",
              "      <th>2</th>\n",
              "    </tr>\n",
              "  </thead>\n",
              "  <tbody>\n",
              "    <tr>\n",
              "      <th>0</th>\n",
              "      <td>a</td>\n",
              "      <td>b</td>\n",
              "      <td>c</td>\n",
              "    </tr>\n",
              "    <tr>\n",
              "      <th>1</th>\n",
              "      <td>d</td>\n",
              "      <td>e</td>\n",
              "      <td>f</td>\n",
              "    </tr>\n",
              "    <tr>\n",
              "      <th>2</th>\n",
              "      <td>h</td>\n",
              "      <td>i</td>\n",
              "      <td>j</td>\n",
              "    </tr>\n",
              "  </tbody>\n",
              "</table>\n",
              "</div>"
            ],
            "text/plain": [
              "   0  1  2\n",
              "0  a  b  c\n",
              "1  d  e  f\n",
              "2  h  i  j"
            ]
          },
          "metadata": {
            "tags": []
          },
          "execution_count": 6
        }
      ]
    },
    {
      "cell_type": "code",
      "metadata": {
        "colab": {
          "base_uri": "https://localhost:8080/",
          "height": 136
        },
        "id": "CZcJMp9OBU4y",
        "outputId": "05ee0dbf-c4ed-4a07-bb67-81cfff957644"
      },
      "source": [
        "df.columns = ['first','second','third']\r\n",
        "df"
      ],
      "execution_count": 10,
      "outputs": [
        {
          "output_type": "execute_result",
          "data": {
            "text/html": [
              "<div>\n",
              "<style scoped>\n",
              "    .dataframe tbody tr th:only-of-type {\n",
              "        vertical-align: middle;\n",
              "    }\n",
              "\n",
              "    .dataframe tbody tr th {\n",
              "        vertical-align: top;\n",
              "    }\n",
              "\n",
              "    .dataframe thead th {\n",
              "        text-align: right;\n",
              "    }\n",
              "</style>\n",
              "<table border=\"1\" class=\"dataframe\">\n",
              "  <thead>\n",
              "    <tr style=\"text-align: right;\">\n",
              "      <th></th>\n",
              "      <th>first</th>\n",
              "      <th>second</th>\n",
              "      <th>third</th>\n",
              "    </tr>\n",
              "  </thead>\n",
              "  <tbody>\n",
              "    <tr>\n",
              "      <th>0</th>\n",
              "      <td>a</td>\n",
              "      <td>b</td>\n",
              "      <td>c</td>\n",
              "    </tr>\n",
              "    <tr>\n",
              "      <th>1</th>\n",
              "      <td>d</td>\n",
              "      <td>e</td>\n",
              "      <td>f</td>\n",
              "    </tr>\n",
              "    <tr>\n",
              "      <th>2</th>\n",
              "      <td>h</td>\n",
              "      <td>i</td>\n",
              "      <td>j</td>\n",
              "    </tr>\n",
              "  </tbody>\n",
              "</table>\n",
              "</div>"
            ],
            "text/plain": [
              "  first second third\n",
              "0     a      b     c\n",
              "1     d      e     f\n",
              "2     h      i     j"
            ]
          },
          "metadata": {
            "tags": []
          },
          "execution_count": 10
        }
      ]
    },
    {
      "cell_type": "code",
      "metadata": {
        "colab": {
          "base_uri": "https://localhost:8080/",
          "height": 136
        },
        "id": "M5eHMtDUBoGW",
        "outputId": "24476a7d-e8ca-4ce6-9aff-11d184228a6f"
      },
      "source": [
        "df = pd.DataFrame(list, columns=['first','second','third'])\r\n",
        "df"
      ],
      "execution_count": 11,
      "outputs": [
        {
          "output_type": "execute_result",
          "data": {
            "text/html": [
              "<div>\n",
              "<style scoped>\n",
              "    .dataframe tbody tr th:only-of-type {\n",
              "        vertical-align: middle;\n",
              "    }\n",
              "\n",
              "    .dataframe tbody tr th {\n",
              "        vertical-align: top;\n",
              "    }\n",
              "\n",
              "    .dataframe thead th {\n",
              "        text-align: right;\n",
              "    }\n",
              "</style>\n",
              "<table border=\"1\" class=\"dataframe\">\n",
              "  <thead>\n",
              "    <tr style=\"text-align: right;\">\n",
              "      <th></th>\n",
              "      <th>first</th>\n",
              "      <th>second</th>\n",
              "      <th>third</th>\n",
              "    </tr>\n",
              "  </thead>\n",
              "  <tbody>\n",
              "    <tr>\n",
              "      <th>0</th>\n",
              "      <td>a</td>\n",
              "      <td>b</td>\n",
              "      <td>c</td>\n",
              "    </tr>\n",
              "    <tr>\n",
              "      <th>1</th>\n",
              "      <td>d</td>\n",
              "      <td>e</td>\n",
              "      <td>f</td>\n",
              "    </tr>\n",
              "    <tr>\n",
              "      <th>2</th>\n",
              "      <td>h</td>\n",
              "      <td>i</td>\n",
              "      <td>j</td>\n",
              "    </tr>\n",
              "  </tbody>\n",
              "</table>\n",
              "</div>"
            ],
            "text/plain": [
              "  first second third\n",
              "0     a      b     c\n",
              "1     d      e     f\n",
              "2     h      i     j"
            ]
          },
          "metadata": {
            "tags": []
          },
          "execution_count": 11
        }
      ]
    },
    {
      "cell_type": "code",
      "metadata": {
        "colab": {
          "base_uri": "https://localhost:8080/",
          "height": 136
        },
        "id": "KkToWiEJCOUB",
        "outputId": "84c7bd93-3d56-4fbd-8715-52bd1f7ae71d"
      },
      "source": [
        "dict = {'columns1':['a','b','c'],'columns2':['d','e','f'],'columns':['h','i','j']}\r\n",
        "df = pd.DataFrame(dict)\r\n",
        "df"
      ],
      "execution_count": 12,
      "outputs": [
        {
          "output_type": "execute_result",
          "data": {
            "text/html": [
              "<div>\n",
              "<style scoped>\n",
              "    .dataframe tbody tr th:only-of-type {\n",
              "        vertical-align: middle;\n",
              "    }\n",
              "\n",
              "    .dataframe tbody tr th {\n",
              "        vertical-align: top;\n",
              "    }\n",
              "\n",
              "    .dataframe thead th {\n",
              "        text-align: right;\n",
              "    }\n",
              "</style>\n",
              "<table border=\"1\" class=\"dataframe\">\n",
              "  <thead>\n",
              "    <tr style=\"text-align: right;\">\n",
              "      <th></th>\n",
              "      <th>columns1</th>\n",
              "      <th>columns2</th>\n",
              "      <th>columns</th>\n",
              "    </tr>\n",
              "  </thead>\n",
              "  <tbody>\n",
              "    <tr>\n",
              "      <th>0</th>\n",
              "      <td>a</td>\n",
              "      <td>d</td>\n",
              "      <td>h</td>\n",
              "    </tr>\n",
              "    <tr>\n",
              "      <th>1</th>\n",
              "      <td>b</td>\n",
              "      <td>e</td>\n",
              "      <td>i</td>\n",
              "    </tr>\n",
              "    <tr>\n",
              "      <th>2</th>\n",
              "      <td>c</td>\n",
              "      <td>f</td>\n",
              "      <td>j</td>\n",
              "    </tr>\n",
              "  </tbody>\n",
              "</table>\n",
              "</div>"
            ],
            "text/plain": [
              "  columns1 columns2 columns\n",
              "0        a        d       h\n",
              "1        b        e       i\n",
              "2        c        f       j"
            ]
          },
          "metadata": {
            "tags": []
          },
          "execution_count": 12
        }
      ]
    },
    {
      "cell_type": "markdown",
      "metadata": {
        "id": "m5pgTJfAGTBT"
      },
      "source": [
        "excell database"
      ]
    },
    {
      "cell_type": "code",
      "metadata": {
        "colab": {
          "base_uri": "https://localhost:8080/"
        },
        "id": "-g6B7nUkGWgF",
        "outputId": "129acace-8d69-4472-99df-41ef1ffb98be"
      },
      "source": [
        "!gdown --id 1YK3-pyXz2NhpE2XFfP6qjdn-Y2tPOy2Z"
      ],
      "execution_count": 13,
      "outputs": [
        {
          "output_type": "stream",
          "text": [
            "Downloading...\n",
            "From: https://drive.google.com/uc?id=1YK3-pyXz2NhpE2XFfP6qjdn-Y2tPOy2Z\n",
            "To: /content/DigiDB_digimonlist.xlsx\n",
            "\r  0% 0.00/27.2k [00:00<?, ?B/s]\r100% 27.2k/27.2k [00:00<00:00, 56.4MB/s]\n"
          ],
          "name": "stdout"
        }
      ]
    },
    {
      "cell_type": "code",
      "metadata": {
        "id": "uVusI-0BG3_x"
      },
      "source": [
        "df = pd.read_excel('DigiDB_digimonlist.xlsx')\r\n"
      ],
      "execution_count": 17,
      "outputs": []
    },
    {
      "cell_type": "code",
      "metadata": {
        "colab": {
          "base_uri": "https://localhost:8080/",
          "height": 452
        },
        "id": "zFCvqpB6HJJN",
        "outputId": "6d828644-f197-4228-bb27-ba5a577631d1"
      },
      "source": [
        "df"
      ],
      "execution_count": 18,
      "outputs": [
        {
          "output_type": "execute_result",
          "data": {
            "text/html": [
              "<div>\n",
              "<style scoped>\n",
              "    .dataframe tbody tr th:only-of-type {\n",
              "        vertical-align: middle;\n",
              "    }\n",
              "\n",
              "    .dataframe tbody tr th {\n",
              "        vertical-align: top;\n",
              "    }\n",
              "\n",
              "    .dataframe thead th {\n",
              "        text-align: right;\n",
              "    }\n",
              "</style>\n",
              "<table border=\"1\" class=\"dataframe\">\n",
              "  <thead>\n",
              "    <tr style=\"text-align: right;\">\n",
              "      <th></th>\n",
              "      <th>Number</th>\n",
              "      <th>Digimon</th>\n",
              "      <th>Stage</th>\n",
              "      <th>Type</th>\n",
              "      <th>Attribute</th>\n",
              "      <th>Memory</th>\n",
              "      <th>Equip Slots</th>\n",
              "      <th>Lv 50 HP</th>\n",
              "      <th>Lv50 SP</th>\n",
              "      <th>Lv50 Atk</th>\n",
              "      <th>Lv50 Def</th>\n",
              "      <th>Lv50 Int</th>\n",
              "      <th>Lv50 Spd</th>\n",
              "    </tr>\n",
              "  </thead>\n",
              "  <tbody>\n",
              "    <tr>\n",
              "      <th>0</th>\n",
              "      <td>1</td>\n",
              "      <td>Kuramon</td>\n",
              "      <td>Baby</td>\n",
              "      <td>Free</td>\n",
              "      <td>Neutral</td>\n",
              "      <td>2</td>\n",
              "      <td>0</td>\n",
              "      <td>590.0</td>\n",
              "      <td>77</td>\n",
              "      <td>79</td>\n",
              "      <td>69</td>\n",
              "      <td>68</td>\n",
              "      <td>95</td>\n",
              "    </tr>\n",
              "    <tr>\n",
              "      <th>1</th>\n",
              "      <td>2</td>\n",
              "      <td>Pabumon</td>\n",
              "      <td>Baby</td>\n",
              "      <td>Free</td>\n",
              "      <td>Neutral</td>\n",
              "      <td>2</td>\n",
              "      <td>0</td>\n",
              "      <td>950.0</td>\n",
              "      <td>62</td>\n",
              "      <td>76</td>\n",
              "      <td>76</td>\n",
              "      <td>69</td>\n",
              "      <td>68</td>\n",
              "    </tr>\n",
              "    <tr>\n",
              "      <th>2</th>\n",
              "      <td>3</td>\n",
              "      <td>Punimon</td>\n",
              "      <td>Baby</td>\n",
              "      <td>Free</td>\n",
              "      <td>Neutral</td>\n",
              "      <td>2</td>\n",
              "      <td>0</td>\n",
              "      <td>870.0</td>\n",
              "      <td>50</td>\n",
              "      <td>97</td>\n",
              "      <td>87</td>\n",
              "      <td>50</td>\n",
              "      <td>75</td>\n",
              "    </tr>\n",
              "    <tr>\n",
              "      <th>3</th>\n",
              "      <td>4</td>\n",
              "      <td>Botamon</td>\n",
              "      <td>Baby</td>\n",
              "      <td>Free</td>\n",
              "      <td>Neutral</td>\n",
              "      <td>2</td>\n",
              "      <td>0</td>\n",
              "      <td>690.0</td>\n",
              "      <td>68</td>\n",
              "      <td>77</td>\n",
              "      <td>95</td>\n",
              "      <td>76</td>\n",
              "      <td>61</td>\n",
              "    </tr>\n",
              "    <tr>\n",
              "      <th>4</th>\n",
              "      <td>5</td>\n",
              "      <td>Poyomon</td>\n",
              "      <td>Baby</td>\n",
              "      <td>Free</td>\n",
              "      <td>Neutral</td>\n",
              "      <td>2</td>\n",
              "      <td>0</td>\n",
              "      <td>540.0</td>\n",
              "      <td>98</td>\n",
              "      <td>54</td>\n",
              "      <td>59</td>\n",
              "      <td>95</td>\n",
              "      <td>86</td>\n",
              "    </tr>\n",
              "    <tr>\n",
              "      <th>...</th>\n",
              "      <td>...</td>\n",
              "      <td>...</td>\n",
              "      <td>...</td>\n",
              "      <td>...</td>\n",
              "      <td>...</td>\n",
              "      <td>...</td>\n",
              "      <td>...</td>\n",
              "      <td>...</td>\n",
              "      <td>...</td>\n",
              "      <td>...</td>\n",
              "      <td>...</td>\n",
              "      <td>...</td>\n",
              "      <td>...</td>\n",
              "    </tr>\n",
              "    <tr>\n",
              "      <th>244</th>\n",
              "      <td>245</td>\n",
              "      <td>Valkyrimon</td>\n",
              "      <td>Mega</td>\n",
              "      <td>Free</td>\n",
              "      <td>Wind</td>\n",
              "      <td>18</td>\n",
              "      <td>3</td>\n",
              "      <td>1330.0</td>\n",
              "      <td>139</td>\n",
              "      <td>148</td>\n",
              "      <td>129</td>\n",
              "      <td>129</td>\n",
              "      <td>168</td>\n",
              "    </tr>\n",
              "    <tr>\n",
              "      <th>245</th>\n",
              "      <td>246</td>\n",
              "      <td>ShineGreymon BM</td>\n",
              "      <td>Mega</td>\n",
              "      <td>Vaccine</td>\n",
              "      <td>Fire</td>\n",
              "      <td>22</td>\n",
              "      <td>2</td>\n",
              "      <td>1980.0</td>\n",
              "      <td>114</td>\n",
              "      <td>228</td>\n",
              "      <td>104</td>\n",
              "      <td>84</td>\n",
              "      <td>168</td>\n",
              "    </tr>\n",
              "    <tr>\n",
              "      <th>246</th>\n",
              "      <td>247</td>\n",
              "      <td>MirageGaogamon BM</td>\n",
              "      <td>Mega</td>\n",
              "      <td>Data</td>\n",
              "      <td>Light</td>\n",
              "      <td>20</td>\n",
              "      <td>2</td>\n",
              "      <td>1440.0</td>\n",
              "      <td>124</td>\n",
              "      <td>178</td>\n",
              "      <td>104</td>\n",
              "      <td>158</td>\n",
              "      <td>174</td>\n",
              "    </tr>\n",
              "    <tr>\n",
              "      <th>247</th>\n",
              "      <td>248</td>\n",
              "      <td>Ravemon BM</td>\n",
              "      <td>Mega</td>\n",
              "      <td>Vaccine</td>\n",
              "      <td>Wind</td>\n",
              "      <td>20</td>\n",
              "      <td>2</td>\n",
              "      <td>1040.0</td>\n",
              "      <td>133</td>\n",
              "      <td>149</td>\n",
              "      <td>139</td>\n",
              "      <td>144</td>\n",
              "      <td>213</td>\n",
              "    </tr>\n",
              "    <tr>\n",
              "      <th>248</th>\n",
              "      <td>249</td>\n",
              "      <td>Rosemon BM</td>\n",
              "      <td>Mega</td>\n",
              "      <td>Data</td>\n",
              "      <td>Plant</td>\n",
              "      <td>20</td>\n",
              "      <td>2</td>\n",
              "      <td>1480.0</td>\n",
              "      <td>143</td>\n",
              "      <td>149</td>\n",
              "      <td>139</td>\n",
              "      <td>159</td>\n",
              "      <td>143</td>\n",
              "    </tr>\n",
              "  </tbody>\n",
              "</table>\n",
              "<p>249 rows × 13 columns</p>\n",
              "</div>"
            ],
            "text/plain": [
              "     Number            Digimon Stage  ... Lv50 Def Lv50 Int  Lv50 Spd\n",
              "0         1            Kuramon  Baby  ...       69       68        95\n",
              "1         2            Pabumon  Baby  ...       76       69        68\n",
              "2         3            Punimon  Baby  ...       87       50        75\n",
              "3         4            Botamon  Baby  ...       95       76        61\n",
              "4         5            Poyomon  Baby  ...       59       95        86\n",
              "..      ...                ...   ...  ...      ...      ...       ...\n",
              "244     245         Valkyrimon  Mega  ...      129      129       168\n",
              "245     246    ShineGreymon BM  Mega  ...      104       84       168\n",
              "246     247  MirageGaogamon BM  Mega  ...      104      158       174\n",
              "247     248         Ravemon BM  Mega  ...      139      144       213\n",
              "248     249         Rosemon BM  Mega  ...      139      159       143\n",
              "\n",
              "[249 rows x 13 columns]"
            ]
          },
          "metadata": {
            "tags": []
          },
          "execution_count": 18
        }
      ]
    },
    {
      "cell_type": "code",
      "metadata": {
        "colab": {
          "base_uri": "https://localhost:8080/"
        },
        "id": "jpnfYeVaHLN3",
        "outputId": "41a6f7d7-14ea-4e4d-8eb1-270e33ce441e"
      },
      "source": [
        "!gdown --id 15fteBoNOEmNfZkPnOwJR5h7TmSQmbnEY"
      ],
      "execution_count": 20,
      "outputs": [
        {
          "output_type": "stream",
          "text": [
            "Downloading...\n",
            "From: https://drive.google.com/uc?id=15fteBoNOEmNfZkPnOwJR5h7TmSQmbnEY\n",
            "To: /content/DigiDB_digimonlist.csv\n",
            "\r  0% 0.00/15.5k [00:00<?, ?B/s]\r100% 15.5k/15.5k [00:00<00:00, 24.8MB/s]\n"
          ],
          "name": "stdout"
        }
      ]
    },
    {
      "cell_type": "code",
      "metadata": {
        "id": "KTRyasZ7HR3W"
      },
      "source": [
        "df = pd.read_csv('DigiDB_digimonlist.csv')"
      ],
      "execution_count": 21,
      "outputs": []
    },
    {
      "cell_type": "code",
      "metadata": {
        "colab": {
          "base_uri": "https://localhost:8080/",
          "height": 452
        },
        "id": "ILLEU0PYHfx8",
        "outputId": "1c4f0098-fbde-44da-d860-60737d401657"
      },
      "source": [
        "df"
      ],
      "execution_count": 22,
      "outputs": [
        {
          "output_type": "execute_result",
          "data": {
            "text/html": [
              "<div>\n",
              "<style scoped>\n",
              "    .dataframe tbody tr th:only-of-type {\n",
              "        vertical-align: middle;\n",
              "    }\n",
              "\n",
              "    .dataframe tbody tr th {\n",
              "        vertical-align: top;\n",
              "    }\n",
              "\n",
              "    .dataframe thead th {\n",
              "        text-align: right;\n",
              "    }\n",
              "</style>\n",
              "<table border=\"1\" class=\"dataframe\">\n",
              "  <thead>\n",
              "    <tr style=\"text-align: right;\">\n",
              "      <th></th>\n",
              "      <th>Number</th>\n",
              "      <th>Digimon</th>\n",
              "      <th>Stage</th>\n",
              "      <th>Type</th>\n",
              "      <th>Attribute</th>\n",
              "      <th>Memory</th>\n",
              "      <th>Equip Slots</th>\n",
              "      <th>Lv 50 HP</th>\n",
              "      <th>Lv50 SP</th>\n",
              "      <th>Lv50 Atk</th>\n",
              "      <th>Lv50 Def</th>\n",
              "      <th>Lv50 Int</th>\n",
              "      <th>Lv50 Spd</th>\n",
              "    </tr>\n",
              "  </thead>\n",
              "  <tbody>\n",
              "    <tr>\n",
              "      <th>0</th>\n",
              "      <td>1</td>\n",
              "      <td>Kuramon</td>\n",
              "      <td>Baby</td>\n",
              "      <td>Free</td>\n",
              "      <td>Neutral</td>\n",
              "      <td>2</td>\n",
              "      <td>0</td>\n",
              "      <td>590.0</td>\n",
              "      <td>77</td>\n",
              "      <td>79</td>\n",
              "      <td>69</td>\n",
              "      <td>68</td>\n",
              "      <td>95</td>\n",
              "    </tr>\n",
              "    <tr>\n",
              "      <th>1</th>\n",
              "      <td>2</td>\n",
              "      <td>Pabumon</td>\n",
              "      <td>Baby</td>\n",
              "      <td>Free</td>\n",
              "      <td>Neutral</td>\n",
              "      <td>2</td>\n",
              "      <td>0</td>\n",
              "      <td>950.0</td>\n",
              "      <td>62</td>\n",
              "      <td>76</td>\n",
              "      <td>76</td>\n",
              "      <td>69</td>\n",
              "      <td>68</td>\n",
              "    </tr>\n",
              "    <tr>\n",
              "      <th>2</th>\n",
              "      <td>3</td>\n",
              "      <td>Punimon</td>\n",
              "      <td>Baby</td>\n",
              "      <td>Free</td>\n",
              "      <td>Neutral</td>\n",
              "      <td>2</td>\n",
              "      <td>0</td>\n",
              "      <td>870.0</td>\n",
              "      <td>50</td>\n",
              "      <td>97</td>\n",
              "      <td>87</td>\n",
              "      <td>50</td>\n",
              "      <td>75</td>\n",
              "    </tr>\n",
              "    <tr>\n",
              "      <th>3</th>\n",
              "      <td>4</td>\n",
              "      <td>Botamon</td>\n",
              "      <td>Baby</td>\n",
              "      <td>Free</td>\n",
              "      <td>Neutral</td>\n",
              "      <td>2</td>\n",
              "      <td>0</td>\n",
              "      <td>690.0</td>\n",
              "      <td>68</td>\n",
              "      <td>77</td>\n",
              "      <td>95</td>\n",
              "      <td>76</td>\n",
              "      <td>61</td>\n",
              "    </tr>\n",
              "    <tr>\n",
              "      <th>4</th>\n",
              "      <td>5</td>\n",
              "      <td>Poyomon</td>\n",
              "      <td>Baby</td>\n",
              "      <td>Free</td>\n",
              "      <td>Neutral</td>\n",
              "      <td>2</td>\n",
              "      <td>0</td>\n",
              "      <td>540.0</td>\n",
              "      <td>98</td>\n",
              "      <td>54</td>\n",
              "      <td>59</td>\n",
              "      <td>95</td>\n",
              "      <td>86</td>\n",
              "    </tr>\n",
              "    <tr>\n",
              "      <th>...</th>\n",
              "      <td>...</td>\n",
              "      <td>...</td>\n",
              "      <td>...</td>\n",
              "      <td>...</td>\n",
              "      <td>...</td>\n",
              "      <td>...</td>\n",
              "      <td>...</td>\n",
              "      <td>...</td>\n",
              "      <td>...</td>\n",
              "      <td>...</td>\n",
              "      <td>...</td>\n",
              "      <td>...</td>\n",
              "      <td>...</td>\n",
              "    </tr>\n",
              "    <tr>\n",
              "      <th>244</th>\n",
              "      <td>245</td>\n",
              "      <td>Valkyrimon</td>\n",
              "      <td>Mega</td>\n",
              "      <td>Free</td>\n",
              "      <td>Wind</td>\n",
              "      <td>18</td>\n",
              "      <td>3</td>\n",
              "      <td>1330.0</td>\n",
              "      <td>139</td>\n",
              "      <td>148</td>\n",
              "      <td>129</td>\n",
              "      <td>129</td>\n",
              "      <td>168</td>\n",
              "    </tr>\n",
              "    <tr>\n",
              "      <th>245</th>\n",
              "      <td>246</td>\n",
              "      <td>ShineGreymon BM</td>\n",
              "      <td>Mega</td>\n",
              "      <td>Vaccine</td>\n",
              "      <td>Fire</td>\n",
              "      <td>22</td>\n",
              "      <td>2</td>\n",
              "      <td>1980.0</td>\n",
              "      <td>114</td>\n",
              "      <td>228</td>\n",
              "      <td>104</td>\n",
              "      <td>84</td>\n",
              "      <td>168</td>\n",
              "    </tr>\n",
              "    <tr>\n",
              "      <th>246</th>\n",
              "      <td>247</td>\n",
              "      <td>MirageGaogamon BM</td>\n",
              "      <td>Mega</td>\n",
              "      <td>Data</td>\n",
              "      <td>Light</td>\n",
              "      <td>20</td>\n",
              "      <td>2</td>\n",
              "      <td>1440.0</td>\n",
              "      <td>124</td>\n",
              "      <td>178</td>\n",
              "      <td>104</td>\n",
              "      <td>158</td>\n",
              "      <td>174</td>\n",
              "    </tr>\n",
              "    <tr>\n",
              "      <th>247</th>\n",
              "      <td>248</td>\n",
              "      <td>Ravemon BM</td>\n",
              "      <td>Mega</td>\n",
              "      <td>Vaccine</td>\n",
              "      <td>Wind</td>\n",
              "      <td>20</td>\n",
              "      <td>2</td>\n",
              "      <td>1040.0</td>\n",
              "      <td>133</td>\n",
              "      <td>149</td>\n",
              "      <td>139</td>\n",
              "      <td>144</td>\n",
              "      <td>213</td>\n",
              "    </tr>\n",
              "    <tr>\n",
              "      <th>248</th>\n",
              "      <td>249</td>\n",
              "      <td>Rosemon BM</td>\n",
              "      <td>Mega</td>\n",
              "      <td>Data</td>\n",
              "      <td>Plant</td>\n",
              "      <td>20</td>\n",
              "      <td>2</td>\n",
              "      <td>1480.0</td>\n",
              "      <td>143</td>\n",
              "      <td>149</td>\n",
              "      <td>139</td>\n",
              "      <td>159</td>\n",
              "      <td>143</td>\n",
              "    </tr>\n",
              "  </tbody>\n",
              "</table>\n",
              "<p>249 rows × 13 columns</p>\n",
              "</div>"
            ],
            "text/plain": [
              "     Number            Digimon Stage  ... Lv50 Def Lv50 Int  Lv50 Spd\n",
              "0         1            Kuramon  Baby  ...       69       68        95\n",
              "1         2            Pabumon  Baby  ...       76       69        68\n",
              "2         3            Punimon  Baby  ...       87       50        75\n",
              "3         4            Botamon  Baby  ...       95       76        61\n",
              "4         5            Poyomon  Baby  ...       59       95        86\n",
              "..      ...                ...   ...  ...      ...      ...       ...\n",
              "244     245         Valkyrimon  Mega  ...      129      129       168\n",
              "245     246    ShineGreymon BM  Mega  ...      104       84       168\n",
              "246     247  MirageGaogamon BM  Mega  ...      104      158       174\n",
              "247     248         Ravemon BM  Mega  ...      139      144       213\n",
              "248     249         Rosemon BM  Mega  ...      139      159       143\n",
              "\n",
              "[249 rows x 13 columns]"
            ]
          },
          "metadata": {
            "tags": []
          },
          "execution_count": 22
        }
      ]
    },
    {
      "cell_type": "code",
      "metadata": {
        "colab": {
          "base_uri": "https://localhost:8080/",
          "height": 444
        },
        "id": "BGo5SLfMHvbA",
        "outputId": "e44725ca-7b98-4db4-d751-a57cc796d4a0"
      },
      "source": [
        "df.head(10)"
      ],
      "execution_count": 24,
      "outputs": [
        {
          "output_type": "execute_result",
          "data": {
            "text/html": [
              "<div>\n",
              "<style scoped>\n",
              "    .dataframe tbody tr th:only-of-type {\n",
              "        vertical-align: middle;\n",
              "    }\n",
              "\n",
              "    .dataframe tbody tr th {\n",
              "        vertical-align: top;\n",
              "    }\n",
              "\n",
              "    .dataframe thead th {\n",
              "        text-align: right;\n",
              "    }\n",
              "</style>\n",
              "<table border=\"1\" class=\"dataframe\">\n",
              "  <thead>\n",
              "    <tr style=\"text-align: right;\">\n",
              "      <th></th>\n",
              "      <th>Number</th>\n",
              "      <th>Digimon</th>\n",
              "      <th>Stage</th>\n",
              "      <th>Type</th>\n",
              "      <th>Attribute</th>\n",
              "      <th>Memory</th>\n",
              "      <th>Equip Slots</th>\n",
              "      <th>Lv 50 HP</th>\n",
              "      <th>Lv50 SP</th>\n",
              "      <th>Lv50 Atk</th>\n",
              "      <th>Lv50 Def</th>\n",
              "      <th>Lv50 Int</th>\n",
              "      <th>Lv50 Spd</th>\n",
              "    </tr>\n",
              "  </thead>\n",
              "  <tbody>\n",
              "    <tr>\n",
              "      <th>0</th>\n",
              "      <td>1</td>\n",
              "      <td>Kuramon</td>\n",
              "      <td>Baby</td>\n",
              "      <td>Free</td>\n",
              "      <td>Neutral</td>\n",
              "      <td>2</td>\n",
              "      <td>0</td>\n",
              "      <td>590.0</td>\n",
              "      <td>77</td>\n",
              "      <td>79</td>\n",
              "      <td>69</td>\n",
              "      <td>68</td>\n",
              "      <td>95</td>\n",
              "    </tr>\n",
              "    <tr>\n",
              "      <th>1</th>\n",
              "      <td>2</td>\n",
              "      <td>Pabumon</td>\n",
              "      <td>Baby</td>\n",
              "      <td>Free</td>\n",
              "      <td>Neutral</td>\n",
              "      <td>2</td>\n",
              "      <td>0</td>\n",
              "      <td>950.0</td>\n",
              "      <td>62</td>\n",
              "      <td>76</td>\n",
              "      <td>76</td>\n",
              "      <td>69</td>\n",
              "      <td>68</td>\n",
              "    </tr>\n",
              "    <tr>\n",
              "      <th>2</th>\n",
              "      <td>3</td>\n",
              "      <td>Punimon</td>\n",
              "      <td>Baby</td>\n",
              "      <td>Free</td>\n",
              "      <td>Neutral</td>\n",
              "      <td>2</td>\n",
              "      <td>0</td>\n",
              "      <td>870.0</td>\n",
              "      <td>50</td>\n",
              "      <td>97</td>\n",
              "      <td>87</td>\n",
              "      <td>50</td>\n",
              "      <td>75</td>\n",
              "    </tr>\n",
              "    <tr>\n",
              "      <th>3</th>\n",
              "      <td>4</td>\n",
              "      <td>Botamon</td>\n",
              "      <td>Baby</td>\n",
              "      <td>Free</td>\n",
              "      <td>Neutral</td>\n",
              "      <td>2</td>\n",
              "      <td>0</td>\n",
              "      <td>690.0</td>\n",
              "      <td>68</td>\n",
              "      <td>77</td>\n",
              "      <td>95</td>\n",
              "      <td>76</td>\n",
              "      <td>61</td>\n",
              "    </tr>\n",
              "    <tr>\n",
              "      <th>4</th>\n",
              "      <td>5</td>\n",
              "      <td>Poyomon</td>\n",
              "      <td>Baby</td>\n",
              "      <td>Free</td>\n",
              "      <td>Neutral</td>\n",
              "      <td>2</td>\n",
              "      <td>0</td>\n",
              "      <td>540.0</td>\n",
              "      <td>98</td>\n",
              "      <td>54</td>\n",
              "      <td>59</td>\n",
              "      <td>95</td>\n",
              "      <td>86</td>\n",
              "    </tr>\n",
              "    <tr>\n",
              "      <th>5</th>\n",
              "      <td>6</td>\n",
              "      <td>Koromon</td>\n",
              "      <td>In-Training</td>\n",
              "      <td>Free</td>\n",
              "      <td>Fire</td>\n",
              "      <td>3</td>\n",
              "      <td>0</td>\n",
              "      <td>940.0</td>\n",
              "      <td>52</td>\n",
              "      <td>109</td>\n",
              "      <td>93</td>\n",
              "      <td>52</td>\n",
              "      <td>76</td>\n",
              "    </tr>\n",
              "    <tr>\n",
              "      <th>6</th>\n",
              "      <td>7</td>\n",
              "      <td>Tanemon</td>\n",
              "      <td>In-Training</td>\n",
              "      <td>Free</td>\n",
              "      <td>Plant</td>\n",
              "      <td>3</td>\n",
              "      <td>0</td>\n",
              "      <td>1030.0</td>\n",
              "      <td>64</td>\n",
              "      <td>85</td>\n",
              "      <td>82</td>\n",
              "      <td>73</td>\n",
              "      <td>69</td>\n",
              "    </tr>\n",
              "    <tr>\n",
              "      <th>7</th>\n",
              "      <td>8</td>\n",
              "      <td>Tsunomon</td>\n",
              "      <td>In-Training</td>\n",
              "      <td>Free</td>\n",
              "      <td>Earth</td>\n",
              "      <td>3</td>\n",
              "      <td>0</td>\n",
              "      <td>930.0</td>\n",
              "      <td>54</td>\n",
              "      <td>107</td>\n",
              "      <td>92</td>\n",
              "      <td>54</td>\n",
              "      <td>76</td>\n",
              "    </tr>\n",
              "    <tr>\n",
              "      <th>8</th>\n",
              "      <td>9</td>\n",
              "      <td>Tsumemon</td>\n",
              "      <td>In-Training</td>\n",
              "      <td>Free</td>\n",
              "      <td>Dark</td>\n",
              "      <td>3</td>\n",
              "      <td>0</td>\n",
              "      <td>930.0</td>\n",
              "      <td>64</td>\n",
              "      <td>108</td>\n",
              "      <td>64</td>\n",
              "      <td>54</td>\n",
              "      <td>93</td>\n",
              "    </tr>\n",
              "    <tr>\n",
              "      <th>9</th>\n",
              "      <td>10</td>\n",
              "      <td>Tokomon</td>\n",
              "      <td>In-Training</td>\n",
              "      <td>Free</td>\n",
              "      <td>Neutral</td>\n",
              "      <td>3</td>\n",
              "      <td>0</td>\n",
              "      <td>640.0</td>\n",
              "      <td>86</td>\n",
              "      <td>76</td>\n",
              "      <td>74</td>\n",
              "      <td>74</td>\n",
              "      <td>103</td>\n",
              "    </tr>\n",
              "  </tbody>\n",
              "</table>\n",
              "</div>"
            ],
            "text/plain": [
              "   Number   Digimon        Stage  Type  ... Lv50 Atk  Lv50 Def  Lv50 Int  Lv50 Spd\n",
              "0       1   Kuramon         Baby  Free  ...       79        69        68        95\n",
              "1       2   Pabumon         Baby  Free  ...       76        76        69        68\n",
              "2       3   Punimon         Baby  Free  ...       97        87        50        75\n",
              "3       4   Botamon         Baby  Free  ...       77        95        76        61\n",
              "4       5   Poyomon         Baby  Free  ...       54        59        95        86\n",
              "5       6   Koromon  In-Training  Free  ...      109        93        52        76\n",
              "6       7   Tanemon  In-Training  Free  ...       85        82        73        69\n",
              "7       8  Tsunomon  In-Training  Free  ...      107        92        54        76\n",
              "8       9  Tsumemon  In-Training  Free  ...      108        64        54        93\n",
              "9      10   Tokomon  In-Training  Free  ...       76        74        74       103\n",
              "\n",
              "[10 rows x 13 columns]"
            ]
          },
          "metadata": {
            "tags": []
          },
          "execution_count": 24
        }
      ]
    },
    {
      "cell_type": "code",
      "metadata": {
        "colab": {
          "base_uri": "https://localhost:8080/",
          "height": 246
        },
        "id": "RZlNHVn8ICQW",
        "outputId": "af655864-4273-4146-b71c-462fc808d4ce"
      },
      "source": [
        "df.tail(5)"
      ],
      "execution_count": 25,
      "outputs": [
        {
          "output_type": "execute_result",
          "data": {
            "text/html": [
              "<div>\n",
              "<style scoped>\n",
              "    .dataframe tbody tr th:only-of-type {\n",
              "        vertical-align: middle;\n",
              "    }\n",
              "\n",
              "    .dataframe tbody tr th {\n",
              "        vertical-align: top;\n",
              "    }\n",
              "\n",
              "    .dataframe thead th {\n",
              "        text-align: right;\n",
              "    }\n",
              "</style>\n",
              "<table border=\"1\" class=\"dataframe\">\n",
              "  <thead>\n",
              "    <tr style=\"text-align: right;\">\n",
              "      <th></th>\n",
              "      <th>Number</th>\n",
              "      <th>Digimon</th>\n",
              "      <th>Stage</th>\n",
              "      <th>Type</th>\n",
              "      <th>Attribute</th>\n",
              "      <th>Memory</th>\n",
              "      <th>Equip Slots</th>\n",
              "      <th>Lv 50 HP</th>\n",
              "      <th>Lv50 SP</th>\n",
              "      <th>Lv50 Atk</th>\n",
              "      <th>Lv50 Def</th>\n",
              "      <th>Lv50 Int</th>\n",
              "      <th>Lv50 Spd</th>\n",
              "    </tr>\n",
              "  </thead>\n",
              "  <tbody>\n",
              "    <tr>\n",
              "      <th>244</th>\n",
              "      <td>245</td>\n",
              "      <td>Valkyrimon</td>\n",
              "      <td>Mega</td>\n",
              "      <td>Free</td>\n",
              "      <td>Wind</td>\n",
              "      <td>18</td>\n",
              "      <td>3</td>\n",
              "      <td>1330.0</td>\n",
              "      <td>139</td>\n",
              "      <td>148</td>\n",
              "      <td>129</td>\n",
              "      <td>129</td>\n",
              "      <td>168</td>\n",
              "    </tr>\n",
              "    <tr>\n",
              "      <th>245</th>\n",
              "      <td>246</td>\n",
              "      <td>ShineGreymon BM</td>\n",
              "      <td>Mega</td>\n",
              "      <td>Vaccine</td>\n",
              "      <td>Fire</td>\n",
              "      <td>22</td>\n",
              "      <td>2</td>\n",
              "      <td>1980.0</td>\n",
              "      <td>114</td>\n",
              "      <td>228</td>\n",
              "      <td>104</td>\n",
              "      <td>84</td>\n",
              "      <td>168</td>\n",
              "    </tr>\n",
              "    <tr>\n",
              "      <th>246</th>\n",
              "      <td>247</td>\n",
              "      <td>MirageGaogamon BM</td>\n",
              "      <td>Mega</td>\n",
              "      <td>Data</td>\n",
              "      <td>Light</td>\n",
              "      <td>20</td>\n",
              "      <td>2</td>\n",
              "      <td>1440.0</td>\n",
              "      <td>124</td>\n",
              "      <td>178</td>\n",
              "      <td>104</td>\n",
              "      <td>158</td>\n",
              "      <td>174</td>\n",
              "    </tr>\n",
              "    <tr>\n",
              "      <th>247</th>\n",
              "      <td>248</td>\n",
              "      <td>Ravemon BM</td>\n",
              "      <td>Mega</td>\n",
              "      <td>Vaccine</td>\n",
              "      <td>Wind</td>\n",
              "      <td>20</td>\n",
              "      <td>2</td>\n",
              "      <td>1040.0</td>\n",
              "      <td>133</td>\n",
              "      <td>149</td>\n",
              "      <td>139</td>\n",
              "      <td>144</td>\n",
              "      <td>213</td>\n",
              "    </tr>\n",
              "    <tr>\n",
              "      <th>248</th>\n",
              "      <td>249</td>\n",
              "      <td>Rosemon BM</td>\n",
              "      <td>Mega</td>\n",
              "      <td>Data</td>\n",
              "      <td>Plant</td>\n",
              "      <td>20</td>\n",
              "      <td>2</td>\n",
              "      <td>1480.0</td>\n",
              "      <td>143</td>\n",
              "      <td>149</td>\n",
              "      <td>139</td>\n",
              "      <td>159</td>\n",
              "      <td>143</td>\n",
              "    </tr>\n",
              "  </tbody>\n",
              "</table>\n",
              "</div>"
            ],
            "text/plain": [
              "     Number            Digimon Stage  ... Lv50 Def Lv50 Int  Lv50 Spd\n",
              "244     245         Valkyrimon  Mega  ...      129      129       168\n",
              "245     246    ShineGreymon BM  Mega  ...      104       84       168\n",
              "246     247  MirageGaogamon BM  Mega  ...      104      158       174\n",
              "247     248         Ravemon BM  Mega  ...      139      144       213\n",
              "248     249         Rosemon BM  Mega  ...      139      159       143\n",
              "\n",
              "[5 rows x 13 columns]"
            ]
          },
          "metadata": {
            "tags": []
          },
          "execution_count": 25
        }
      ]
    },
    {
      "cell_type": "code",
      "metadata": {
        "colab": {
          "base_uri": "https://localhost:8080/"
        },
        "id": "ISFwVHgsIFFl",
        "outputId": "e6aa802c-fcb5-4469-ab6a-39ae97ef0e54"
      },
      "source": [
        "df.shape"
      ],
      "execution_count": 27,
      "outputs": [
        {
          "output_type": "execute_result",
          "data": {
            "text/plain": [
              "(249, 13)"
            ]
          },
          "metadata": {
            "tags": []
          },
          "execution_count": 27
        }
      ]
    },
    {
      "cell_type": "code",
      "metadata": {
        "colab": {
          "base_uri": "https://localhost:8080/"
        },
        "id": "U57LXYU-J9l5",
        "outputId": "7e11300a-8233-478e-d983-3dbb436479da"
      },
      "source": [
        "df.describe"
      ],
      "execution_count": 28,
      "outputs": [
        {
          "output_type": "execute_result",
          "data": {
            "text/plain": [
              "<bound method NDFrame.describe of      Number            Digimon Stage  ... Lv50 Def Lv50 Int  Lv50 Spd\n",
              "0         1            Kuramon  Baby  ...       69       68        95\n",
              "1         2            Pabumon  Baby  ...       76       69        68\n",
              "2         3            Punimon  Baby  ...       87       50        75\n",
              "3         4            Botamon  Baby  ...       95       76        61\n",
              "4         5            Poyomon  Baby  ...       59       95        86\n",
              "..      ...                ...   ...  ...      ...      ...       ...\n",
              "244     245         Valkyrimon  Mega  ...      129      129       168\n",
              "245     246    ShineGreymon BM  Mega  ...      104       84       168\n",
              "246     247  MirageGaogamon BM  Mega  ...      104      158       174\n",
              "247     248         Ravemon BM  Mega  ...      139      144       213\n",
              "248     249         Rosemon BM  Mega  ...      139      159       143\n",
              "\n",
              "[249 rows x 13 columns]>"
            ]
          },
          "metadata": {
            "tags": []
          },
          "execution_count": 28
        }
      ]
    },
    {
      "cell_type": "code",
      "metadata": {
        "colab": {
          "base_uri": "https://localhost:8080/"
        },
        "id": "pUQbmQhMKBw2",
        "outputId": "d4b50abc-f420-43df-f381-07e229ac840a"
      },
      "source": [
        "df.columns"
      ],
      "execution_count": 29,
      "outputs": [
        {
          "output_type": "execute_result",
          "data": {
            "text/plain": [
              "Index(['Number', 'Digimon', 'Stage', 'Type', 'Attribute', 'Memory',\n",
              "       'Equip Slots', 'Lv 50 HP', 'Lv50 SP', 'Lv50 Atk', 'Lv50 Def',\n",
              "       'Lv50 Int', 'Lv50 Spd'],\n",
              "      dtype='object')"
            ]
          },
          "metadata": {
            "tags": []
          },
          "execution_count": 29
        }
      ]
    },
    {
      "cell_type": "code",
      "metadata": {
        "id": "WaAd9y46KG6h"
      },
      "source": [
        "result = pd.read_csv('DigiDB_digimonlist.csv', usecols=['Digimon','Stage','Type','Lv50 Int'])"
      ],
      "execution_count": 34,
      "outputs": []
    },
    {
      "cell_type": "code",
      "metadata": {
        "colab": {
          "base_uri": "https://localhost:8080/",
          "height": 402
        },
        "id": "bGu5rqjUKlQm",
        "outputId": "13467b9a-5527-4a8a-f6ff-fb57ac60e8bb"
      },
      "source": [
        "result"
      ],
      "execution_count": 32,
      "outputs": [
        {
          "output_type": "execute_result",
          "data": {
            "text/html": [
              "<div>\n",
              "<style scoped>\n",
              "    .dataframe tbody tr th:only-of-type {\n",
              "        vertical-align: middle;\n",
              "    }\n",
              "\n",
              "    .dataframe tbody tr th {\n",
              "        vertical-align: top;\n",
              "    }\n",
              "\n",
              "    .dataframe thead th {\n",
              "        text-align: right;\n",
              "    }\n",
              "</style>\n",
              "<table border=\"1\" class=\"dataframe\">\n",
              "  <thead>\n",
              "    <tr style=\"text-align: right;\">\n",
              "      <th></th>\n",
              "      <th>Digimon</th>\n",
              "      <th>Stage</th>\n",
              "      <th>Type</th>\n",
              "      <th>Lv50 Int</th>\n",
              "    </tr>\n",
              "  </thead>\n",
              "  <tbody>\n",
              "    <tr>\n",
              "      <th>0</th>\n",
              "      <td>Kuramon</td>\n",
              "      <td>Baby</td>\n",
              "      <td>Free</td>\n",
              "      <td>68</td>\n",
              "    </tr>\n",
              "    <tr>\n",
              "      <th>1</th>\n",
              "      <td>Pabumon</td>\n",
              "      <td>Baby</td>\n",
              "      <td>Free</td>\n",
              "      <td>69</td>\n",
              "    </tr>\n",
              "    <tr>\n",
              "      <th>2</th>\n",
              "      <td>Punimon</td>\n",
              "      <td>Baby</td>\n",
              "      <td>Free</td>\n",
              "      <td>50</td>\n",
              "    </tr>\n",
              "    <tr>\n",
              "      <th>3</th>\n",
              "      <td>Botamon</td>\n",
              "      <td>Baby</td>\n",
              "      <td>Free</td>\n",
              "      <td>76</td>\n",
              "    </tr>\n",
              "    <tr>\n",
              "      <th>4</th>\n",
              "      <td>Poyomon</td>\n",
              "      <td>Baby</td>\n",
              "      <td>Free</td>\n",
              "      <td>95</td>\n",
              "    </tr>\n",
              "    <tr>\n",
              "      <th>...</th>\n",
              "      <td>...</td>\n",
              "      <td>...</td>\n",
              "      <td>...</td>\n",
              "      <td>...</td>\n",
              "    </tr>\n",
              "    <tr>\n",
              "      <th>244</th>\n",
              "      <td>Valkyrimon</td>\n",
              "      <td>Mega</td>\n",
              "      <td>Free</td>\n",
              "      <td>129</td>\n",
              "    </tr>\n",
              "    <tr>\n",
              "      <th>245</th>\n",
              "      <td>ShineGreymon BM</td>\n",
              "      <td>Mega</td>\n",
              "      <td>Vaccine</td>\n",
              "      <td>84</td>\n",
              "    </tr>\n",
              "    <tr>\n",
              "      <th>246</th>\n",
              "      <td>MirageGaogamon BM</td>\n",
              "      <td>Mega</td>\n",
              "      <td>Data</td>\n",
              "      <td>158</td>\n",
              "    </tr>\n",
              "    <tr>\n",
              "      <th>247</th>\n",
              "      <td>Ravemon BM</td>\n",
              "      <td>Mega</td>\n",
              "      <td>Vaccine</td>\n",
              "      <td>144</td>\n",
              "    </tr>\n",
              "    <tr>\n",
              "      <th>248</th>\n",
              "      <td>Rosemon BM</td>\n",
              "      <td>Mega</td>\n",
              "      <td>Data</td>\n",
              "      <td>159</td>\n",
              "    </tr>\n",
              "  </tbody>\n",
              "</table>\n",
              "<p>249 rows × 4 columns</p>\n",
              "</div>"
            ],
            "text/plain": [
              "               Digimon Stage     Type  Lv50 Int\n",
              "0              Kuramon  Baby     Free        68\n",
              "1              Pabumon  Baby     Free        69\n",
              "2              Punimon  Baby     Free        50\n",
              "3              Botamon  Baby     Free        76\n",
              "4              Poyomon  Baby     Free        95\n",
              "..                 ...   ...      ...       ...\n",
              "244         Valkyrimon  Mega     Free       129\n",
              "245    ShineGreymon BM  Mega  Vaccine        84\n",
              "246  MirageGaogamon BM  Mega     Data       158\n",
              "247         Ravemon BM  Mega  Vaccine       144\n",
              "248         Rosemon BM  Mega     Data       159\n",
              "\n",
              "[249 rows x 4 columns]"
            ]
          },
          "metadata": {
            "tags": []
          },
          "execution_count": 32
        }
      ]
    },
    {
      "cell_type": "code",
      "metadata": {
        "id": "CRsLOQakKpEK"
      },
      "source": [
        "result = df.to_csv('Digimon2.csv',columns=['Digimon','Stage','Type'])"
      ],
      "execution_count": 36,
      "outputs": []
    },
    {
      "cell_type": "code",
      "metadata": {
        "id": "MIJXWzuuLv8h"
      },
      "source": [
        "df = pd.read_csv('DigiDB_digimonlist.csv')"
      ],
      "execution_count": 37,
      "outputs": []
    },
    {
      "cell_type": "code",
      "metadata": {
        "colab": {
          "base_uri": "https://localhost:8080/"
        },
        "id": "xVHfRXG3L-8q",
        "outputId": "1fb54251-d341-45ad-e975-bcd438cf07ad"
      },
      "source": [
        "df.dtypes"
      ],
      "execution_count": 38,
      "outputs": [
        {
          "output_type": "execute_result",
          "data": {
            "text/plain": [
              "Number           int64\n",
              "Digimon         object\n",
              "Stage           object\n",
              "Type            object\n",
              "Attribute       object\n",
              "Memory           int64\n",
              "Equip Slots      int64\n",
              "Lv 50 HP       float64\n",
              "Lv50 SP          int64\n",
              "Lv50 Atk         int64\n",
              "Lv50 Def         int64\n",
              "Lv50 Int         int64\n",
              "Lv50 Spd         int64\n",
              "dtype: object"
            ]
          },
          "metadata": {
            "tags": []
          },
          "execution_count": 38
        }
      ]
    }
  ]
}