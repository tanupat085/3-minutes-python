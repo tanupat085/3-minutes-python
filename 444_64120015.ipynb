{
  "nbformat": 4,
  "nbformat_minor": 0,
  "metadata": {
    "colab": {
      "name": "444_64120015.ipynb",
      "provenance": []
    },
    "kernelspec": {
      "name": "python3",
      "display_name": "Python 3"
    },
    "language_info": {
      "name": "python"
    }
  },
  "cells": [
    {
      "cell_type": "code",
      "source": [
        "class Car:\n",
        "  def __init__(self, name, color , weight , ctype):\n",
        "    self.name = name\n",
        "    self.color = color\n",
        "    self.weight = weight\n",
        "    self.ctype = ctype\n",
        "  def moveforward(self):\n",
        "  \tprint(self.name,\"move-forward\")\n",
        "  def movebackward(self):\n",
        "  \tprint(self.name,\"move-backward\")\n",
        "  def fuel(self):\n",
        "  \tprint(self.name,\"Fill up the gas tank at PTT station\")\n",
        "  def wind(self):\n",
        "  \tprint(self.name,\"put air into the tire\")\n",
        "\n",
        "\n",
        "p1 = Car(\"Honda\", \"red\" , 600 , \"diesel\")\n",
        "p2 = Car(\"Toyota\", \"blue\" , 700 , \"diesel\")\n",
        "p3 = Car(\"Tesla\", \"red\" , 800 , \"bensin\")\n",
        "\n",
        "print(p1.name)\n",
        "print(p1.color)\n",
        "p1.wind()\n",
        "\n",
        "print('-------')\n",
        "print(p2.name)\n",
        "print(p2.color)\n",
        "p2.wind()\n",
        "\n",
        "print('-------')\n",
        "print(p3.name)\n",
        "print(p3.color)\n",
        "p3.wind()"
      ],
      "metadata": {
        "id": "DS4ydDuiQ0Dp"
      },
      "execution_count": 19,
      "outputs": []
    }
  ]
}